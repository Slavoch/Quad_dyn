{
 "cells": [
  {
   "cell_type": "code",
   "execution_count": 183,
   "metadata": {},
   "outputs": [
    {
     "name": "stdout",
     "output_type": "stream",
     "text": [
      "Requirement already satisfied: numpy in /home/slava/Desktop/Docker/venv/lib/python3.9/site-packages (1.24.2)\n",
      "Requirement already satisfied: casadi in /home/slava/Desktop/Docker/venv/lib/python3.9/site-packages (3.6.1)\n",
      "Requirement already satisfied: numpy in /home/slava/Desktop/Docker/venv/lib/python3.9/site-packages (from casadi) (1.24.2)\n",
      "Requirement already satisfied: sympy in /home/slava/Desktop/Docker/venv/lib/python3.9/site-packages (1.11.1)\n",
      "Requirement already satisfied: mpmath>=0.19 in /home/slava/Desktop/Docker/venv/lib/python3.9/site-packages (from sympy) (1.3.0)\n"
     ]
    }
   ],
   "source": [
    "!pip install numpy\n",
    "!pip install casadi\n",
    "!pip install sympy\n"
   ]
  },
  {
   "cell_type": "code",
   "execution_count": 184,
   "metadata": {},
   "outputs": [],
   "source": [
    "from sympy import *\n",
    "import numpy as np\n"
   ]
  },
  {
   "cell_type": "code",
   "execution_count": 185,
   "metadata": {},
   "outputs": [],
   "source": [
    "grav, t = symbols(\"g t\")\n",
    "# theta = symbols(\"theta_:3\")\n",
    "theta1 = Function(\"theta_0\")(t)\n",
    "theta2 = Function(\"theta_1\")(t)\n",
    "theta3 = Function(\"theta_2\")(t)\n",
    "theta = Matrix([theta1, theta2, theta3])\n",
    "\n",
    "p1 = Function(\"p_1\")(t)\n",
    "p2 = Function(\"p_2\")(t)\n",
    "p3 = Function(\"p_3\")(t)\n",
    "p = Matrix([p1, p2, p3])\n",
    "\n",
    "g = Matrix([0, 0, grav])\n",
    "\n",
    "# omega1 = Function(\"omega_1\")(t)\n",
    "# omega2 = Function(\"omega_2\")(t)\n",
    "# omega3 = Function(\"omega_3\")(t)\n",
    "# omega = Matrix([omega1, omega2, omega3])\n",
    "\n",
    "m1, m2, m3 = symbols(\"m m m\")\n",
    "I11, I22, I33 = symbols(\"I_11 I_22 I_33\")\n",
    "m = diag(*[m1, m2, m3])\n",
    "I = diag(*[I11, I22, I33])\n",
    "R1 = Matrix([[cos(theta[2]), -sin(theta[2]), 0],\n",
    "            [sin(theta[2]), cos(theta[2]), 0],\n",
    "             [0, 0, 1]])\n",
    "R2 = Matrix([[cos(theta[1]), 0, sin(theta[1])],\n",
    "            [0, 1, 0],\n",
    "             [-sin(theta[1]), 0, cos(theta[1])]])\n",
    "R3 = Matrix([[1, 0, 0],\n",
    "            [0, cos(theta[0]), -sin(theta[0])],\n",
    "             [0, sin(theta[0]), cos(theta[0])]])\n",
    "R = R1 @ R2 @ R3\n",
    "\n",
    "omega = R.T @ diff(theta, t)\n"
   ]
  },
  {
   "cell_type": "code",
   "execution_count": 186,
   "metadata": {},
   "outputs": [
    {
     "data": {
      "text/latex": [
       "$\\displaystyle \\left[\\begin{matrix}\\cos{\\left(\\theta_{1}{\\left(t \\right)} \\right)} \\cos{\\left(\\theta_{2}{\\left(t \\right)} \\right)} & \\sin{\\left(\\theta_{0}{\\left(t \\right)} \\right)} \\sin{\\left(\\theta_{1}{\\left(t \\right)} \\right)} \\cos{\\left(\\theta_{2}{\\left(t \\right)} \\right)} - \\sin{\\left(\\theta_{2}{\\left(t \\right)} \\right)} \\cos{\\left(\\theta_{0}{\\left(t \\right)} \\right)} & \\sin{\\left(\\theta_{0}{\\left(t \\right)} \\right)} \\sin{\\left(\\theta_{2}{\\left(t \\right)} \\right)} + \\sin{\\left(\\theta_{1}{\\left(t \\right)} \\right)} \\cos{\\left(\\theta_{0}{\\left(t \\right)} \\right)} \\cos{\\left(\\theta_{2}{\\left(t \\right)} \\right)}\\\\\\sin{\\left(\\theta_{2}{\\left(t \\right)} \\right)} \\cos{\\left(\\theta_{1}{\\left(t \\right)} \\right)} & \\sin{\\left(\\theta_{0}{\\left(t \\right)} \\right)} \\sin{\\left(\\theta_{1}{\\left(t \\right)} \\right)} \\sin{\\left(\\theta_{2}{\\left(t \\right)} \\right)} + \\cos{\\left(\\theta_{0}{\\left(t \\right)} \\right)} \\cos{\\left(\\theta_{2}{\\left(t \\right)} \\right)} & - \\sin{\\left(\\theta_{0}{\\left(t \\right)} \\right)} \\cos{\\left(\\theta_{2}{\\left(t \\right)} \\right)} + \\sin{\\left(\\theta_{1}{\\left(t \\right)} \\right)} \\sin{\\left(\\theta_{2}{\\left(t \\right)} \\right)} \\cos{\\left(\\theta_{0}{\\left(t \\right)} \\right)}\\\\- \\sin{\\left(\\theta_{1}{\\left(t \\right)} \\right)} & \\sin{\\left(\\theta_{0}{\\left(t \\right)} \\right)} \\cos{\\left(\\theta_{1}{\\left(t \\right)} \\right)} & \\cos{\\left(\\theta_{0}{\\left(t \\right)} \\right)} \\cos{\\left(\\theta_{1}{\\left(t \\right)} \\right)}\\end{matrix}\\right]$"
      ],
      "text/plain": [
       "Matrix([\n",
       "[cos(theta_1(t))*cos(theta_2(t)), sin(theta_0(t))*sin(theta_1(t))*cos(theta_2(t)) - sin(theta_2(t))*cos(theta_0(t)),  sin(theta_0(t))*sin(theta_2(t)) + sin(theta_1(t))*cos(theta_0(t))*cos(theta_2(t))],\n",
       "[sin(theta_2(t))*cos(theta_1(t)), sin(theta_0(t))*sin(theta_1(t))*sin(theta_2(t)) + cos(theta_0(t))*cos(theta_2(t)), -sin(theta_0(t))*cos(theta_2(t)) + sin(theta_1(t))*sin(theta_2(t))*cos(theta_0(t))],\n",
       "[               -sin(theta_1(t)),                                                   sin(theta_0(t))*cos(theta_1(t)),                                                    cos(theta_0(t))*cos(theta_1(t))]])"
      ]
     },
     "execution_count": 186,
     "metadata": {},
     "output_type": "execute_result"
    }
   ],
   "source": [
    "R\n"
   ]
  },
  {
   "cell_type": "code",
   "execution_count": 187,
   "metadata": {},
   "outputs": [],
   "source": [
    "T1 = simplify(diff(p, t).T @ m @ diff(p, t) * 1/2)\n",
    "T2 = simplify(omega.T @  I  @ omega * 1/2)\n",
    "V = g.T @ m @ p\n"
   ]
  },
  {
   "cell_type": "code",
   "execution_count": 188,
   "metadata": {},
   "outputs": [],
   "source": [
    "L = T1 + T2 - V\n"
   ]
  },
  {
   "cell_type": "code",
   "execution_count": null,
   "metadata": {},
   "outputs": [],
   "source": []
  },
  {
   "cell_type": "code",
   "execution_count": 189,
   "metadata": {},
   "outputs": [],
   "source": [
    "LLomega = simplify(T2.jacobian(diff(theta, t)))\n"
   ]
  },
  {
   "cell_type": "code",
   "execution_count": 190,
   "metadata": {},
   "outputs": [],
   "source": [
    "LLomega_t = simplify(diff(LLomega, t))\n"
   ]
  },
  {
   "cell_type": "code",
   "execution_count": 191,
   "metadata": {},
   "outputs": [
    {
     "data": {
      "text/latex": [
       "$\\displaystyle \\left[\\begin{matrix}- I_{11} \\left(- \\sin{\\left(\\theta_{1}{\\left(t \\right)} \\right)} \\frac{d}{d t} \\theta_{2}{\\left(t \\right)} + \\sin{\\left(\\theta_{2}{\\left(t \\right)} \\right)} \\cos{\\left(\\theta_{1}{\\left(t \\right)} \\right)} \\frac{d}{d t} \\theta_{1}{\\left(t \\right)} + \\cos{\\left(\\theta_{1}{\\left(t \\right)} \\right)} \\cos{\\left(\\theta_{2}{\\left(t \\right)} \\right)} \\frac{d}{d t} \\theta_{0}{\\left(t \\right)}\\right) \\sin{\\left(\\theta_{1}{\\left(t \\right)} \\right)} \\cos{\\left(\\theta_{2}{\\left(t \\right)} \\right)} \\frac{d}{d t} \\theta_{1}{\\left(t \\right)} - I_{11} \\left(- \\sin{\\left(\\theta_{1}{\\left(t \\right)} \\right)} \\frac{d}{d t} \\theta_{2}{\\left(t \\right)} + \\sin{\\left(\\theta_{2}{\\left(t \\right)} \\right)} \\cos{\\left(\\theta_{1}{\\left(t \\right)} \\right)} \\frac{d}{d t} \\theta_{1}{\\left(t \\right)} + \\cos{\\left(\\theta_{1}{\\left(t \\right)} \\right)} \\cos{\\left(\\theta_{2}{\\left(t \\right)} \\right)} \\frac{d}{d t} \\theta_{0}{\\left(t \\right)}\\right) \\sin{\\left(\\theta_{2}{\\left(t \\right)} \\right)} \\cos{\\left(\\theta_{1}{\\left(t \\right)} \\right)} \\frac{d}{d t} \\theta_{2}{\\left(t \\right)} - I_{11} \\left(\\sin{\\left(\\theta_{1}{\\left(t \\right)} \\right)} \\sin{\\left(\\theta_{2}{\\left(t \\right)} \\right)} \\left(\\frac{d}{d t} \\theta_{1}{\\left(t \\right)}\\right)^{2} + \\sin{\\left(\\theta_{1}{\\left(t \\right)} \\right)} \\cos{\\left(\\theta_{2}{\\left(t \\right)} \\right)} \\frac{d}{d t} \\theta_{0}{\\left(t \\right)} \\frac{d}{d t} \\theta_{1}{\\left(t \\right)} + \\sin{\\left(\\theta_{1}{\\left(t \\right)} \\right)} \\frac{d^{2}}{d t^{2}} \\theta_{2}{\\left(t \\right)} + \\sin{\\left(\\theta_{2}{\\left(t \\right)} \\right)} \\cos{\\left(\\theta_{1}{\\left(t \\right)} \\right)} \\frac{d}{d t} \\theta_{0}{\\left(t \\right)} \\frac{d}{d t} \\theta_{2}{\\left(t \\right)} - \\sin{\\left(\\theta_{2}{\\left(t \\right)} \\right)} \\cos{\\left(\\theta_{1}{\\left(t \\right)} \\right)} \\frac{d^{2}}{d t^{2}} \\theta_{1}{\\left(t \\right)} - \\cos{\\left(\\theta_{1}{\\left(t \\right)} \\right)} \\cos{\\left(\\theta_{2}{\\left(t \\right)} \\right)} \\frac{d^{2}}{d t^{2}} \\theta_{0}{\\left(t \\right)} - \\cos{\\left(\\theta_{1}{\\left(t \\right)} \\right)} \\cos{\\left(\\theta_{2}{\\left(t \\right)} \\right)} \\frac{d}{d t} \\theta_{1}{\\left(t \\right)} \\frac{d}{d t} \\theta_{2}{\\left(t \\right)} + \\cos{\\left(\\theta_{1}{\\left(t \\right)} \\right)} \\frac{d}{d t} \\theta_{1}{\\left(t \\right)} \\frac{d}{d t} \\theta_{2}{\\left(t \\right)}\\right) \\cos{\\left(\\theta_{1}{\\left(t \\right)} \\right)} \\cos{\\left(\\theta_{2}{\\left(t \\right)} \\right)} + I_{22} \\left(\\sin{\\left(\\theta_{0}{\\left(t \\right)} \\right)} \\sin{\\left(\\theta_{1}{\\left(t \\right)} \\right)} \\cos{\\left(\\theta_{2}{\\left(t \\right)} \\right)} - \\sin{\\left(\\theta_{2}{\\left(t \\right)} \\right)} \\cos{\\left(\\theta_{0}{\\left(t \\right)} \\right)}\\right) \\left(\\left(\\sin{\\left(\\theta_{0}{\\left(t \\right)} \\right)} \\sin{\\left(\\theta_{1}{\\left(t \\right)} \\right)} \\sin{\\left(\\theta_{2}{\\left(t \\right)} \\right)} + \\cos{\\left(\\theta_{0}{\\left(t \\right)} \\right)} \\cos{\\left(\\theta_{2}{\\left(t \\right)} \\right)}\\right) \\frac{d^{2}}{d t^{2}} \\theta_{1}{\\left(t \\right)} + \\left(\\sin{\\left(\\theta_{0}{\\left(t \\right)} \\right)} \\sin{\\left(\\theta_{1}{\\left(t \\right)} \\right)} \\cos{\\left(\\theta_{2}{\\left(t \\right)} \\right)} - \\sin{\\left(\\theta_{2}{\\left(t \\right)} \\right)} \\cos{\\left(\\theta_{0}{\\left(t \\right)} \\right)}\\right) \\frac{d^{2}}{d t^{2}} \\theta_{0}{\\left(t \\right)} + \\left(- \\sin{\\left(\\theta_{0}{\\left(t \\right)} \\right)} \\sin{\\left(\\theta_{1}{\\left(t \\right)} \\right)} \\sin{\\left(\\theta_{2}{\\left(t \\right)} \\right)} \\frac{d}{d t} \\theta_{2}{\\left(t \\right)} + \\sin{\\left(\\theta_{0}{\\left(t \\right)} \\right)} \\sin{\\left(\\theta_{2}{\\left(t \\right)} \\right)} \\frac{d}{d t} \\theta_{0}{\\left(t \\right)} + \\sin{\\left(\\theta_{0}{\\left(t \\right)} \\right)} \\cos{\\left(\\theta_{1}{\\left(t \\right)} \\right)} \\cos{\\left(\\theta_{2}{\\left(t \\right)} \\right)} \\frac{d}{d t} \\theta_{1}{\\left(t \\right)} + \\sin{\\left(\\theta_{1}{\\left(t \\right)} \\right)} \\cos{\\left(\\theta_{0}{\\left(t \\right)} \\right)} \\cos{\\left(\\theta_{2}{\\left(t \\right)} \\right)} \\frac{d}{d t} \\theta_{0}{\\left(t \\right)} - \\cos{\\left(\\theta_{0}{\\left(t \\right)} \\right)} \\cos{\\left(\\theta_{2}{\\left(t \\right)} \\right)} \\frac{d}{d t} \\theta_{2}{\\left(t \\right)}\\right) \\frac{d}{d t} \\theta_{0}{\\left(t \\right)} + \\left(\\sin{\\left(\\theta_{0}{\\left(t \\right)} \\right)} \\sin{\\left(\\theta_{1}{\\left(t \\right)} \\right)} \\cos{\\left(\\theta_{2}{\\left(t \\right)} \\right)} \\frac{d}{d t} \\theta_{2}{\\left(t \\right)} + \\sin{\\left(\\theta_{0}{\\left(t \\right)} \\right)} \\sin{\\left(\\theta_{2}{\\left(t \\right)} \\right)} \\cos{\\left(\\theta_{1}{\\left(t \\right)} \\right)} \\frac{d}{d t} \\theta_{1}{\\left(t \\right)} - \\sin{\\left(\\theta_{0}{\\left(t \\right)} \\right)} \\cos{\\left(\\theta_{2}{\\left(t \\right)} \\right)} \\frac{d}{d t} \\theta_{0}{\\left(t \\right)} + \\sin{\\left(\\theta_{1}{\\left(t \\right)} \\right)} \\sin{\\left(\\theta_{2}{\\left(t \\right)} \\right)} \\cos{\\left(\\theta_{0}{\\left(t \\right)} \\right)} \\frac{d}{d t} \\theta_{0}{\\left(t \\right)} - \\sin{\\left(\\theta_{2}{\\left(t \\right)} \\right)} \\cos{\\left(\\theta_{0}{\\left(t \\right)} \\right)} \\frac{d}{d t} \\theta_{2}{\\left(t \\right)}\\right) \\frac{d}{d t} \\theta_{1}{\\left(t \\right)} - \\sin{\\left(\\theta_{0}{\\left(t \\right)} \\right)} \\sin{\\left(\\theta_{1}{\\left(t \\right)} \\right)} \\frac{d}{d t} \\theta_{1}{\\left(t \\right)} \\frac{d}{d t} \\theta_{2}{\\left(t \\right)} + \\sin{\\left(\\theta_{0}{\\left(t \\right)} \\right)} \\cos{\\left(\\theta_{1}{\\left(t \\right)} \\right)} \\frac{d^{2}}{d t^{2}} \\theta_{2}{\\left(t \\right)} + \\cos{\\left(\\theta_{0}{\\left(t \\right)} \\right)} \\cos{\\left(\\theta_{1}{\\left(t \\right)} \\right)} \\frac{d}{d t} \\theta_{0}{\\left(t \\right)} \\frac{d}{d t} \\theta_{2}{\\left(t \\right)}\\right) + I_{22} \\left(\\left(\\sin{\\left(\\theta_{0}{\\left(t \\right)} \\right)} \\sin{\\left(\\theta_{1}{\\left(t \\right)} \\right)} \\sin{\\left(\\theta_{2}{\\left(t \\right)} \\right)} + \\cos{\\left(\\theta_{0}{\\left(t \\right)} \\right)} \\cos{\\left(\\theta_{2}{\\left(t \\right)} \\right)}\\right) \\frac{d}{d t} \\theta_{1}{\\left(t \\right)} + \\left(\\sin{\\left(\\theta_{0}{\\left(t \\right)} \\right)} \\sin{\\left(\\theta_{1}{\\left(t \\right)} \\right)} \\cos{\\left(\\theta_{2}{\\left(t \\right)} \\right)} - \\sin{\\left(\\theta_{2}{\\left(t \\right)} \\right)} \\cos{\\left(\\theta_{0}{\\left(t \\right)} \\right)}\\right) \\frac{d}{d t} \\theta_{0}{\\left(t \\right)} + \\sin{\\left(\\theta_{0}{\\left(t \\right)} \\right)} \\cos{\\left(\\theta_{1}{\\left(t \\right)} \\right)} \\frac{d}{d t} \\theta_{2}{\\left(t \\right)}\\right) \\left(- \\sin{\\left(\\theta_{0}{\\left(t \\right)} \\right)} \\sin{\\left(\\theta_{1}{\\left(t \\right)} \\right)} \\sin{\\left(\\theta_{2}{\\left(t \\right)} \\right)} \\frac{d}{d t} \\theta_{2}{\\left(t \\right)} + \\sin{\\left(\\theta_{0}{\\left(t \\right)} \\right)} \\sin{\\left(\\theta_{2}{\\left(t \\right)} \\right)} \\frac{d}{d t} \\theta_{0}{\\left(t \\right)} + \\sin{\\left(\\theta_{0}{\\left(t \\right)} \\right)} \\cos{\\left(\\theta_{1}{\\left(t \\right)} \\right)} \\cos{\\left(\\theta_{2}{\\left(t \\right)} \\right)} \\frac{d}{d t} \\theta_{1}{\\left(t \\right)} + \\sin{\\left(\\theta_{1}{\\left(t \\right)} \\right)} \\cos{\\left(\\theta_{0}{\\left(t \\right)} \\right)} \\cos{\\left(\\theta_{2}{\\left(t \\right)} \\right)} \\frac{d}{d t} \\theta_{0}{\\left(t \\right)} - \\cos{\\left(\\theta_{0}{\\left(t \\right)} \\right)} \\cos{\\left(\\theta_{2}{\\left(t \\right)} \\right)} \\frac{d}{d t} \\theta_{2}{\\left(t \\right)}\\right) + I_{33} \\left(\\sin{\\left(\\theta_{0}{\\left(t \\right)} \\right)} \\sin{\\left(\\theta_{2}{\\left(t \\right)} \\right)} + \\sin{\\left(\\theta_{1}{\\left(t \\right)} \\right)} \\cos{\\left(\\theta_{0}{\\left(t \\right)} \\right)} \\cos{\\left(\\theta_{2}{\\left(t \\right)} \\right)}\\right) \\left(\\left(\\sin{\\left(\\theta_{0}{\\left(t \\right)} \\right)} \\sin{\\left(\\theta_{2}{\\left(t \\right)} \\right)} + \\sin{\\left(\\theta_{1}{\\left(t \\right)} \\right)} \\cos{\\left(\\theta_{0}{\\left(t \\right)} \\right)} \\cos{\\left(\\theta_{2}{\\left(t \\right)} \\right)}\\right) \\frac{d^{2}}{d t^{2}} \\theta_{0}{\\left(t \\right)} - \\left(\\sin{\\left(\\theta_{0}{\\left(t \\right)} \\right)} \\cos{\\left(\\theta_{2}{\\left(t \\right)} \\right)} - \\sin{\\left(\\theta_{1}{\\left(t \\right)} \\right)} \\sin{\\left(\\theta_{2}{\\left(t \\right)} \\right)} \\cos{\\left(\\theta_{0}{\\left(t \\right)} \\right)}\\right) \\frac{d^{2}}{d t^{2}} \\theta_{1}{\\left(t \\right)} + \\left(- \\sin{\\left(\\theta_{0}{\\left(t \\right)} \\right)} \\sin{\\left(\\theta_{1}{\\left(t \\right)} \\right)} \\sin{\\left(\\theta_{2}{\\left(t \\right)} \\right)} \\frac{d}{d t} \\theta_{0}{\\left(t \\right)} + \\sin{\\left(\\theta_{0}{\\left(t \\right)} \\right)} \\sin{\\left(\\theta_{2}{\\left(t \\right)} \\right)} \\frac{d}{d t} \\theta_{2}{\\left(t \\right)} + \\sin{\\left(\\theta_{1}{\\left(t \\right)} \\right)} \\cos{\\left(\\theta_{0}{\\left(t \\right)} \\right)} \\cos{\\left(\\theta_{2}{\\left(t \\right)} \\right)} \\frac{d}{d t} \\theta_{2}{\\left(t \\right)} + \\sin{\\left(\\theta_{2}{\\left(t \\right)} \\right)} \\cos{\\left(\\theta_{0}{\\left(t \\right)} \\right)} \\cos{\\left(\\theta_{1}{\\left(t \\right)} \\right)} \\frac{d}{d t} \\theta_{1}{\\left(t \\right)} - \\cos{\\left(\\theta_{0}{\\left(t \\right)} \\right)} \\cos{\\left(\\theta_{2}{\\left(t \\right)} \\right)} \\frac{d}{d t} \\theta_{0}{\\left(t \\right)}\\right) \\frac{d}{d t} \\theta_{1}{\\left(t \\right)} + \\left(- \\sin{\\left(\\theta_{0}{\\left(t \\right)} \\right)} \\sin{\\left(\\theta_{1}{\\left(t \\right)} \\right)} \\cos{\\left(\\theta_{2}{\\left(t \\right)} \\right)} \\frac{d}{d t} \\theta_{0}{\\left(t \\right)} + \\sin{\\left(\\theta_{0}{\\left(t \\right)} \\right)} \\cos{\\left(\\theta_{2}{\\left(t \\right)} \\right)} \\frac{d}{d t} \\theta_{2}{\\left(t \\right)} - \\sin{\\left(\\theta_{1}{\\left(t \\right)} \\right)} \\sin{\\left(\\theta_{2}{\\left(t \\right)} \\right)} \\cos{\\left(\\theta_{0}{\\left(t \\right)} \\right)} \\frac{d}{d t} \\theta_{2}{\\left(t \\right)} + \\sin{\\left(\\theta_{2}{\\left(t \\right)} \\right)} \\cos{\\left(\\theta_{0}{\\left(t \\right)} \\right)} \\frac{d}{d t} \\theta_{0}{\\left(t \\right)} + \\cos{\\left(\\theta_{0}{\\left(t \\right)} \\right)} \\cos{\\left(\\theta_{1}{\\left(t \\right)} \\right)} \\cos{\\left(\\theta_{2}{\\left(t \\right)} \\right)} \\frac{d}{d t} \\theta_{1}{\\left(t \\right)}\\right) \\frac{d}{d t} \\theta_{0}{\\left(t \\right)} - \\sin{\\left(\\theta_{0}{\\left(t \\right)} \\right)} \\cos{\\left(\\theta_{1}{\\left(t \\right)} \\right)} \\frac{d}{d t} \\theta_{0}{\\left(t \\right)} \\frac{d}{d t} \\theta_{2}{\\left(t \\right)} - \\sin{\\left(\\theta_{1}{\\left(t \\right)} \\right)} \\cos{\\left(\\theta_{0}{\\left(t \\right)} \\right)} \\frac{d}{d t} \\theta_{1}{\\left(t \\right)} \\frac{d}{d t} \\theta_{2}{\\left(t \\right)} + \\cos{\\left(\\theta_{0}{\\left(t \\right)} \\right)} \\cos{\\left(\\theta_{1}{\\left(t \\right)} \\right)} \\frac{d^{2}}{d t^{2}} \\theta_{2}{\\left(t \\right)}\\right) + I_{33} \\left(\\left(\\sin{\\left(\\theta_{0}{\\left(t \\right)} \\right)} \\sin{\\left(\\theta_{2}{\\left(t \\right)} \\right)} + \\sin{\\left(\\theta_{1}{\\left(t \\right)} \\right)} \\cos{\\left(\\theta_{0}{\\left(t \\right)} \\right)} \\cos{\\left(\\theta_{2}{\\left(t \\right)} \\right)}\\right) \\frac{d}{d t} \\theta_{0}{\\left(t \\right)} - \\left(\\sin{\\left(\\theta_{0}{\\left(t \\right)} \\right)} \\cos{\\left(\\theta_{2}{\\left(t \\right)} \\right)} - \\sin{\\left(\\theta_{1}{\\left(t \\right)} \\right)} \\sin{\\left(\\theta_{2}{\\left(t \\right)} \\right)} \\cos{\\left(\\theta_{0}{\\left(t \\right)} \\right)}\\right) \\frac{d}{d t} \\theta_{1}{\\left(t \\right)} + \\cos{\\left(\\theta_{0}{\\left(t \\right)} \\right)} \\cos{\\left(\\theta_{1}{\\left(t \\right)} \\right)} \\frac{d}{d t} \\theta_{2}{\\left(t \\right)}\\right) \\left(- \\sin{\\left(\\theta_{0}{\\left(t \\right)} \\right)} \\sin{\\left(\\theta_{1}{\\left(t \\right)} \\right)} \\cos{\\left(\\theta_{2}{\\left(t \\right)} \\right)} \\frac{d}{d t} \\theta_{0}{\\left(t \\right)} + \\sin{\\left(\\theta_{0}{\\left(t \\right)} \\right)} \\cos{\\left(\\theta_{2}{\\left(t \\right)} \\right)} \\frac{d}{d t} \\theta_{2}{\\left(t \\right)} - \\sin{\\left(\\theta_{1}{\\left(t \\right)} \\right)} \\sin{\\left(\\theta_{2}{\\left(t \\right)} \\right)} \\cos{\\left(\\theta_{0}{\\left(t \\right)} \\right)} \\frac{d}{d t} \\theta_{2}{\\left(t \\right)} + \\sin{\\left(\\theta_{2}{\\left(t \\right)} \\right)} \\cos{\\left(\\theta_{0}{\\left(t \\right)} \\right)} \\frac{d}{d t} \\theta_{0}{\\left(t \\right)} + \\cos{\\left(\\theta_{0}{\\left(t \\right)} \\right)} \\cos{\\left(\\theta_{1}{\\left(t \\right)} \\right)} \\cos{\\left(\\theta_{2}{\\left(t \\right)} \\right)} \\frac{d}{d t} \\theta_{1}{\\left(t \\right)}\\right) & - I_{11} \\left(- \\sin{\\left(\\theta_{1}{\\left(t \\right)} \\right)} \\frac{d}{d t} \\theta_{2}{\\left(t \\right)} + \\sin{\\left(\\theta_{2}{\\left(t \\right)} \\right)} \\cos{\\left(\\theta_{1}{\\left(t \\right)} \\right)} \\frac{d}{d t} \\theta_{1}{\\left(t \\right)} + \\cos{\\left(\\theta_{1}{\\left(t \\right)} \\right)} \\cos{\\left(\\theta_{2}{\\left(t \\right)} \\right)} \\frac{d}{d t} \\theta_{0}{\\left(t \\right)}\\right) \\sin{\\left(\\theta_{1}{\\left(t \\right)} \\right)} \\sin{\\left(\\theta_{2}{\\left(t \\right)} \\right)} \\frac{d}{d t} \\theta_{1}{\\left(t \\right)} + I_{11} \\left(- \\sin{\\left(\\theta_{1}{\\left(t \\right)} \\right)} \\frac{d}{d t} \\theta_{2}{\\left(t \\right)} + \\sin{\\left(\\theta_{2}{\\left(t \\right)} \\right)} \\cos{\\left(\\theta_{1}{\\left(t \\right)} \\right)} \\frac{d}{d t} \\theta_{1}{\\left(t \\right)} + \\cos{\\left(\\theta_{1}{\\left(t \\right)} \\right)} \\cos{\\left(\\theta_{2}{\\left(t \\right)} \\right)} \\frac{d}{d t} \\theta_{0}{\\left(t \\right)}\\right) \\cos{\\left(\\theta_{1}{\\left(t \\right)} \\right)} \\cos{\\left(\\theta_{2}{\\left(t \\right)} \\right)} \\frac{d}{d t} \\theta_{2}{\\left(t \\right)} - I_{11} \\left(\\sin{\\left(\\theta_{1}{\\left(t \\right)} \\right)} \\sin{\\left(\\theta_{2}{\\left(t \\right)} \\right)} \\left(\\frac{d}{d t} \\theta_{1}{\\left(t \\right)}\\right)^{2} + \\sin{\\left(\\theta_{1}{\\left(t \\right)} \\right)} \\cos{\\left(\\theta_{2}{\\left(t \\right)} \\right)} \\frac{d}{d t} \\theta_{0}{\\left(t \\right)} \\frac{d}{d t} \\theta_{1}{\\left(t \\right)} + \\sin{\\left(\\theta_{1}{\\left(t \\right)} \\right)} \\frac{d^{2}}{d t^{2}} \\theta_{2}{\\left(t \\right)} + \\sin{\\left(\\theta_{2}{\\left(t \\right)} \\right)} \\cos{\\left(\\theta_{1}{\\left(t \\right)} \\right)} \\frac{d}{d t} \\theta_{0}{\\left(t \\right)} \\frac{d}{d t} \\theta_{2}{\\left(t \\right)} - \\sin{\\left(\\theta_{2}{\\left(t \\right)} \\right)} \\cos{\\left(\\theta_{1}{\\left(t \\right)} \\right)} \\frac{d^{2}}{d t^{2}} \\theta_{1}{\\left(t \\right)} - \\cos{\\left(\\theta_{1}{\\left(t \\right)} \\right)} \\cos{\\left(\\theta_{2}{\\left(t \\right)} \\right)} \\frac{d^{2}}{d t^{2}} \\theta_{0}{\\left(t \\right)} - \\cos{\\left(\\theta_{1}{\\left(t \\right)} \\right)} \\cos{\\left(\\theta_{2}{\\left(t \\right)} \\right)} \\frac{d}{d t} \\theta_{1}{\\left(t \\right)} \\frac{d}{d t} \\theta_{2}{\\left(t \\right)} + \\cos{\\left(\\theta_{1}{\\left(t \\right)} \\right)} \\frac{d}{d t} \\theta_{1}{\\left(t \\right)} \\frac{d}{d t} \\theta_{2}{\\left(t \\right)}\\right) \\sin{\\left(\\theta_{2}{\\left(t \\right)} \\right)} \\cos{\\left(\\theta_{1}{\\left(t \\right)} \\right)} + I_{22} \\left(\\sin{\\left(\\theta_{0}{\\left(t \\right)} \\right)} \\sin{\\left(\\theta_{1}{\\left(t \\right)} \\right)} \\sin{\\left(\\theta_{2}{\\left(t \\right)} \\right)} + \\cos{\\left(\\theta_{0}{\\left(t \\right)} \\right)} \\cos{\\left(\\theta_{2}{\\left(t \\right)} \\right)}\\right) \\left(\\left(\\sin{\\left(\\theta_{0}{\\left(t \\right)} \\right)} \\sin{\\left(\\theta_{1}{\\left(t \\right)} \\right)} \\sin{\\left(\\theta_{2}{\\left(t \\right)} \\right)} + \\cos{\\left(\\theta_{0}{\\left(t \\right)} \\right)} \\cos{\\left(\\theta_{2}{\\left(t \\right)} \\right)}\\right) \\frac{d^{2}}{d t^{2}} \\theta_{1}{\\left(t \\right)} + \\left(\\sin{\\left(\\theta_{0}{\\left(t \\right)} \\right)} \\sin{\\left(\\theta_{1}{\\left(t \\right)} \\right)} \\cos{\\left(\\theta_{2}{\\left(t \\right)} \\right)} - \\sin{\\left(\\theta_{2}{\\left(t \\right)} \\right)} \\cos{\\left(\\theta_{0}{\\left(t \\right)} \\right)}\\right) \\frac{d^{2}}{d t^{2}} \\theta_{0}{\\left(t \\right)} + \\left(- \\sin{\\left(\\theta_{0}{\\left(t \\right)} \\right)} \\sin{\\left(\\theta_{1}{\\left(t \\right)} \\right)} \\sin{\\left(\\theta_{2}{\\left(t \\right)} \\right)} \\frac{d}{d t} \\theta_{2}{\\left(t \\right)} + \\sin{\\left(\\theta_{0}{\\left(t \\right)} \\right)} \\sin{\\left(\\theta_{2}{\\left(t \\right)} \\right)} \\frac{d}{d t} \\theta_{0}{\\left(t \\right)} + \\sin{\\left(\\theta_{0}{\\left(t \\right)} \\right)} \\cos{\\left(\\theta_{1}{\\left(t \\right)} \\right)} \\cos{\\left(\\theta_{2}{\\left(t \\right)} \\right)} \\frac{d}{d t} \\theta_{1}{\\left(t \\right)} + \\sin{\\left(\\theta_{1}{\\left(t \\right)} \\right)} \\cos{\\left(\\theta_{0}{\\left(t \\right)} \\right)} \\cos{\\left(\\theta_{2}{\\left(t \\right)} \\right)} \\frac{d}{d t} \\theta_{0}{\\left(t \\right)} - \\cos{\\left(\\theta_{0}{\\left(t \\right)} \\right)} \\cos{\\left(\\theta_{2}{\\left(t \\right)} \\right)} \\frac{d}{d t} \\theta_{2}{\\left(t \\right)}\\right) \\frac{d}{d t} \\theta_{0}{\\left(t \\right)} + \\left(\\sin{\\left(\\theta_{0}{\\left(t \\right)} \\right)} \\sin{\\left(\\theta_{1}{\\left(t \\right)} \\right)} \\cos{\\left(\\theta_{2}{\\left(t \\right)} \\right)} \\frac{d}{d t} \\theta_{2}{\\left(t \\right)} + \\sin{\\left(\\theta_{0}{\\left(t \\right)} \\right)} \\sin{\\left(\\theta_{2}{\\left(t \\right)} \\right)} \\cos{\\left(\\theta_{1}{\\left(t \\right)} \\right)} \\frac{d}{d t} \\theta_{1}{\\left(t \\right)} - \\sin{\\left(\\theta_{0}{\\left(t \\right)} \\right)} \\cos{\\left(\\theta_{2}{\\left(t \\right)} \\right)} \\frac{d}{d t} \\theta_{0}{\\left(t \\right)} + \\sin{\\left(\\theta_{1}{\\left(t \\right)} \\right)} \\sin{\\left(\\theta_{2}{\\left(t \\right)} \\right)} \\cos{\\left(\\theta_{0}{\\left(t \\right)} \\right)} \\frac{d}{d t} \\theta_{0}{\\left(t \\right)} - \\sin{\\left(\\theta_{2}{\\left(t \\right)} \\right)} \\cos{\\left(\\theta_{0}{\\left(t \\right)} \\right)} \\frac{d}{d t} \\theta_{2}{\\left(t \\right)}\\right) \\frac{d}{d t} \\theta_{1}{\\left(t \\right)} - \\sin{\\left(\\theta_{0}{\\left(t \\right)} \\right)} \\sin{\\left(\\theta_{1}{\\left(t \\right)} \\right)} \\frac{d}{d t} \\theta_{1}{\\left(t \\right)} \\frac{d}{d t} \\theta_{2}{\\left(t \\right)} + \\sin{\\left(\\theta_{0}{\\left(t \\right)} \\right)} \\cos{\\left(\\theta_{1}{\\left(t \\right)} \\right)} \\frac{d^{2}}{d t^{2}} \\theta_{2}{\\left(t \\right)} + \\cos{\\left(\\theta_{0}{\\left(t \\right)} \\right)} \\cos{\\left(\\theta_{1}{\\left(t \\right)} \\right)} \\frac{d}{d t} \\theta_{0}{\\left(t \\right)} \\frac{d}{d t} \\theta_{2}{\\left(t \\right)}\\right) + I_{22} \\left(\\left(\\sin{\\left(\\theta_{0}{\\left(t \\right)} \\right)} \\sin{\\left(\\theta_{1}{\\left(t \\right)} \\right)} \\sin{\\left(\\theta_{2}{\\left(t \\right)} \\right)} + \\cos{\\left(\\theta_{0}{\\left(t \\right)} \\right)} \\cos{\\left(\\theta_{2}{\\left(t \\right)} \\right)}\\right) \\frac{d}{d t} \\theta_{1}{\\left(t \\right)} + \\left(\\sin{\\left(\\theta_{0}{\\left(t \\right)} \\right)} \\sin{\\left(\\theta_{1}{\\left(t \\right)} \\right)} \\cos{\\left(\\theta_{2}{\\left(t \\right)} \\right)} - \\sin{\\left(\\theta_{2}{\\left(t \\right)} \\right)} \\cos{\\left(\\theta_{0}{\\left(t \\right)} \\right)}\\right) \\frac{d}{d t} \\theta_{0}{\\left(t \\right)} + \\sin{\\left(\\theta_{0}{\\left(t \\right)} \\right)} \\cos{\\left(\\theta_{1}{\\left(t \\right)} \\right)} \\frac{d}{d t} \\theta_{2}{\\left(t \\right)}\\right) \\left(\\sin{\\left(\\theta_{0}{\\left(t \\right)} \\right)} \\sin{\\left(\\theta_{1}{\\left(t \\right)} \\right)} \\cos{\\left(\\theta_{2}{\\left(t \\right)} \\right)} \\frac{d}{d t} \\theta_{2}{\\left(t \\right)} + \\sin{\\left(\\theta_{0}{\\left(t \\right)} \\right)} \\sin{\\left(\\theta_{2}{\\left(t \\right)} \\right)} \\cos{\\left(\\theta_{1}{\\left(t \\right)} \\right)} \\frac{d}{d t} \\theta_{1}{\\left(t \\right)} - \\sin{\\left(\\theta_{0}{\\left(t \\right)} \\right)} \\cos{\\left(\\theta_{2}{\\left(t \\right)} \\right)} \\frac{d}{d t} \\theta_{0}{\\left(t \\right)} + \\sin{\\left(\\theta_{1}{\\left(t \\right)} \\right)} \\sin{\\left(\\theta_{2}{\\left(t \\right)} \\right)} \\cos{\\left(\\theta_{0}{\\left(t \\right)} \\right)} \\frac{d}{d t} \\theta_{0}{\\left(t \\right)} - \\sin{\\left(\\theta_{2}{\\left(t \\right)} \\right)} \\cos{\\left(\\theta_{0}{\\left(t \\right)} \\right)} \\frac{d}{d t} \\theta_{2}{\\left(t \\right)}\\right) - I_{33} \\left(\\sin{\\left(\\theta_{0}{\\left(t \\right)} \\right)} \\cos{\\left(\\theta_{2}{\\left(t \\right)} \\right)} - \\sin{\\left(\\theta_{1}{\\left(t \\right)} \\right)} \\sin{\\left(\\theta_{2}{\\left(t \\right)} \\right)} \\cos{\\left(\\theta_{0}{\\left(t \\right)} \\right)}\\right) \\left(\\left(\\sin{\\left(\\theta_{0}{\\left(t \\right)} \\right)} \\sin{\\left(\\theta_{2}{\\left(t \\right)} \\right)} + \\sin{\\left(\\theta_{1}{\\left(t \\right)} \\right)} \\cos{\\left(\\theta_{0}{\\left(t \\right)} \\right)} \\cos{\\left(\\theta_{2}{\\left(t \\right)} \\right)}\\right) \\frac{d^{2}}{d t^{2}} \\theta_{0}{\\left(t \\right)} - \\left(\\sin{\\left(\\theta_{0}{\\left(t \\right)} \\right)} \\cos{\\left(\\theta_{2}{\\left(t \\right)} \\right)} - \\sin{\\left(\\theta_{1}{\\left(t \\right)} \\right)} \\sin{\\left(\\theta_{2}{\\left(t \\right)} \\right)} \\cos{\\left(\\theta_{0}{\\left(t \\right)} \\right)}\\right) \\frac{d^{2}}{d t^{2}} \\theta_{1}{\\left(t \\right)} + \\left(- \\sin{\\left(\\theta_{0}{\\left(t \\right)} \\right)} \\sin{\\left(\\theta_{1}{\\left(t \\right)} \\right)} \\sin{\\left(\\theta_{2}{\\left(t \\right)} \\right)} \\frac{d}{d t} \\theta_{0}{\\left(t \\right)} + \\sin{\\left(\\theta_{0}{\\left(t \\right)} \\right)} \\sin{\\left(\\theta_{2}{\\left(t \\right)} \\right)} \\frac{d}{d t} \\theta_{2}{\\left(t \\right)} + \\sin{\\left(\\theta_{1}{\\left(t \\right)} \\right)} \\cos{\\left(\\theta_{0}{\\left(t \\right)} \\right)} \\cos{\\left(\\theta_{2}{\\left(t \\right)} \\right)} \\frac{d}{d t} \\theta_{2}{\\left(t \\right)} + \\sin{\\left(\\theta_{2}{\\left(t \\right)} \\right)} \\cos{\\left(\\theta_{0}{\\left(t \\right)} \\right)} \\cos{\\left(\\theta_{1}{\\left(t \\right)} \\right)} \\frac{d}{d t} \\theta_{1}{\\left(t \\right)} - \\cos{\\left(\\theta_{0}{\\left(t \\right)} \\right)} \\cos{\\left(\\theta_{2}{\\left(t \\right)} \\right)} \\frac{d}{d t} \\theta_{0}{\\left(t \\right)}\\right) \\frac{d}{d t} \\theta_{1}{\\left(t \\right)} + \\left(- \\sin{\\left(\\theta_{0}{\\left(t \\right)} \\right)} \\sin{\\left(\\theta_{1}{\\left(t \\right)} \\right)} \\cos{\\left(\\theta_{2}{\\left(t \\right)} \\right)} \\frac{d}{d t} \\theta_{0}{\\left(t \\right)} + \\sin{\\left(\\theta_{0}{\\left(t \\right)} \\right)} \\cos{\\left(\\theta_{2}{\\left(t \\right)} \\right)} \\frac{d}{d t} \\theta_{2}{\\left(t \\right)} - \\sin{\\left(\\theta_{1}{\\left(t \\right)} \\right)} \\sin{\\left(\\theta_{2}{\\left(t \\right)} \\right)} \\cos{\\left(\\theta_{0}{\\left(t \\right)} \\right)} \\frac{d}{d t} \\theta_{2}{\\left(t \\right)} + \\sin{\\left(\\theta_{2}{\\left(t \\right)} \\right)} \\cos{\\left(\\theta_{0}{\\left(t \\right)} \\right)} \\frac{d}{d t} \\theta_{0}{\\left(t \\right)} + \\cos{\\left(\\theta_{0}{\\left(t \\right)} \\right)} \\cos{\\left(\\theta_{1}{\\left(t \\right)} \\right)} \\cos{\\left(\\theta_{2}{\\left(t \\right)} \\right)} \\frac{d}{d t} \\theta_{1}{\\left(t \\right)}\\right) \\frac{d}{d t} \\theta_{0}{\\left(t \\right)} - \\sin{\\left(\\theta_{0}{\\left(t \\right)} \\right)} \\cos{\\left(\\theta_{1}{\\left(t \\right)} \\right)} \\frac{d}{d t} \\theta_{0}{\\left(t \\right)} \\frac{d}{d t} \\theta_{2}{\\left(t \\right)} - \\sin{\\left(\\theta_{1}{\\left(t \\right)} \\right)} \\cos{\\left(\\theta_{0}{\\left(t \\right)} \\right)} \\frac{d}{d t} \\theta_{1}{\\left(t \\right)} \\frac{d}{d t} \\theta_{2}{\\left(t \\right)} + \\cos{\\left(\\theta_{0}{\\left(t \\right)} \\right)} \\cos{\\left(\\theta_{1}{\\left(t \\right)} \\right)} \\frac{d^{2}}{d t^{2}} \\theta_{2}{\\left(t \\right)}\\right) + I_{33} \\left(\\left(\\sin{\\left(\\theta_{0}{\\left(t \\right)} \\right)} \\sin{\\left(\\theta_{2}{\\left(t \\right)} \\right)} + \\sin{\\left(\\theta_{1}{\\left(t \\right)} \\right)} \\cos{\\left(\\theta_{0}{\\left(t \\right)} \\right)} \\cos{\\left(\\theta_{2}{\\left(t \\right)} \\right)}\\right) \\frac{d}{d t} \\theta_{0}{\\left(t \\right)} - \\left(\\sin{\\left(\\theta_{0}{\\left(t \\right)} \\right)} \\cos{\\left(\\theta_{2}{\\left(t \\right)} \\right)} - \\sin{\\left(\\theta_{1}{\\left(t \\right)} \\right)} \\sin{\\left(\\theta_{2}{\\left(t \\right)} \\right)} \\cos{\\left(\\theta_{0}{\\left(t \\right)} \\right)}\\right) \\frac{d}{d t} \\theta_{1}{\\left(t \\right)} + \\cos{\\left(\\theta_{0}{\\left(t \\right)} \\right)} \\cos{\\left(\\theta_{1}{\\left(t \\right)} \\right)} \\frac{d}{d t} \\theta_{2}{\\left(t \\right)}\\right) \\left(- \\sin{\\left(\\theta_{0}{\\left(t \\right)} \\right)} \\sin{\\left(\\theta_{1}{\\left(t \\right)} \\right)} \\sin{\\left(\\theta_{2}{\\left(t \\right)} \\right)} \\frac{d}{d t} \\theta_{0}{\\left(t \\right)} + \\sin{\\left(\\theta_{0}{\\left(t \\right)} \\right)} \\sin{\\left(\\theta_{2}{\\left(t \\right)} \\right)} \\frac{d}{d t} \\theta_{2}{\\left(t \\right)} + \\sin{\\left(\\theta_{1}{\\left(t \\right)} \\right)} \\cos{\\left(\\theta_{0}{\\left(t \\right)} \\right)} \\cos{\\left(\\theta_{2}{\\left(t \\right)} \\right)} \\frac{d}{d t} \\theta_{2}{\\left(t \\right)} + \\sin{\\left(\\theta_{2}{\\left(t \\right)} \\right)} \\cos{\\left(\\theta_{0}{\\left(t \\right)} \\right)} \\cos{\\left(\\theta_{1}{\\left(t \\right)} \\right)} \\frac{d}{d t} \\theta_{1}{\\left(t \\right)} - \\cos{\\left(\\theta_{0}{\\left(t \\right)} \\right)} \\cos{\\left(\\theta_{2}{\\left(t \\right)} \\right)} \\frac{d}{d t} \\theta_{0}{\\left(t \\right)}\\right) & - \\frac{I_{11} \\left(- \\left(2 \\frac{d}{d t} \\theta_{1}{\\left(t \\right)} - \\frac{d}{d t} \\theta_{2}{\\left(t \\right)}\\right) \\sin{\\left(2 \\theta_{1}{\\left(t \\right)} - \\theta_{2}{\\left(t \\right)} \\right)} \\frac{d}{d t} \\theta_{1}{\\left(t \\right)} + \\left(2 \\frac{d}{d t} \\theta_{1}{\\left(t \\right)} - \\frac{d}{d t} \\theta_{2}{\\left(t \\right)}\\right) \\cos{\\left(2 \\theta_{1}{\\left(t \\right)} - \\theta_{2}{\\left(t \\right)} \\right)} \\frac{d}{d t} \\theta_{0}{\\left(t \\right)} + \\left(2 \\frac{d}{d t} \\theta_{1}{\\left(t \\right)} + \\frac{d}{d t} \\theta_{2}{\\left(t \\right)}\\right) \\sin{\\left(2 \\theta_{1}{\\left(t \\right)} + \\theta_{2}{\\left(t \\right)} \\right)} \\frac{d}{d t} \\theta_{1}{\\left(t \\right)} + \\left(2 \\frac{d}{d t} \\theta_{1}{\\left(t \\right)} + \\frac{d}{d t} \\theta_{2}{\\left(t \\right)}\\right) \\cos{\\left(2 \\theta_{1}{\\left(t \\right)} + \\theta_{2}{\\left(t \\right)} \\right)} \\frac{d}{d t} \\theta_{0}{\\left(t \\right)} + \\sin{\\left(2 \\theta_{1}{\\left(t \\right)} - \\theta_{2}{\\left(t \\right)} \\right)} \\frac{d^{2}}{d t^{2}} \\theta_{0}{\\left(t \\right)} + \\sin{\\left(2 \\theta_{1}{\\left(t \\right)} + \\theta_{2}{\\left(t \\right)} \\right)} \\frac{d^{2}}{d t^{2}} \\theta_{0}{\\left(t \\right)} - 4 \\sin{\\left(2 \\theta_{1}{\\left(t \\right)} \\right)} \\frac{d}{d t} \\theta_{1}{\\left(t \\right)} \\frac{d}{d t} \\theta_{2}{\\left(t \\right)} + \\cos{\\left(2 \\theta_{1}{\\left(t \\right)} - \\theta_{2}{\\left(t \\right)} \\right)} \\frac{d^{2}}{d t^{2}} \\theta_{1}{\\left(t \\right)} - \\cos{\\left(2 \\theta_{1}{\\left(t \\right)} + \\theta_{2}{\\left(t \\right)} \\right)} \\frac{d^{2}}{d t^{2}} \\theta_{1}{\\left(t \\right)} + 2 \\cos{\\left(2 \\theta_{1}{\\left(t \\right)} \\right)} \\frac{d^{2}}{d t^{2}} \\theta_{2}{\\left(t \\right)} - 2 \\frac{d^{2}}{d t^{2}} \\theta_{2}{\\left(t \\right)}\\right)}{4} - I_{22} \\left(\\left(\\sin{\\left(\\theta_{0}{\\left(t \\right)} \\right)} \\sin{\\left(\\theta_{1}{\\left(t \\right)} \\right)} \\sin{\\left(\\theta_{2}{\\left(t \\right)} \\right)} + \\cos{\\left(\\theta_{0}{\\left(t \\right)} \\right)} \\cos{\\left(\\theta_{2}{\\left(t \\right)} \\right)}\\right) \\frac{d}{d t} \\theta_{1}{\\left(t \\right)} + \\left(\\sin{\\left(\\theta_{0}{\\left(t \\right)} \\right)} \\sin{\\left(\\theta_{1}{\\left(t \\right)} \\right)} \\cos{\\left(\\theta_{2}{\\left(t \\right)} \\right)} - \\sin{\\left(\\theta_{2}{\\left(t \\right)} \\right)} \\cos{\\left(\\theta_{0}{\\left(t \\right)} \\right)}\\right) \\frac{d}{d t} \\theta_{0}{\\left(t \\right)} + \\sin{\\left(\\theta_{0}{\\left(t \\right)} \\right)} \\cos{\\left(\\theta_{1}{\\left(t \\right)} \\right)} \\frac{d}{d t} \\theta_{2}{\\left(t \\right)}\\right) \\sin{\\left(\\theta_{0}{\\left(t \\right)} \\right)} \\sin{\\left(\\theta_{1}{\\left(t \\right)} \\right)} \\frac{d}{d t} \\theta_{1}{\\left(t \\right)} + I_{22} \\left(\\left(\\sin{\\left(\\theta_{0}{\\left(t \\right)} \\right)} \\sin{\\left(\\theta_{1}{\\left(t \\right)} \\right)} \\sin{\\left(\\theta_{2}{\\left(t \\right)} \\right)} + \\cos{\\left(\\theta_{0}{\\left(t \\right)} \\right)} \\cos{\\left(\\theta_{2}{\\left(t \\right)} \\right)}\\right) \\frac{d}{d t} \\theta_{1}{\\left(t \\right)} + \\left(\\sin{\\left(\\theta_{0}{\\left(t \\right)} \\right)} \\sin{\\left(\\theta_{1}{\\left(t \\right)} \\right)} \\cos{\\left(\\theta_{2}{\\left(t \\right)} \\right)} - \\sin{\\left(\\theta_{2}{\\left(t \\right)} \\right)} \\cos{\\left(\\theta_{0}{\\left(t \\right)} \\right)}\\right) \\frac{d}{d t} \\theta_{0}{\\left(t \\right)} + \\sin{\\left(\\theta_{0}{\\left(t \\right)} \\right)} \\cos{\\left(\\theta_{1}{\\left(t \\right)} \\right)} \\frac{d}{d t} \\theta_{2}{\\left(t \\right)}\\right) \\cos{\\left(\\theta_{0}{\\left(t \\right)} \\right)} \\cos{\\left(\\theta_{1}{\\left(t \\right)} \\right)} \\frac{d}{d t} \\theta_{0}{\\left(t \\right)} + I_{22} \\left(\\left(\\sin{\\left(\\theta_{0}{\\left(t \\right)} \\right)} \\sin{\\left(\\theta_{1}{\\left(t \\right)} \\right)} \\sin{\\left(\\theta_{2}{\\left(t \\right)} \\right)} + \\cos{\\left(\\theta_{0}{\\left(t \\right)} \\right)} \\cos{\\left(\\theta_{2}{\\left(t \\right)} \\right)}\\right) \\frac{d^{2}}{d t^{2}} \\theta_{1}{\\left(t \\right)} + \\left(\\sin{\\left(\\theta_{0}{\\left(t \\right)} \\right)} \\sin{\\left(\\theta_{1}{\\left(t \\right)} \\right)} \\cos{\\left(\\theta_{2}{\\left(t \\right)} \\right)} - \\sin{\\left(\\theta_{2}{\\left(t \\right)} \\right)} \\cos{\\left(\\theta_{0}{\\left(t \\right)} \\right)}\\right) \\frac{d^{2}}{d t^{2}} \\theta_{0}{\\left(t \\right)} + \\left(- \\sin{\\left(\\theta_{0}{\\left(t \\right)} \\right)} \\sin{\\left(\\theta_{1}{\\left(t \\right)} \\right)} \\sin{\\left(\\theta_{2}{\\left(t \\right)} \\right)} \\frac{d}{d t} \\theta_{2}{\\left(t \\right)} + \\sin{\\left(\\theta_{0}{\\left(t \\right)} \\right)} \\sin{\\left(\\theta_{2}{\\left(t \\right)} \\right)} \\frac{d}{d t} \\theta_{0}{\\left(t \\right)} + \\sin{\\left(\\theta_{0}{\\left(t \\right)} \\right)} \\cos{\\left(\\theta_{1}{\\left(t \\right)} \\right)} \\cos{\\left(\\theta_{2}{\\left(t \\right)} \\right)} \\frac{d}{d t} \\theta_{1}{\\left(t \\right)} + \\sin{\\left(\\theta_{1}{\\left(t \\right)} \\right)} \\cos{\\left(\\theta_{0}{\\left(t \\right)} \\right)} \\cos{\\left(\\theta_{2}{\\left(t \\right)} \\right)} \\frac{d}{d t} \\theta_{0}{\\left(t \\right)} - \\cos{\\left(\\theta_{0}{\\left(t \\right)} \\right)} \\cos{\\left(\\theta_{2}{\\left(t \\right)} \\right)} \\frac{d}{d t} \\theta_{2}{\\left(t \\right)}\\right) \\frac{d}{d t} \\theta_{0}{\\left(t \\right)} + \\left(\\sin{\\left(\\theta_{0}{\\left(t \\right)} \\right)} \\sin{\\left(\\theta_{1}{\\left(t \\right)} \\right)} \\cos{\\left(\\theta_{2}{\\left(t \\right)} \\right)} \\frac{d}{d t} \\theta_{2}{\\left(t \\right)} + \\sin{\\left(\\theta_{0}{\\left(t \\right)} \\right)} \\sin{\\left(\\theta_{2}{\\left(t \\right)} \\right)} \\cos{\\left(\\theta_{1}{\\left(t \\right)} \\right)} \\frac{d}{d t} \\theta_{1}{\\left(t \\right)} - \\sin{\\left(\\theta_{0}{\\left(t \\right)} \\right)} \\cos{\\left(\\theta_{2}{\\left(t \\right)} \\right)} \\frac{d}{d t} \\theta_{0}{\\left(t \\right)} + \\sin{\\left(\\theta_{1}{\\left(t \\right)} \\right)} \\sin{\\left(\\theta_{2}{\\left(t \\right)} \\right)} \\cos{\\left(\\theta_{0}{\\left(t \\right)} \\right)} \\frac{d}{d t} \\theta_{0}{\\left(t \\right)} - \\sin{\\left(\\theta_{2}{\\left(t \\right)} \\right)} \\cos{\\left(\\theta_{0}{\\left(t \\right)} \\right)} \\frac{d}{d t} \\theta_{2}{\\left(t \\right)}\\right) \\frac{d}{d t} \\theta_{1}{\\left(t \\right)} - \\sin{\\left(\\theta_{0}{\\left(t \\right)} \\right)} \\sin{\\left(\\theta_{1}{\\left(t \\right)} \\right)} \\frac{d}{d t} \\theta_{1}{\\left(t \\right)} \\frac{d}{d t} \\theta_{2}{\\left(t \\right)} + \\sin{\\left(\\theta_{0}{\\left(t \\right)} \\right)} \\cos{\\left(\\theta_{1}{\\left(t \\right)} \\right)} \\frac{d^{2}}{d t^{2}} \\theta_{2}{\\left(t \\right)} + \\cos{\\left(\\theta_{0}{\\left(t \\right)} \\right)} \\cos{\\left(\\theta_{1}{\\left(t \\right)} \\right)} \\frac{d}{d t} \\theta_{0}{\\left(t \\right)} \\frac{d}{d t} \\theta_{2}{\\left(t \\right)}\\right) \\sin{\\left(\\theta_{0}{\\left(t \\right)} \\right)} \\cos{\\left(\\theta_{1}{\\left(t \\right)} \\right)} - I_{33} \\left(\\left(\\sin{\\left(\\theta_{0}{\\left(t \\right)} \\right)} \\sin{\\left(\\theta_{2}{\\left(t \\right)} \\right)} + \\sin{\\left(\\theta_{1}{\\left(t \\right)} \\right)} \\cos{\\left(\\theta_{0}{\\left(t \\right)} \\right)} \\cos{\\left(\\theta_{2}{\\left(t \\right)} \\right)}\\right) \\frac{d}{d t} \\theta_{0}{\\left(t \\right)} - \\left(\\sin{\\left(\\theta_{0}{\\left(t \\right)} \\right)} \\cos{\\left(\\theta_{2}{\\left(t \\right)} \\right)} - \\sin{\\left(\\theta_{1}{\\left(t \\right)} \\right)} \\sin{\\left(\\theta_{2}{\\left(t \\right)} \\right)} \\cos{\\left(\\theta_{0}{\\left(t \\right)} \\right)}\\right) \\frac{d}{d t} \\theta_{1}{\\left(t \\right)} + \\cos{\\left(\\theta_{0}{\\left(t \\right)} \\right)} \\cos{\\left(\\theta_{1}{\\left(t \\right)} \\right)} \\frac{d}{d t} \\theta_{2}{\\left(t \\right)}\\right) \\sin{\\left(\\theta_{0}{\\left(t \\right)} \\right)} \\cos{\\left(\\theta_{1}{\\left(t \\right)} \\right)} \\frac{d}{d t} \\theta_{0}{\\left(t \\right)} - I_{33} \\left(\\left(\\sin{\\left(\\theta_{0}{\\left(t \\right)} \\right)} \\sin{\\left(\\theta_{2}{\\left(t \\right)} \\right)} + \\sin{\\left(\\theta_{1}{\\left(t \\right)} \\right)} \\cos{\\left(\\theta_{0}{\\left(t \\right)} \\right)} \\cos{\\left(\\theta_{2}{\\left(t \\right)} \\right)}\\right) \\frac{d}{d t} \\theta_{0}{\\left(t \\right)} - \\left(\\sin{\\left(\\theta_{0}{\\left(t \\right)} \\right)} \\cos{\\left(\\theta_{2}{\\left(t \\right)} \\right)} - \\sin{\\left(\\theta_{1}{\\left(t \\right)} \\right)} \\sin{\\left(\\theta_{2}{\\left(t \\right)} \\right)} \\cos{\\left(\\theta_{0}{\\left(t \\right)} \\right)}\\right) \\frac{d}{d t} \\theta_{1}{\\left(t \\right)} + \\cos{\\left(\\theta_{0}{\\left(t \\right)} \\right)} \\cos{\\left(\\theta_{1}{\\left(t \\right)} \\right)} \\frac{d}{d t} \\theta_{2}{\\left(t \\right)}\\right) \\sin{\\left(\\theta_{1}{\\left(t \\right)} \\right)} \\cos{\\left(\\theta_{0}{\\left(t \\right)} \\right)} \\frac{d}{d t} \\theta_{1}{\\left(t \\right)} + I_{33} \\left(\\left(\\sin{\\left(\\theta_{0}{\\left(t \\right)} \\right)} \\sin{\\left(\\theta_{2}{\\left(t \\right)} \\right)} + \\sin{\\left(\\theta_{1}{\\left(t \\right)} \\right)} \\cos{\\left(\\theta_{0}{\\left(t \\right)} \\right)} \\cos{\\left(\\theta_{2}{\\left(t \\right)} \\right)}\\right) \\frac{d^{2}}{d t^{2}} \\theta_{0}{\\left(t \\right)} - \\left(\\sin{\\left(\\theta_{0}{\\left(t \\right)} \\right)} \\cos{\\left(\\theta_{2}{\\left(t \\right)} \\right)} - \\sin{\\left(\\theta_{1}{\\left(t \\right)} \\right)} \\sin{\\left(\\theta_{2}{\\left(t \\right)} \\right)} \\cos{\\left(\\theta_{0}{\\left(t \\right)} \\right)}\\right) \\frac{d^{2}}{d t^{2}} \\theta_{1}{\\left(t \\right)} + \\left(- \\sin{\\left(\\theta_{0}{\\left(t \\right)} \\right)} \\sin{\\left(\\theta_{1}{\\left(t \\right)} \\right)} \\sin{\\left(\\theta_{2}{\\left(t \\right)} \\right)} \\frac{d}{d t} \\theta_{0}{\\left(t \\right)} + \\sin{\\left(\\theta_{0}{\\left(t \\right)} \\right)} \\sin{\\left(\\theta_{2}{\\left(t \\right)} \\right)} \\frac{d}{d t} \\theta_{2}{\\left(t \\right)} + \\sin{\\left(\\theta_{1}{\\left(t \\right)} \\right)} \\cos{\\left(\\theta_{0}{\\left(t \\right)} \\right)} \\cos{\\left(\\theta_{2}{\\left(t \\right)} \\right)} \\frac{d}{d t} \\theta_{2}{\\left(t \\right)} + \\sin{\\left(\\theta_{2}{\\left(t \\right)} \\right)} \\cos{\\left(\\theta_{0}{\\left(t \\right)} \\right)} \\cos{\\left(\\theta_{1}{\\left(t \\right)} \\right)} \\frac{d}{d t} \\theta_{1}{\\left(t \\right)} - \\cos{\\left(\\theta_{0}{\\left(t \\right)} \\right)} \\cos{\\left(\\theta_{2}{\\left(t \\right)} \\right)} \\frac{d}{d t} \\theta_{0}{\\left(t \\right)}\\right) \\frac{d}{d t} \\theta_{1}{\\left(t \\right)} + \\left(- \\sin{\\left(\\theta_{0}{\\left(t \\right)} \\right)} \\sin{\\left(\\theta_{1}{\\left(t \\right)} \\right)} \\cos{\\left(\\theta_{2}{\\left(t \\right)} \\right)} \\frac{d}{d t} \\theta_{0}{\\left(t \\right)} + \\sin{\\left(\\theta_{0}{\\left(t \\right)} \\right)} \\cos{\\left(\\theta_{2}{\\left(t \\right)} \\right)} \\frac{d}{d t} \\theta_{2}{\\left(t \\right)} - \\sin{\\left(\\theta_{1}{\\left(t \\right)} \\right)} \\sin{\\left(\\theta_{2}{\\left(t \\right)} \\right)} \\cos{\\left(\\theta_{0}{\\left(t \\right)} \\right)} \\frac{d}{d t} \\theta_{2}{\\left(t \\right)} + \\sin{\\left(\\theta_{2}{\\left(t \\right)} \\right)} \\cos{\\left(\\theta_{0}{\\left(t \\right)} \\right)} \\frac{d}{d t} \\theta_{0}{\\left(t \\right)} + \\cos{\\left(\\theta_{0}{\\left(t \\right)} \\right)} \\cos{\\left(\\theta_{1}{\\left(t \\right)} \\right)} \\cos{\\left(\\theta_{2}{\\left(t \\right)} \\right)} \\frac{d}{d t} \\theta_{1}{\\left(t \\right)}\\right) \\frac{d}{d t} \\theta_{0}{\\left(t \\right)} - \\sin{\\left(\\theta_{0}{\\left(t \\right)} \\right)} \\cos{\\left(\\theta_{1}{\\left(t \\right)} \\right)} \\frac{d}{d t} \\theta_{0}{\\left(t \\right)} \\frac{d}{d t} \\theta_{2}{\\left(t \\right)} - \\sin{\\left(\\theta_{1}{\\left(t \\right)} \\right)} \\cos{\\left(\\theta_{0}{\\left(t \\right)} \\right)} \\frac{d}{d t} \\theta_{1}{\\left(t \\right)} \\frac{d}{d t} \\theta_{2}{\\left(t \\right)} + \\cos{\\left(\\theta_{0}{\\left(t \\right)} \\right)} \\cos{\\left(\\theta_{1}{\\left(t \\right)} \\right)} \\frac{d^{2}}{d t^{2}} \\theta_{2}{\\left(t \\right)}\\right) \\cos{\\left(\\theta_{0}{\\left(t \\right)} \\right)} \\cos{\\left(\\theta_{1}{\\left(t \\right)} \\right)}\\end{matrix}\\right]$"
      ],
      "text/plain": [
       "Matrix([[-I_11*(-sin(theta_1(t))*Derivative(theta_2(t), t) + sin(theta_2(t))*cos(theta_1(t))*Derivative(theta_1(t), t) + cos(theta_1(t))*cos(theta_2(t))*Derivative(theta_0(t), t))*sin(theta_1(t))*cos(theta_2(t))*Derivative(theta_1(t), t) - I_11*(-sin(theta_1(t))*Derivative(theta_2(t), t) + sin(theta_2(t))*cos(theta_1(t))*Derivative(theta_1(t), t) + cos(theta_1(t))*cos(theta_2(t))*Derivative(theta_0(t), t))*sin(theta_2(t))*cos(theta_1(t))*Derivative(theta_2(t), t) - I_11*(sin(theta_1(t))*sin(theta_2(t))*Derivative(theta_1(t), t)**2 + sin(theta_1(t))*cos(theta_2(t))*Derivative(theta_0(t), t)*Derivative(theta_1(t), t) + sin(theta_1(t))*Derivative(theta_2(t), (t, 2)) + sin(theta_2(t))*cos(theta_1(t))*Derivative(theta_0(t), t)*Derivative(theta_2(t), t) - sin(theta_2(t))*cos(theta_1(t))*Derivative(theta_1(t), (t, 2)) - cos(theta_1(t))*cos(theta_2(t))*Derivative(theta_0(t), (t, 2)) - cos(theta_1(t))*cos(theta_2(t))*Derivative(theta_1(t), t)*Derivative(theta_2(t), t) + cos(theta_1(t))*Derivative(theta_1(t), t)*Derivative(theta_2(t), t))*cos(theta_1(t))*cos(theta_2(t)) + I_22*(sin(theta_0(t))*sin(theta_1(t))*cos(theta_2(t)) - sin(theta_2(t))*cos(theta_0(t)))*((sin(theta_0(t))*sin(theta_1(t))*sin(theta_2(t)) + cos(theta_0(t))*cos(theta_2(t)))*Derivative(theta_1(t), (t, 2)) + (sin(theta_0(t))*sin(theta_1(t))*cos(theta_2(t)) - sin(theta_2(t))*cos(theta_0(t)))*Derivative(theta_0(t), (t, 2)) + (-sin(theta_0(t))*sin(theta_1(t))*sin(theta_2(t))*Derivative(theta_2(t), t) + sin(theta_0(t))*sin(theta_2(t))*Derivative(theta_0(t), t) + sin(theta_0(t))*cos(theta_1(t))*cos(theta_2(t))*Derivative(theta_1(t), t) + sin(theta_1(t))*cos(theta_0(t))*cos(theta_2(t))*Derivative(theta_0(t), t) - cos(theta_0(t))*cos(theta_2(t))*Derivative(theta_2(t), t))*Derivative(theta_0(t), t) + (sin(theta_0(t))*sin(theta_1(t))*cos(theta_2(t))*Derivative(theta_2(t), t) + sin(theta_0(t))*sin(theta_2(t))*cos(theta_1(t))*Derivative(theta_1(t), t) - sin(theta_0(t))*cos(theta_2(t))*Derivative(theta_0(t), t) + sin(theta_1(t))*sin(theta_2(t))*cos(theta_0(t))*Derivative(theta_0(t), t) - sin(theta_2(t))*cos(theta_0(t))*Derivative(theta_2(t), t))*Derivative(theta_1(t), t) - sin(theta_0(t))*sin(theta_1(t))*Derivative(theta_1(t), t)*Derivative(theta_2(t), t) + sin(theta_0(t))*cos(theta_1(t))*Derivative(theta_2(t), (t, 2)) + cos(theta_0(t))*cos(theta_1(t))*Derivative(theta_0(t), t)*Derivative(theta_2(t), t)) + I_22*((sin(theta_0(t))*sin(theta_1(t))*sin(theta_2(t)) + cos(theta_0(t))*cos(theta_2(t)))*Derivative(theta_1(t), t) + (sin(theta_0(t))*sin(theta_1(t))*cos(theta_2(t)) - sin(theta_2(t))*cos(theta_0(t)))*Derivative(theta_0(t), t) + sin(theta_0(t))*cos(theta_1(t))*Derivative(theta_2(t), t))*(-sin(theta_0(t))*sin(theta_1(t))*sin(theta_2(t))*Derivative(theta_2(t), t) + sin(theta_0(t))*sin(theta_2(t))*Derivative(theta_0(t), t) + sin(theta_0(t))*cos(theta_1(t))*cos(theta_2(t))*Derivative(theta_1(t), t) + sin(theta_1(t))*cos(theta_0(t))*cos(theta_2(t))*Derivative(theta_0(t), t) - cos(theta_0(t))*cos(theta_2(t))*Derivative(theta_2(t), t)) + I_33*(sin(theta_0(t))*sin(theta_2(t)) + sin(theta_1(t))*cos(theta_0(t))*cos(theta_2(t)))*((sin(theta_0(t))*sin(theta_2(t)) + sin(theta_1(t))*cos(theta_0(t))*cos(theta_2(t)))*Derivative(theta_0(t), (t, 2)) - (sin(theta_0(t))*cos(theta_2(t)) - sin(theta_1(t))*sin(theta_2(t))*cos(theta_0(t)))*Derivative(theta_1(t), (t, 2)) + (-sin(theta_0(t))*sin(theta_1(t))*sin(theta_2(t))*Derivative(theta_0(t), t) + sin(theta_0(t))*sin(theta_2(t))*Derivative(theta_2(t), t) + sin(theta_1(t))*cos(theta_0(t))*cos(theta_2(t))*Derivative(theta_2(t), t) + sin(theta_2(t))*cos(theta_0(t))*cos(theta_1(t))*Derivative(theta_1(t), t) - cos(theta_0(t))*cos(theta_2(t))*Derivative(theta_0(t), t))*Derivative(theta_1(t), t) + (-sin(theta_0(t))*sin(theta_1(t))*cos(theta_2(t))*Derivative(theta_0(t), t) + sin(theta_0(t))*cos(theta_2(t))*Derivative(theta_2(t), t) - sin(theta_1(t))*sin(theta_2(t))*cos(theta_0(t))*Derivative(theta_2(t), t) + sin(theta_2(t))*cos(theta_0(t))*Derivative(theta_0(t), t) + cos(theta_0(t))*cos(theta_1(t))*cos(theta_2(t))*Derivative(theta_1(t), t))*Derivative(theta_0(t), t) - sin(theta_0(t))*cos(theta_1(t))*Derivative(theta_0(t), t)*Derivative(theta_2(t), t) - sin(theta_1(t))*cos(theta_0(t))*Derivative(theta_1(t), t)*Derivative(theta_2(t), t) + cos(theta_0(t))*cos(theta_1(t))*Derivative(theta_2(t), (t, 2))) + I_33*((sin(theta_0(t))*sin(theta_2(t)) + sin(theta_1(t))*cos(theta_0(t))*cos(theta_2(t)))*Derivative(theta_0(t), t) - (sin(theta_0(t))*cos(theta_2(t)) - sin(theta_1(t))*sin(theta_2(t))*cos(theta_0(t)))*Derivative(theta_1(t), t) + cos(theta_0(t))*cos(theta_1(t))*Derivative(theta_2(t), t))*(-sin(theta_0(t))*sin(theta_1(t))*cos(theta_2(t))*Derivative(theta_0(t), t) + sin(theta_0(t))*cos(theta_2(t))*Derivative(theta_2(t), t) - sin(theta_1(t))*sin(theta_2(t))*cos(theta_0(t))*Derivative(theta_2(t), t) + sin(theta_2(t))*cos(theta_0(t))*Derivative(theta_0(t), t) + cos(theta_0(t))*cos(theta_1(t))*cos(theta_2(t))*Derivative(theta_1(t), t)), -I_11*(-sin(theta_1(t))*Derivative(theta_2(t), t) + sin(theta_2(t))*cos(theta_1(t))*Derivative(theta_1(t), t) + cos(theta_1(t))*cos(theta_2(t))*Derivative(theta_0(t), t))*sin(theta_1(t))*sin(theta_2(t))*Derivative(theta_1(t), t) + I_11*(-sin(theta_1(t))*Derivative(theta_2(t), t) + sin(theta_2(t))*cos(theta_1(t))*Derivative(theta_1(t), t) + cos(theta_1(t))*cos(theta_2(t))*Derivative(theta_0(t), t))*cos(theta_1(t))*cos(theta_2(t))*Derivative(theta_2(t), t) - I_11*(sin(theta_1(t))*sin(theta_2(t))*Derivative(theta_1(t), t)**2 + sin(theta_1(t))*cos(theta_2(t))*Derivative(theta_0(t), t)*Derivative(theta_1(t), t) + sin(theta_1(t))*Derivative(theta_2(t), (t, 2)) + sin(theta_2(t))*cos(theta_1(t))*Derivative(theta_0(t), t)*Derivative(theta_2(t), t) - sin(theta_2(t))*cos(theta_1(t))*Derivative(theta_1(t), (t, 2)) - cos(theta_1(t))*cos(theta_2(t))*Derivative(theta_0(t), (t, 2)) - cos(theta_1(t))*cos(theta_2(t))*Derivative(theta_1(t), t)*Derivative(theta_2(t), t) + cos(theta_1(t))*Derivative(theta_1(t), t)*Derivative(theta_2(t), t))*sin(theta_2(t))*cos(theta_1(t)) + I_22*(sin(theta_0(t))*sin(theta_1(t))*sin(theta_2(t)) + cos(theta_0(t))*cos(theta_2(t)))*((sin(theta_0(t))*sin(theta_1(t))*sin(theta_2(t)) + cos(theta_0(t))*cos(theta_2(t)))*Derivative(theta_1(t), (t, 2)) + (sin(theta_0(t))*sin(theta_1(t))*cos(theta_2(t)) - sin(theta_2(t))*cos(theta_0(t)))*Derivative(theta_0(t), (t, 2)) + (-sin(theta_0(t))*sin(theta_1(t))*sin(theta_2(t))*Derivative(theta_2(t), t) + sin(theta_0(t))*sin(theta_2(t))*Derivative(theta_0(t), t) + sin(theta_0(t))*cos(theta_1(t))*cos(theta_2(t))*Derivative(theta_1(t), t) + sin(theta_1(t))*cos(theta_0(t))*cos(theta_2(t))*Derivative(theta_0(t), t) - cos(theta_0(t))*cos(theta_2(t))*Derivative(theta_2(t), t))*Derivative(theta_0(t), t) + (sin(theta_0(t))*sin(theta_1(t))*cos(theta_2(t))*Derivative(theta_2(t), t) + sin(theta_0(t))*sin(theta_2(t))*cos(theta_1(t))*Derivative(theta_1(t), t) - sin(theta_0(t))*cos(theta_2(t))*Derivative(theta_0(t), t) + sin(theta_1(t))*sin(theta_2(t))*cos(theta_0(t))*Derivative(theta_0(t), t) - sin(theta_2(t))*cos(theta_0(t))*Derivative(theta_2(t), t))*Derivative(theta_1(t), t) - sin(theta_0(t))*sin(theta_1(t))*Derivative(theta_1(t), t)*Derivative(theta_2(t), t) + sin(theta_0(t))*cos(theta_1(t))*Derivative(theta_2(t), (t, 2)) + cos(theta_0(t))*cos(theta_1(t))*Derivative(theta_0(t), t)*Derivative(theta_2(t), t)) + I_22*((sin(theta_0(t))*sin(theta_1(t))*sin(theta_2(t)) + cos(theta_0(t))*cos(theta_2(t)))*Derivative(theta_1(t), t) + (sin(theta_0(t))*sin(theta_1(t))*cos(theta_2(t)) - sin(theta_2(t))*cos(theta_0(t)))*Derivative(theta_0(t), t) + sin(theta_0(t))*cos(theta_1(t))*Derivative(theta_2(t), t))*(sin(theta_0(t))*sin(theta_1(t))*cos(theta_2(t))*Derivative(theta_2(t), t) + sin(theta_0(t))*sin(theta_2(t))*cos(theta_1(t))*Derivative(theta_1(t), t) - sin(theta_0(t))*cos(theta_2(t))*Derivative(theta_0(t), t) + sin(theta_1(t))*sin(theta_2(t))*cos(theta_0(t))*Derivative(theta_0(t), t) - sin(theta_2(t))*cos(theta_0(t))*Derivative(theta_2(t), t)) - I_33*(sin(theta_0(t))*cos(theta_2(t)) - sin(theta_1(t))*sin(theta_2(t))*cos(theta_0(t)))*((sin(theta_0(t))*sin(theta_2(t)) + sin(theta_1(t))*cos(theta_0(t))*cos(theta_2(t)))*Derivative(theta_0(t), (t, 2)) - (sin(theta_0(t))*cos(theta_2(t)) - sin(theta_1(t))*sin(theta_2(t))*cos(theta_0(t)))*Derivative(theta_1(t), (t, 2)) + (-sin(theta_0(t))*sin(theta_1(t))*sin(theta_2(t))*Derivative(theta_0(t), t) + sin(theta_0(t))*sin(theta_2(t))*Derivative(theta_2(t), t) + sin(theta_1(t))*cos(theta_0(t))*cos(theta_2(t))*Derivative(theta_2(t), t) + sin(theta_2(t))*cos(theta_0(t))*cos(theta_1(t))*Derivative(theta_1(t), t) - cos(theta_0(t))*cos(theta_2(t))*Derivative(theta_0(t), t))*Derivative(theta_1(t), t) + (-sin(theta_0(t))*sin(theta_1(t))*cos(theta_2(t))*Derivative(theta_0(t), t) + sin(theta_0(t))*cos(theta_2(t))*Derivative(theta_2(t), t) - sin(theta_1(t))*sin(theta_2(t))*cos(theta_0(t))*Derivative(theta_2(t), t) + sin(theta_2(t))*cos(theta_0(t))*Derivative(theta_0(t), t) + cos(theta_0(t))*cos(theta_1(t))*cos(theta_2(t))*Derivative(theta_1(t), t))*Derivative(theta_0(t), t) - sin(theta_0(t))*cos(theta_1(t))*Derivative(theta_0(t), t)*Derivative(theta_2(t), t) - sin(theta_1(t))*cos(theta_0(t))*Derivative(theta_1(t), t)*Derivative(theta_2(t), t) + cos(theta_0(t))*cos(theta_1(t))*Derivative(theta_2(t), (t, 2))) + I_33*((sin(theta_0(t))*sin(theta_2(t)) + sin(theta_1(t))*cos(theta_0(t))*cos(theta_2(t)))*Derivative(theta_0(t), t) - (sin(theta_0(t))*cos(theta_2(t)) - sin(theta_1(t))*sin(theta_2(t))*cos(theta_0(t)))*Derivative(theta_1(t), t) + cos(theta_0(t))*cos(theta_1(t))*Derivative(theta_2(t), t))*(-sin(theta_0(t))*sin(theta_1(t))*sin(theta_2(t))*Derivative(theta_0(t), t) + sin(theta_0(t))*sin(theta_2(t))*Derivative(theta_2(t), t) + sin(theta_1(t))*cos(theta_0(t))*cos(theta_2(t))*Derivative(theta_2(t), t) + sin(theta_2(t))*cos(theta_0(t))*cos(theta_1(t))*Derivative(theta_1(t), t) - cos(theta_0(t))*cos(theta_2(t))*Derivative(theta_0(t), t)), -I_11*(-(2*Derivative(theta_1(t), t) - Derivative(theta_2(t), t))*sin(2*theta_1(t) - theta_2(t))*Derivative(theta_1(t), t) + (2*Derivative(theta_1(t), t) - Derivative(theta_2(t), t))*cos(2*theta_1(t) - theta_2(t))*Derivative(theta_0(t), t) + (2*Derivative(theta_1(t), t) + Derivative(theta_2(t), t))*sin(2*theta_1(t) + theta_2(t))*Derivative(theta_1(t), t) + (2*Derivative(theta_1(t), t) + Derivative(theta_2(t), t))*cos(2*theta_1(t) + theta_2(t))*Derivative(theta_0(t), t) + sin(2*theta_1(t) - theta_2(t))*Derivative(theta_0(t), (t, 2)) + sin(2*theta_1(t) + theta_2(t))*Derivative(theta_0(t), (t, 2)) - 4*sin(2*theta_1(t))*Derivative(theta_1(t), t)*Derivative(theta_2(t), t) + cos(2*theta_1(t) - theta_2(t))*Derivative(theta_1(t), (t, 2)) - cos(2*theta_1(t) + theta_2(t))*Derivative(theta_1(t), (t, 2)) + 2*cos(2*theta_1(t))*Derivative(theta_2(t), (t, 2)) - 2*Derivative(theta_2(t), (t, 2)))/4 - I_22*((sin(theta_0(t))*sin(theta_1(t))*sin(theta_2(t)) + cos(theta_0(t))*cos(theta_2(t)))*Derivative(theta_1(t), t) + (sin(theta_0(t))*sin(theta_1(t))*cos(theta_2(t)) - sin(theta_2(t))*cos(theta_0(t)))*Derivative(theta_0(t), t) + sin(theta_0(t))*cos(theta_1(t))*Derivative(theta_2(t), t))*sin(theta_0(t))*sin(theta_1(t))*Derivative(theta_1(t), t) + I_22*((sin(theta_0(t))*sin(theta_1(t))*sin(theta_2(t)) + cos(theta_0(t))*cos(theta_2(t)))*Derivative(theta_1(t), t) + (sin(theta_0(t))*sin(theta_1(t))*cos(theta_2(t)) - sin(theta_2(t))*cos(theta_0(t)))*Derivative(theta_0(t), t) + sin(theta_0(t))*cos(theta_1(t))*Derivative(theta_2(t), t))*cos(theta_0(t))*cos(theta_1(t))*Derivative(theta_0(t), t) + I_22*((sin(theta_0(t))*sin(theta_1(t))*sin(theta_2(t)) + cos(theta_0(t))*cos(theta_2(t)))*Derivative(theta_1(t), (t, 2)) + (sin(theta_0(t))*sin(theta_1(t))*cos(theta_2(t)) - sin(theta_2(t))*cos(theta_0(t)))*Derivative(theta_0(t), (t, 2)) + (-sin(theta_0(t))*sin(theta_1(t))*sin(theta_2(t))*Derivative(theta_2(t), t) + sin(theta_0(t))*sin(theta_2(t))*Derivative(theta_0(t), t) + sin(theta_0(t))*cos(theta_1(t))*cos(theta_2(t))*Derivative(theta_1(t), t) + sin(theta_1(t))*cos(theta_0(t))*cos(theta_2(t))*Derivative(theta_0(t), t) - cos(theta_0(t))*cos(theta_2(t))*Derivative(theta_2(t), t))*Derivative(theta_0(t), t) + (sin(theta_0(t))*sin(theta_1(t))*cos(theta_2(t))*Derivative(theta_2(t), t) + sin(theta_0(t))*sin(theta_2(t))*cos(theta_1(t))*Derivative(theta_1(t), t) - sin(theta_0(t))*cos(theta_2(t))*Derivative(theta_0(t), t) + sin(theta_1(t))*sin(theta_2(t))*cos(theta_0(t))*Derivative(theta_0(t), t) - sin(theta_2(t))*cos(theta_0(t))*Derivative(theta_2(t), t))*Derivative(theta_1(t), t) - sin(theta_0(t))*sin(theta_1(t))*Derivative(theta_1(t), t)*Derivative(theta_2(t), t) + sin(theta_0(t))*cos(theta_1(t))*Derivative(theta_2(t), (t, 2)) + cos(theta_0(t))*cos(theta_1(t))*Derivative(theta_0(t), t)*Derivative(theta_2(t), t))*sin(theta_0(t))*cos(theta_1(t)) - I_33*((sin(theta_0(t))*sin(theta_2(t)) + sin(theta_1(t))*cos(theta_0(t))*cos(theta_2(t)))*Derivative(theta_0(t), t) - (sin(theta_0(t))*cos(theta_2(t)) - sin(theta_1(t))*sin(theta_2(t))*cos(theta_0(t)))*Derivative(theta_1(t), t) + cos(theta_0(t))*cos(theta_1(t))*Derivative(theta_2(t), t))*sin(theta_0(t))*cos(theta_1(t))*Derivative(theta_0(t), t) - I_33*((sin(theta_0(t))*sin(theta_2(t)) + sin(theta_1(t))*cos(theta_0(t))*cos(theta_2(t)))*Derivative(theta_0(t), t) - (sin(theta_0(t))*cos(theta_2(t)) - sin(theta_1(t))*sin(theta_2(t))*cos(theta_0(t)))*Derivative(theta_1(t), t) + cos(theta_0(t))*cos(theta_1(t))*Derivative(theta_2(t), t))*sin(theta_1(t))*cos(theta_0(t))*Derivative(theta_1(t), t) + I_33*((sin(theta_0(t))*sin(theta_2(t)) + sin(theta_1(t))*cos(theta_0(t))*cos(theta_2(t)))*Derivative(theta_0(t), (t, 2)) - (sin(theta_0(t))*cos(theta_2(t)) - sin(theta_1(t))*sin(theta_2(t))*cos(theta_0(t)))*Derivative(theta_1(t), (t, 2)) + (-sin(theta_0(t))*sin(theta_1(t))*sin(theta_2(t))*Derivative(theta_0(t), t) + sin(theta_0(t))*sin(theta_2(t))*Derivative(theta_2(t), t) + sin(theta_1(t))*cos(theta_0(t))*cos(theta_2(t))*Derivative(theta_2(t), t) + sin(theta_2(t))*cos(theta_0(t))*cos(theta_1(t))*Derivative(theta_1(t), t) - cos(theta_0(t))*cos(theta_2(t))*Derivative(theta_0(t), t))*Derivative(theta_1(t), t) + (-sin(theta_0(t))*sin(theta_1(t))*cos(theta_2(t))*Derivative(theta_0(t), t) + sin(theta_0(t))*cos(theta_2(t))*Derivative(theta_2(t), t) - sin(theta_1(t))*sin(theta_2(t))*cos(theta_0(t))*Derivative(theta_2(t), t) + sin(theta_2(t))*cos(theta_0(t))*Derivative(theta_0(t), t) + cos(theta_0(t))*cos(theta_1(t))*cos(theta_2(t))*Derivative(theta_1(t), t))*Derivative(theta_0(t), t) - sin(theta_0(t))*cos(theta_1(t))*Derivative(theta_0(t), t)*Derivative(theta_2(t), t) - sin(theta_1(t))*cos(theta_0(t))*Derivative(theta_1(t), t)*Derivative(theta_2(t), t) + cos(theta_0(t))*cos(theta_1(t))*Derivative(theta_2(t), (t, 2)))*cos(theta_0(t))*cos(theta_1(t))]])"
      ]
     },
     "execution_count": 191,
     "metadata": {},
     "output_type": "execute_result"
    }
   ],
   "source": [
    "LLomega_t\n"
   ]
  },
  {
   "cell_type": "code",
   "execution_count": 192,
   "metadata": {},
   "outputs": [],
   "source": [
    "def sp_skew(x):\n",
    "    if len(x) == 3:\n",
    "        return Matrix([[0, -x[2], x[1]],\n",
    "                       [x[2], 0, -x[0]],\n",
    "                       [-x[1], x[0], 0]])\n"
   ]
  },
  {
   "cell_type": "code",
   "execution_count": 193,
   "metadata": {},
   "outputs": [
    {
     "ename": "KeyboardInterrupt",
     "evalue": "",
     "output_type": "error",
     "traceback": [
      "\u001b[0;31m---------------------------------------------------------------------------\u001b[0m",
      "\u001b[0;31mKeyboardInterrupt\u001b[0m                         Traceback (most recent call last)",
      "Cell \u001b[0;32mIn[193], line 1\u001b[0m\n\u001b[0;32m----> 1\u001b[0m LLomega2 \u001b[39m=\u001b[39m simplify(R \u001b[39m@\u001b[39;49m I \u001b[39m@\u001b[39;49m R\u001b[39m.\u001b[39;49mT \u001b[39m@\u001b[39;49m diff(diff(theta, t),t) \u001b[39m+\u001b[39;49m Om \u001b[39m@\u001b[39;49m R \u001b[39m@\u001b[39;49m I \u001b[39m@\u001b[39;49m R\u001b[39m.\u001b[39;49mT \u001b[39m@\u001b[39;49m diff(theta,t))\n",
      "File \u001b[0;32m~/Desktop/Docker/venv/lib/python3.9/site-packages/sympy/simplify/simplify.py:601\u001b[0m, in \u001b[0;36msimplify\u001b[0;34m(expr, ratio, measure, rational, inverse, doit, **kwargs)\u001b[0m\n\u001b[1;32m    599\u001b[0m _eval_simplify \u001b[39m=\u001b[39m \u001b[39mgetattr\u001b[39m(expr, \u001b[39m'\u001b[39m\u001b[39m_eval_simplify\u001b[39m\u001b[39m'\u001b[39m, \u001b[39mNone\u001b[39;00m)\n\u001b[1;32m    600\u001b[0m \u001b[39mif\u001b[39;00m _eval_simplify \u001b[39mis\u001b[39;00m \u001b[39mnot\u001b[39;00m \u001b[39mNone\u001b[39;00m:\n\u001b[0;32m--> 601\u001b[0m     \u001b[39mreturn\u001b[39;00m _eval_simplify(\u001b[39m*\u001b[39;49m\u001b[39m*\u001b[39;49mkwargs)\n\u001b[1;32m    603\u001b[0m original_expr \u001b[39m=\u001b[39m expr \u001b[39m=\u001b[39m collect_abs(signsimp(expr))\n\u001b[1;32m    605\u001b[0m \u001b[39mif\u001b[39;00m \u001b[39mnot\u001b[39;00m \u001b[39misinstance\u001b[39m(expr, Basic) \u001b[39mor\u001b[39;00m \u001b[39mnot\u001b[39;00m expr\u001b[39m.\u001b[39margs:  \u001b[39m# XXX: temporary hack\u001b[39;00m\n",
      "File \u001b[0;32m~/Desktop/Docker/venv/lib/python3.9/site-packages/sympy/matrices/common.py:2515\u001b[0m, in \u001b[0;36mMatrixOperations._eval_simplify\u001b[0;34m(self, **kwargs)\u001b[0m\n\u001b[1;32m   2512\u001b[0m \u001b[39mdef\u001b[39;00m \u001b[39m_eval_simplify\u001b[39m(\u001b[39mself\u001b[39m, \u001b[39m*\u001b[39m\u001b[39m*\u001b[39mkwargs):\n\u001b[1;32m   2513\u001b[0m     \u001b[39m# XXX: We can't use self.simplify here as mutable subclasses will\u001b[39;00m\n\u001b[1;32m   2514\u001b[0m     \u001b[39m# override simplify and have it return None\u001b[39;00m\n\u001b[0;32m-> 2515\u001b[0m     \u001b[39mreturn\u001b[39;00m MatrixOperations\u001b[39m.\u001b[39;49msimplify(\u001b[39mself\u001b[39;49m, \u001b[39m*\u001b[39;49m\u001b[39m*\u001b[39;49mkwargs)\n",
      "File \u001b[0;32m~/Desktop/Docker/venv/lib/python3.9/site-packages/sympy/matrices/common.py:2405\u001b[0m, in \u001b[0;36mMatrixOperations.simplify\u001b[0;34m(self, **kwargs)\u001b[0m\n\u001b[1;32m   2392\u001b[0m \u001b[39mdef\u001b[39;00m \u001b[39msimplify\u001b[39m(\u001b[39mself\u001b[39m, \u001b[39m*\u001b[39m\u001b[39m*\u001b[39mkwargs):\n\u001b[1;32m   2393\u001b[0m \u001b[39m    \u001b[39m\u001b[39m\"\"\"Apply simplify to each element of the matrix.\u001b[39;00m\n\u001b[1;32m   2394\u001b[0m \n\u001b[1;32m   2395\u001b[0m \u001b[39m    Examples\u001b[39;00m\n\u001b[0;32m   (...)\u001b[0m\n\u001b[1;32m   2403\u001b[0m \u001b[39m    Matrix([[x]])\u001b[39;00m\n\u001b[1;32m   2404\u001b[0m \u001b[39m    \"\"\"\u001b[39;00m\n\u001b[0;32m-> 2405\u001b[0m     \u001b[39mreturn\u001b[39;00m \u001b[39mself\u001b[39;49m\u001b[39m.\u001b[39;49mapplyfunc(\u001b[39mlambda\u001b[39;49;00m x: x\u001b[39m.\u001b[39;49msimplify(\u001b[39m*\u001b[39;49m\u001b[39m*\u001b[39;49mkwargs))\n",
      "File \u001b[0;32m~/Desktop/Docker/venv/lib/python3.9/site-packages/sympy/matrices/common.py:2058\u001b[0m, in \u001b[0;36mMatrixOperations.applyfunc\u001b[0;34m(self, f)\u001b[0m\n\u001b[1;32m   2055\u001b[0m \u001b[39mif\u001b[39;00m \u001b[39mnot\u001b[39;00m \u001b[39mcallable\u001b[39m(f):\n\u001b[1;32m   2056\u001b[0m     \u001b[39mraise\u001b[39;00m \u001b[39mTypeError\u001b[39;00m(\u001b[39m\"\u001b[39m\u001b[39m`f` must be callable.\u001b[39m\u001b[39m\"\u001b[39m)\n\u001b[0;32m-> 2058\u001b[0m \u001b[39mreturn\u001b[39;00m \u001b[39mself\u001b[39;49m\u001b[39m.\u001b[39;49m_eval_applyfunc(f)\n",
      "File \u001b[0;32m~/Desktop/Docker/venv/lib/python3.9/site-packages/sympy/matrices/common.py:2000\u001b[0m, in \u001b[0;36mMatrixOperations._eval_applyfunc\u001b[0;34m(self, f)\u001b[0m\n\u001b[1;32m   1999\u001b[0m \u001b[39mdef\u001b[39;00m \u001b[39m_eval_applyfunc\u001b[39m(\u001b[39mself\u001b[39m, f):\n\u001b[0;32m-> 2000\u001b[0m     out \u001b[39m=\u001b[39m \u001b[39mself\u001b[39m\u001b[39m.\u001b[39m_new(\u001b[39mself\u001b[39m\u001b[39m.\u001b[39mrows, \u001b[39mself\u001b[39m\u001b[39m.\u001b[39mcols, [f(x) \u001b[39mfor\u001b[39;00m x \u001b[39min\u001b[39;00m \u001b[39mself\u001b[39m])\n\u001b[1;32m   2001\u001b[0m     \u001b[39mreturn\u001b[39;00m out\n",
      "File \u001b[0;32m~/Desktop/Docker/venv/lib/python3.9/site-packages/sympy/matrices/common.py:2000\u001b[0m, in \u001b[0;36m<listcomp>\u001b[0;34m(.0)\u001b[0m\n\u001b[1;32m   1999\u001b[0m \u001b[39mdef\u001b[39;00m \u001b[39m_eval_applyfunc\u001b[39m(\u001b[39mself\u001b[39m, f):\n\u001b[0;32m-> 2000\u001b[0m     out \u001b[39m=\u001b[39m \u001b[39mself\u001b[39m\u001b[39m.\u001b[39m_new(\u001b[39mself\u001b[39m\u001b[39m.\u001b[39mrows, \u001b[39mself\u001b[39m\u001b[39m.\u001b[39mcols, [f(x) \u001b[39mfor\u001b[39;00m x \u001b[39min\u001b[39;00m \u001b[39mself\u001b[39m])\n\u001b[1;32m   2001\u001b[0m     \u001b[39mreturn\u001b[39;00m out\n",
      "File \u001b[0;32m~/Desktop/Docker/venv/lib/python3.9/site-packages/sympy/matrices/common.py:2405\u001b[0m, in \u001b[0;36mMatrixOperations.simplify.<locals>.<lambda>\u001b[0;34m(x)\u001b[0m\n\u001b[1;32m   2392\u001b[0m \u001b[39mdef\u001b[39;00m \u001b[39msimplify\u001b[39m(\u001b[39mself\u001b[39m, \u001b[39m*\u001b[39m\u001b[39m*\u001b[39mkwargs):\n\u001b[1;32m   2393\u001b[0m \u001b[39m    \u001b[39m\u001b[39m\"\"\"Apply simplify to each element of the matrix.\u001b[39;00m\n\u001b[1;32m   2394\u001b[0m \n\u001b[1;32m   2395\u001b[0m \u001b[39m    Examples\u001b[39;00m\n\u001b[0;32m   (...)\u001b[0m\n\u001b[1;32m   2403\u001b[0m \u001b[39m    Matrix([[x]])\u001b[39;00m\n\u001b[1;32m   2404\u001b[0m \u001b[39m    \"\"\"\u001b[39;00m\n\u001b[0;32m-> 2405\u001b[0m     \u001b[39mreturn\u001b[39;00m \u001b[39mself\u001b[39m\u001b[39m.\u001b[39mapplyfunc(\u001b[39mlambda\u001b[39;00m x: x\u001b[39m.\u001b[39;49msimplify(\u001b[39m*\u001b[39;49m\u001b[39m*\u001b[39;49mkwargs))\n",
      "File \u001b[0;32m~/Desktop/Docker/venv/lib/python3.9/site-packages/sympy/core/basic.py:1767\u001b[0m, in \u001b[0;36mBasic.simplify\u001b[0;34m(self, **kwargs)\u001b[0m\n\u001b[1;32m   1765\u001b[0m \u001b[39m\u001b[39m\u001b[39m\"\"\"See the simplify function in sympy.simplify\"\"\"\u001b[39;00m\n\u001b[1;32m   1766\u001b[0m \u001b[39mfrom\u001b[39;00m \u001b[39msympy\u001b[39;00m\u001b[39m.\u001b[39;00m\u001b[39msimplify\u001b[39;00m\u001b[39m.\u001b[39;00m\u001b[39msimplify\u001b[39;00m \u001b[39mimport\u001b[39;00m simplify\n\u001b[0;32m-> 1767\u001b[0m \u001b[39mreturn\u001b[39;00m simplify(\u001b[39mself\u001b[39;49m, \u001b[39m*\u001b[39;49m\u001b[39m*\u001b[39;49mkwargs)\n",
      "File \u001b[0;32m~/Desktop/Docker/venv/lib/python3.9/site-packages/sympy/simplify/simplify.py:699\u001b[0m, in \u001b[0;36msimplify\u001b[0;34m(expr, ratio, measure, rational, inverse, doit, **kwargs)\u001b[0m\n\u001b[1;32m    696\u001b[0m     expr \u001b[39m=\u001b[39m besselsimp(expr)\n\u001b[1;32m    698\u001b[0m \u001b[39mif\u001b[39;00m expr\u001b[39m.\u001b[39mhas(TrigonometricFunction, HyperbolicFunction):\n\u001b[0;32m--> 699\u001b[0m     expr \u001b[39m=\u001b[39m trigsimp(expr, deep\u001b[39m=\u001b[39;49m\u001b[39mTrue\u001b[39;49;00m)\n\u001b[1;32m    701\u001b[0m \u001b[39mif\u001b[39;00m expr\u001b[39m.\u001b[39mhas(log):\n\u001b[1;32m    702\u001b[0m     expr \u001b[39m=\u001b[39m shorter(expand_log(expr, deep\u001b[39m=\u001b[39m\u001b[39mTrue\u001b[39;00m), logcombine(expr))\n",
      "File \u001b[0;32m~/Desktop/Docker/venv/lib/python3.9/site-packages/sympy/simplify/trigsimp.py:523\u001b[0m, in \u001b[0;36mtrigsimp\u001b[0;34m(expr, **opts)\u001b[0m\n\u001b[1;32m    512\u001b[0m     \u001b[39mreturn\u001b[39;00m trigsimp_groebner(new, \u001b[39m*\u001b[39m\u001b[39m*\u001b[39mopts)\n\u001b[1;32m    514\u001b[0m trigsimpfunc \u001b[39m=\u001b[39m {\n\u001b[1;32m    515\u001b[0m     \u001b[39m'\u001b[39m\u001b[39mfu\u001b[39m\u001b[39m'\u001b[39m: (\u001b[39mlambda\u001b[39;00m x: fu(x, \u001b[39m*\u001b[39m\u001b[39m*\u001b[39mopts)),\n\u001b[1;32m    516\u001b[0m     \u001b[39m'\u001b[39m\u001b[39mmatching\u001b[39m\u001b[39m'\u001b[39m: (\u001b[39mlambda\u001b[39;00m x: futrig(x)),\n\u001b[0;32m   (...)\u001b[0m\n\u001b[1;32m    520\u001b[0m     \u001b[39m'\u001b[39m\u001b[39mold\u001b[39m\u001b[39m'\u001b[39m: \u001b[39mlambda\u001b[39;00m x: trigsimp_old(x, \u001b[39m*\u001b[39m\u001b[39m*\u001b[39mopts),\n\u001b[1;32m    521\u001b[0m                }[method]\n\u001b[0;32m--> 523\u001b[0m \u001b[39mreturn\u001b[39;00m trigsimpfunc(expr)\n",
      "File \u001b[0;32m~/Desktop/Docker/venv/lib/python3.9/site-packages/sympy/simplify/trigsimp.py:516\u001b[0m, in \u001b[0;36mtrigsimp.<locals>.<lambda>\u001b[0;34m(x)\u001b[0m\n\u001b[1;32m    511\u001b[0m         \u001b[39mreturn\u001b[39;00m new\n\u001b[1;32m    512\u001b[0m     \u001b[39mreturn\u001b[39;00m trigsimp_groebner(new, \u001b[39m*\u001b[39m\u001b[39m*\u001b[39mopts)\n\u001b[1;32m    514\u001b[0m trigsimpfunc \u001b[39m=\u001b[39m {\n\u001b[1;32m    515\u001b[0m     \u001b[39m'\u001b[39m\u001b[39mfu\u001b[39m\u001b[39m'\u001b[39m: (\u001b[39mlambda\u001b[39;00m x: fu(x, \u001b[39m*\u001b[39m\u001b[39m*\u001b[39mopts)),\n\u001b[0;32m--> 516\u001b[0m     \u001b[39m'\u001b[39m\u001b[39mmatching\u001b[39m\u001b[39m'\u001b[39m: (\u001b[39mlambda\u001b[39;00m x: futrig(x)),\n\u001b[1;32m    517\u001b[0m     \u001b[39m'\u001b[39m\u001b[39mgroebner\u001b[39m\u001b[39m'\u001b[39m: (\u001b[39mlambda\u001b[39;00m x: groebnersimp(x, \u001b[39m*\u001b[39m\u001b[39m*\u001b[39mopts)),\n\u001b[1;32m    518\u001b[0m     \u001b[39m'\u001b[39m\u001b[39mcombined\u001b[39m\u001b[39m'\u001b[39m: (\u001b[39mlambda\u001b[39;00m x: futrig(groebnersimp(x,\n\u001b[1;32m    519\u001b[0m                            polynomial\u001b[39m=\u001b[39m\u001b[39mTrue\u001b[39;00m, hints\u001b[39m=\u001b[39m[\u001b[39m2\u001b[39m, tan]))),\n\u001b[1;32m    520\u001b[0m     \u001b[39m'\u001b[39m\u001b[39mold\u001b[39m\u001b[39m'\u001b[39m: \u001b[39mlambda\u001b[39;00m x: trigsimp_old(x, \u001b[39m*\u001b[39m\u001b[39m*\u001b[39mopts),\n\u001b[1;32m    521\u001b[0m                }[method]\n\u001b[1;32m    523\u001b[0m \u001b[39mreturn\u001b[39;00m trigsimpfunc(expr)\n",
      "File \u001b[0;32m~/Desktop/Docker/venv/lib/python3.9/site-packages/sympy/simplify/trigsimp.py:1113\u001b[0m, in \u001b[0;36mfutrig\u001b[0;34m(e, hyper, **kwargs)\u001b[0m\n\u001b[1;32m   1110\u001b[0m     \u001b[39mreturn\u001b[39;00m e\n\u001b[1;32m   1112\u001b[0m old \u001b[39m=\u001b[39m e\n\u001b[0;32m-> 1113\u001b[0m e \u001b[39m=\u001b[39m bottom_up(e, _futrig)\n\u001b[1;32m   1115\u001b[0m \u001b[39mif\u001b[39;00m hyper \u001b[39mand\u001b[39;00m e\u001b[39m.\u001b[39mhas(HyperbolicFunction):\n\u001b[1;32m   1116\u001b[0m     e, f \u001b[39m=\u001b[39m hyper_as_trig(e)\n",
      "File \u001b[0;32m~/Desktop/Docker/venv/lib/python3.9/site-packages/sympy/core/traversal.py:240\u001b[0m, in \u001b[0;36mbottom_up\u001b[0;34m(rv, F, atoms, nonbasic)\u001b[0m\n\u001b[1;32m    238\u001b[0m     \u001b[39mif\u001b[39;00m args \u001b[39m!=\u001b[39m rv\u001b[39m.\u001b[39margs:\n\u001b[1;32m    239\u001b[0m         rv \u001b[39m=\u001b[39m rv\u001b[39m.\u001b[39mfunc(\u001b[39m*\u001b[39margs)\n\u001b[0;32m--> 240\u001b[0m     rv \u001b[39m=\u001b[39m F(rv)\n\u001b[1;32m    241\u001b[0m \u001b[39melif\u001b[39;00m atoms:\n\u001b[1;32m    242\u001b[0m     rv \u001b[39m=\u001b[39m F(rv)\n",
      "File \u001b[0;32m~/Desktop/Docker/venv/lib/python3.9/site-packages/sympy/simplify/trigsimp.py:1180\u001b[0m, in \u001b[0;36m_futrig\u001b[0;34m(e)\u001b[0m\n\u001b[1;32m   1141\u001b[0m trigs \u001b[39m=\u001b[39m \u001b[39mlambda\u001b[39;00m x: x\u001b[39m.\u001b[39mhas(TrigonometricFunction)\n\u001b[1;32m   1143\u001b[0m tree \u001b[39m=\u001b[39m [identity,\n\u001b[1;32m   1144\u001b[0m     (\n\u001b[1;32m   1145\u001b[0m     TR3,  \u001b[39m# canonical angles\u001b[39;00m\n\u001b[0;32m   (...)\u001b[0m\n\u001b[1;32m   1178\u001b[0m         factor_terms, TR12(x), trigs)],  \u001b[39m# expand tan of sum\u001b[39;00m\n\u001b[1;32m   1179\u001b[0m     )]\n\u001b[0;32m-> 1180\u001b[0m e \u001b[39m=\u001b[39m greedy(tree, objective\u001b[39m=\u001b[39;49mLops)(e)\n\u001b[1;32m   1182\u001b[0m \u001b[39mif\u001b[39;00m coeff \u001b[39mis\u001b[39;00m \u001b[39mnot\u001b[39;00m \u001b[39mNone\u001b[39;00m:\n\u001b[1;32m   1183\u001b[0m     e \u001b[39m=\u001b[39m coeff \u001b[39m*\u001b[39m e\n",
      "File \u001b[0;32m~/Desktop/Docker/venv/lib/python3.9/site-packages/sympy/strategies/core.py:111\u001b[0m, in \u001b[0;36mminimize.<locals>.minrule\u001b[0;34m(expr)\u001b[0m\n\u001b[1;32m    110\u001b[0m \u001b[39mdef\u001b[39;00m \u001b[39mminrule\u001b[39m(expr):\n\u001b[0;32m--> 111\u001b[0m     \u001b[39mreturn\u001b[39;00m \u001b[39mmin\u001b[39m([rule(expr) \u001b[39mfor\u001b[39;00m rule \u001b[39min\u001b[39;00m rules], key\u001b[39m=\u001b[39mobjective)\n",
      "File \u001b[0;32m~/Desktop/Docker/venv/lib/python3.9/site-packages/sympy/strategies/core.py:111\u001b[0m, in \u001b[0;36m<listcomp>\u001b[0;34m(.0)\u001b[0m\n\u001b[1;32m    110\u001b[0m \u001b[39mdef\u001b[39;00m \u001b[39mminrule\u001b[39m(expr):\n\u001b[0;32m--> 111\u001b[0m     \u001b[39mreturn\u001b[39;00m \u001b[39mmin\u001b[39m([rule(expr) \u001b[39mfor\u001b[39;00m rule \u001b[39min\u001b[39;00m rules], key\u001b[39m=\u001b[39mobjective)\n",
      "File \u001b[0;32m~/Desktop/Docker/venv/lib/python3.9/site-packages/sympy/strategies/core.py:41\u001b[0m, in \u001b[0;36mchain.<locals>.chain_rl\u001b[0;34m(expr)\u001b[0m\n\u001b[1;32m     39\u001b[0m \u001b[39mdef\u001b[39;00m \u001b[39mchain_rl\u001b[39m(expr):\n\u001b[1;32m     40\u001b[0m     \u001b[39mfor\u001b[39;00m rule \u001b[39min\u001b[39;00m rules:\n\u001b[0;32m---> 41\u001b[0m         expr \u001b[39m=\u001b[39m rule(expr)\n\u001b[1;32m     42\u001b[0m     \u001b[39mreturn\u001b[39;00m expr\n",
      "File \u001b[0;32m~/Desktop/Docker/venv/lib/python3.9/site-packages/sympy/simplify/fu.py:755\u001b[0m, in \u001b[0;36mTR10i\u001b[0;34m(rv)\u001b[0m\n\u001b[1;32m    751\u001b[0m             \u001b[39mbreak\u001b[39;00m\n\u001b[1;32m    753\u001b[0m     \u001b[39mreturn\u001b[39;00m rv\n\u001b[0;32m--> 755\u001b[0m \u001b[39mreturn\u001b[39;00m bottom_up(rv, f)\n",
      "File \u001b[0;32m~/Desktop/Docker/venv/lib/python3.9/site-packages/sympy/core/traversal.py:240\u001b[0m, in \u001b[0;36mbottom_up\u001b[0;34m(rv, F, atoms, nonbasic)\u001b[0m\n\u001b[1;32m    238\u001b[0m     \u001b[39mif\u001b[39;00m args \u001b[39m!=\u001b[39m rv\u001b[39m.\u001b[39margs:\n\u001b[1;32m    239\u001b[0m         rv \u001b[39m=\u001b[39m rv\u001b[39m.\u001b[39mfunc(\u001b[39m*\u001b[39margs)\n\u001b[0;32m--> 240\u001b[0m     rv \u001b[39m=\u001b[39m F(rv)\n\u001b[1;32m    241\u001b[0m \u001b[39melif\u001b[39;00m atoms:\n\u001b[1;32m    242\u001b[0m     rv \u001b[39m=\u001b[39m F(rv)\n",
      "File \u001b[0;32m~/Desktop/Docker/venv/lib/python3.9/site-packages/sympy/simplify/fu.py:750\u001b[0m, in \u001b[0;36mTR10i.<locals>.f\u001b[0;34m(rv)\u001b[0m\n\u001b[1;32m    747\u001b[0m         rv \u001b[39m=\u001b[39m Add(\u001b[39m*\u001b[39m(args \u001b[39m+\u001b[39m [Add(\u001b[39m*\u001b[39m[_f \u001b[39mfor\u001b[39;00m _f \u001b[39min\u001b[39;00m v \u001b[39mif\u001b[39;00m _f])\n\u001b[1;32m    748\u001b[0m             \u001b[39mfor\u001b[39;00m v \u001b[39min\u001b[39;00m byrad\u001b[39m.\u001b[39mvalues()]))\n\u001b[1;32m    749\u001b[0m     \u001b[39melse\u001b[39;00m:\n\u001b[0;32m--> 750\u001b[0m         rv \u001b[39m=\u001b[39m do(rv)  \u001b[39m# final pass to resolve any new inducible pairs\u001b[39;00m\n\u001b[1;32m    751\u001b[0m         \u001b[39mbreak\u001b[39;00m\n\u001b[1;32m    753\u001b[0m \u001b[39mreturn\u001b[39;00m rv\n",
      "File \u001b[0;32m~/Desktop/Docker/venv/lib/python3.9/site-packages/sympy/simplify/fu.py:677\u001b[0m, in \u001b[0;36mTR10i.<locals>.f.<locals>.do\u001b[0;34m(rv, first)\u001b[0m\n\u001b[1;32m    675\u001b[0m     \u001b[39mcontinue\u001b[39;00m\n\u001b[1;32m    676\u001b[0m was \u001b[39m=\u001b[39m ai \u001b[39m+\u001b[39m aj\n\u001b[0;32m--> 677\u001b[0m new \u001b[39m=\u001b[39m do(was)\n\u001b[1;32m    678\u001b[0m \u001b[39mif\u001b[39;00m new \u001b[39m!=\u001b[39m was:\n\u001b[1;32m    679\u001b[0m     args[i] \u001b[39m=\u001b[39m new  \u001b[39m# update in place\u001b[39;00m\n",
      "File \u001b[0;32m~/Desktop/Docker/venv/lib/python3.9/site-packages/sympy/simplify/fu.py:691\u001b[0m, in \u001b[0;36mTR10i.<locals>.f.<locals>.do\u001b[0;34m(rv, first)\u001b[0m\n\u001b[1;32m    688\u001b[0m     \u001b[39mreturn\u001b[39;00m rv\n\u001b[1;32m    690\u001b[0m \u001b[39m# two-arg Add\u001b[39;00m\n\u001b[0;32m--> 691\u001b[0m split \u001b[39m=\u001b[39m trig_split(\u001b[39m*\u001b[39;49margs, two\u001b[39m=\u001b[39;49m\u001b[39mTrue\u001b[39;49;00m)\n\u001b[1;32m    692\u001b[0m \u001b[39mif\u001b[39;00m \u001b[39mnot\u001b[39;00m split:\n\u001b[1;32m    693\u001b[0m     \u001b[39mreturn\u001b[39;00m rv\n",
      "File \u001b[0;32m~/Desktop/Docker/venv/lib/python3.9/site-packages/sympy/simplify/fu.py:1780\u001b[0m, in \u001b[0;36mtrig_split\u001b[0;34m(a, b, two)\u001b[0m\n\u001b[1;32m   1778\u001b[0m     ub \u001b[39m=\u001b[39m ub\u001b[39m.\u001b[39mquo(S\u001b[39m.\u001b[39mNegativeOne)\n\u001b[1;32m   1779\u001b[0m     n2 \u001b[39m=\u001b[39m \u001b[39m-\u001b[39mn2\n\u001b[0;32m-> 1780\u001b[0m a, b \u001b[39m=\u001b[39m [i\u001b[39m.\u001b[39mas_expr() \u001b[39mfor\u001b[39;00m i \u001b[39min\u001b[39;00m (ua, ub)]\n\u001b[1;32m   1782\u001b[0m \u001b[39mdef\u001b[39;00m \u001b[39mpow_cos_sin\u001b[39m(a, two):\n\u001b[1;32m   1783\u001b[0m \u001b[39m    \u001b[39m\u001b[39m\"\"\"Return ``a`` as a tuple (r, c, s) such that\u001b[39;00m\n\u001b[1;32m   1784\u001b[0m \u001b[39m    ``a = (r or 1)*(c or 1)*(s or 1)``.\u001b[39;00m\n\u001b[1;32m   1785\u001b[0m \n\u001b[0;32m   (...)\u001b[0m\n\u001b[1;32m   1800\u001b[0m \u001b[39m    is returned.\u001b[39;00m\n\u001b[1;32m   1801\u001b[0m \u001b[39m    \"\"\"\u001b[39;00m\n",
      "File \u001b[0;32m~/Desktop/Docker/venv/lib/python3.9/site-packages/sympy/simplify/fu.py:1780\u001b[0m, in \u001b[0;36m<listcomp>\u001b[0;34m(.0)\u001b[0m\n\u001b[1;32m   1778\u001b[0m     ub \u001b[39m=\u001b[39m ub\u001b[39m.\u001b[39mquo(S\u001b[39m.\u001b[39mNegativeOne)\n\u001b[1;32m   1779\u001b[0m     n2 \u001b[39m=\u001b[39m \u001b[39m-\u001b[39mn2\n\u001b[0;32m-> 1780\u001b[0m a, b \u001b[39m=\u001b[39m [i\u001b[39m.\u001b[39;49mas_expr() \u001b[39mfor\u001b[39;00m i \u001b[39min\u001b[39;00m (ua, ub)]\n\u001b[1;32m   1782\u001b[0m \u001b[39mdef\u001b[39;00m \u001b[39mpow_cos_sin\u001b[39m(a, two):\n\u001b[1;32m   1783\u001b[0m \u001b[39m    \u001b[39m\u001b[39m\"\"\"Return ``a`` as a tuple (r, c, s) such that\u001b[39;00m\n\u001b[1;32m   1784\u001b[0m \u001b[39m    ``a = (r or 1)*(c or 1)*(s or 1)``.\u001b[39;00m\n\u001b[1;32m   1785\u001b[0m \n\u001b[0;32m   (...)\u001b[0m\n\u001b[1;32m   1800\u001b[0m \u001b[39m    is returned.\u001b[39;00m\n\u001b[1;32m   1801\u001b[0m \u001b[39m    \"\"\"\u001b[39;00m\n",
      "File \u001b[0;32m~/Desktop/Docker/venv/lib/python3.9/site-packages/sympy/core/exprtools.py:462\u001b[0m, in \u001b[0;36mFactors.as_expr\u001b[0;34m(self)\u001b[0m\n\u001b[1;32m    460\u001b[0m     \u001b[39melse\u001b[39;00m:\n\u001b[1;32m    461\u001b[0m         args\u001b[39m.\u001b[39mappend(factor)\n\u001b[0;32m--> 462\u001b[0m \u001b[39mreturn\u001b[39;00m Mul(\u001b[39m*\u001b[39;49margs)\n",
      "File \u001b[0;32m~/Desktop/Docker/venv/lib/python3.9/site-packages/sympy/core/cache.py:70\u001b[0m, in \u001b[0;36m__cacheit.<locals>.func_wrapper.<locals>.wrapper\u001b[0;34m(*args, **kwargs)\u001b[0m\n\u001b[1;32m     67\u001b[0m \u001b[39m@wraps\u001b[39m(func)\n\u001b[1;32m     68\u001b[0m \u001b[39mdef\u001b[39;00m \u001b[39mwrapper\u001b[39m(\u001b[39m*\u001b[39margs, \u001b[39m*\u001b[39m\u001b[39m*\u001b[39mkwargs):\n\u001b[1;32m     69\u001b[0m     \u001b[39mtry\u001b[39;00m:\n\u001b[0;32m---> 70\u001b[0m         retval \u001b[39m=\u001b[39m cfunc(\u001b[39m*\u001b[39;49margs, \u001b[39m*\u001b[39;49m\u001b[39m*\u001b[39;49mkwargs)\n\u001b[1;32m     71\u001b[0m     \u001b[39mexcept\u001b[39;00m \u001b[39mTypeError\u001b[39;00m \u001b[39mas\u001b[39;00m e:\n\u001b[1;32m     72\u001b[0m         \u001b[39mif\u001b[39;00m \u001b[39mnot\u001b[39;00m e\u001b[39m.\u001b[39margs \u001b[39mor\u001b[39;00m \u001b[39mnot\u001b[39;00m e\u001b[39m.\u001b[39margs[\u001b[39m0\u001b[39m]\u001b[39m.\u001b[39mstartswith(\u001b[39m'\u001b[39m\u001b[39munhashable type:\u001b[39m\u001b[39m'\u001b[39m):\n",
      "File \u001b[0;32m~/Desktop/Docker/venv/lib/python3.9/site-packages/sympy/core/operations.py:98\u001b[0m, in \u001b[0;36mAssocOp.__new__\u001b[0;34m(cls, evaluate, _sympify, *args)\u001b[0m\n\u001b[1;32m     95\u001b[0m \u001b[39mif\u001b[39;00m \u001b[39mlen\u001b[39m(args) \u001b[39m==\u001b[39m \u001b[39m1\u001b[39m:\n\u001b[1;32m     96\u001b[0m     \u001b[39mreturn\u001b[39;00m args[\u001b[39m0\u001b[39m]\n\u001b[0;32m---> 98\u001b[0m c_part, nc_part, order_symbols \u001b[39m=\u001b[39m \u001b[39mcls\u001b[39;49m\u001b[39m.\u001b[39;49mflatten(args)\n\u001b[1;32m     99\u001b[0m is_commutative \u001b[39m=\u001b[39m \u001b[39mnot\u001b[39;00m nc_part\n\u001b[1;32m    100\u001b[0m obj \u001b[39m=\u001b[39m \u001b[39mcls\u001b[39m\u001b[39m.\u001b[39m_from_args(c_part \u001b[39m+\u001b[39m nc_part, is_commutative)\n",
      "File \u001b[0;32m~/Desktop/Docker/venv/lib/python3.9/site-packages/sympy/core/mul.py:703\u001b[0m, in \u001b[0;36mMul.flatten\u001b[0;34m(cls, seq)\u001b[0m\n\u001b[1;32m    700\u001b[0m c_part \u001b[39m=\u001b[39m _new\n\u001b[1;32m    702\u001b[0m \u001b[39m# order commutative part canonically\u001b[39;00m\n\u001b[0;32m--> 703\u001b[0m _mulsort(c_part)\n\u001b[1;32m    705\u001b[0m \u001b[39m# current code expects coeff to be always in slot-0\u001b[39;00m\n\u001b[1;32m    706\u001b[0m \u001b[39mif\u001b[39;00m coeff \u001b[39mis\u001b[39;00m \u001b[39mnot\u001b[39;00m S\u001b[39m.\u001b[39mOne:\n",
      "File \u001b[0;32m~/Desktop/Docker/venv/lib/python3.9/site-packages/sympy/core/mul.py:35\u001b[0m, in \u001b[0;36m_mulsort\u001b[0;34m(args)\u001b[0m\n\u001b[1;32m     33\u001b[0m \u001b[39mdef\u001b[39;00m \u001b[39m_mulsort\u001b[39m(args):\n\u001b[1;32m     34\u001b[0m     \u001b[39m# in-place sorting of args\u001b[39;00m\n\u001b[0;32m---> 35\u001b[0m     args\u001b[39m.\u001b[39;49msort(key\u001b[39m=\u001b[39;49m_args_sortkey)\n",
      "\u001b[0;31mKeyboardInterrupt\u001b[0m: "
     ]
    }
   ],
   "source": [
    "LLomega2 = simplify(R @ I @ R.T @ diff(diff(theta, t), t) +\n",
    "                    Om @ R @ I @ R.T @ diff(theta, t))\n"
   ]
  },
  {
   "cell_type": "code",
   "execution_count": null,
   "metadata": {},
   "outputs": [
    {
     "data": {
      "text/latex": [
       "$\\displaystyle \\left[\\begin{matrix}I_{11} \\left(- \\sin{\\left(\\theta_{2}{\\left(t \\right)} \\right)} \\frac{d}{d t} \\theta_{3}{\\left(t \\right)} + \\sin{\\left(\\theta_{3}{\\left(t \\right)} \\right)} \\cos{\\left(\\theta_{2}{\\left(t \\right)} \\right)} \\frac{d}{d t} \\theta_{2}{\\left(t \\right)} + \\cos{\\left(\\theta_{2}{\\left(t \\right)} \\right)} \\cos{\\left(\\theta_{3}{\\left(t \\right)} \\right)} \\frac{d}{d t} \\theta_{1}{\\left(t \\right)}\\right) \\cos{\\left(\\theta_{2}{\\left(t \\right)} \\right)} \\cos{\\left(\\theta_{3}{\\left(t \\right)} \\right)} - I_{11} \\frac{d^{2}}{d t^{2}} \\theta_{1}{\\left(t \\right)} - I_{22} \\left(\\sin{\\left(\\theta_{2}{\\left(t \\right)} \\right)} \\frac{d}{d t} \\theta_{1}{\\left(t \\right)} - \\frac{d}{d t} \\theta_{3}{\\left(t \\right)}\\right) \\frac{d}{d t} \\theta_{2}{\\left(t \\right)} + I_{22} \\left(\\sin{\\left(\\theta_{1}{\\left(t \\right)} \\right)} \\sin{\\left(\\theta_{2}{\\left(t \\right)} \\right)} \\cos{\\left(\\theta_{3}{\\left(t \\right)} \\right)} - \\sin{\\left(\\theta_{3}{\\left(t \\right)} \\right)} \\cos{\\left(\\theta_{1}{\\left(t \\right)} \\right)}\\right) \\left(\\left(\\sin{\\left(\\theta_{1}{\\left(t \\right)} \\right)} \\sin{\\left(\\theta_{2}{\\left(t \\right)} \\right)} \\sin{\\left(\\theta_{3}{\\left(t \\right)} \\right)} + \\cos{\\left(\\theta_{1}{\\left(t \\right)} \\right)} \\cos{\\left(\\theta_{3}{\\left(t \\right)} \\right)}\\right) \\frac{d}{d t} \\theta_{2}{\\left(t \\right)} + \\left(\\sin{\\left(\\theta_{1}{\\left(t \\right)} \\right)} \\sin{\\left(\\theta_{2}{\\left(t \\right)} \\right)} \\cos{\\left(\\theta_{3}{\\left(t \\right)} \\right)} - \\sin{\\left(\\theta_{3}{\\left(t \\right)} \\right)} \\cos{\\left(\\theta_{1}{\\left(t \\right)} \\right)}\\right) \\frac{d}{d t} \\theta_{1}{\\left(t \\right)} + \\sin{\\left(\\theta_{1}{\\left(t \\right)} \\right)} \\cos{\\left(\\theta_{2}{\\left(t \\right)} \\right)} \\frac{d}{d t} \\theta_{3}{\\left(t \\right)}\\right) + I_{33} \\left(\\sin{\\left(\\theta_{1}{\\left(t \\right)} \\right)} \\sin{\\left(\\theta_{3}{\\left(t \\right)} \\right)} + \\sin{\\left(\\theta_{2}{\\left(t \\right)} \\right)} \\cos{\\left(\\theta_{1}{\\left(t \\right)} \\right)} \\cos{\\left(\\theta_{3}{\\left(t \\right)} \\right)}\\right) \\left(\\left(\\sin{\\left(\\theta_{1}{\\left(t \\right)} \\right)} \\sin{\\left(\\theta_{3}{\\left(t \\right)} \\right)} + \\sin{\\left(\\theta_{2}{\\left(t \\right)} \\right)} \\cos{\\left(\\theta_{1}{\\left(t \\right)} \\right)} \\cos{\\left(\\theta_{3}{\\left(t \\right)} \\right)}\\right) \\frac{d}{d t} \\theta_{1}{\\left(t \\right)} - \\left(\\sin{\\left(\\theta_{1}{\\left(t \\right)} \\right)} \\cos{\\left(\\theta_{3}{\\left(t \\right)} \\right)} - \\sin{\\left(\\theta_{2}{\\left(t \\right)} \\right)} \\sin{\\left(\\theta_{3}{\\left(t \\right)} \\right)} \\cos{\\left(\\theta_{1}{\\left(t \\right)} \\right)}\\right) \\frac{d}{d t} \\theta_{2}{\\left(t \\right)} + \\cos{\\left(\\theta_{1}{\\left(t \\right)} \\right)} \\cos{\\left(\\theta_{2}{\\left(t \\right)} \\right)} \\frac{d}{d t} \\theta_{3}{\\left(t \\right)}\\right) - I_{33} \\left(\\sin{\\left(\\theta_{3}{\\left(t \\right)} \\right)} \\cos{\\left(\\theta_{2}{\\left(t \\right)} \\right)} \\frac{d}{d t} \\theta_{1}{\\left(t \\right)} + \\cos{\\left(\\theta_{3}{\\left(t \\right)} \\right)} \\frac{d}{d t} \\theta_{2}{\\left(t \\right)}\\right) \\frac{d}{d t} \\theta_{3}{\\left(t \\right)}\\\\I_{11} \\left(\\sin{\\left(\\theta_{2}{\\left(t \\right)} \\right)} \\frac{d}{d t} \\theta_{1}{\\left(t \\right)} - \\frac{d}{d t} \\theta_{3}{\\left(t \\right)}\\right) \\frac{d}{d t} \\theta_{1}{\\left(t \\right)} + I_{11} \\left(- \\sin{\\left(\\theta_{2}{\\left(t \\right)} \\right)} \\frac{d}{d t} \\theta_{3}{\\left(t \\right)} + \\sin{\\left(\\theta_{3}{\\left(t \\right)} \\right)} \\cos{\\left(\\theta_{2}{\\left(t \\right)} \\right)} \\frac{d}{d t} \\theta_{2}{\\left(t \\right)} + \\cos{\\left(\\theta_{2}{\\left(t \\right)} \\right)} \\cos{\\left(\\theta_{3}{\\left(t \\right)} \\right)} \\frac{d}{d t} \\theta_{1}{\\left(t \\right)}\\right) \\sin{\\left(\\theta_{3}{\\left(t \\right)} \\right)} \\cos{\\left(\\theta_{2}{\\left(t \\right)} \\right)} + I_{22} \\left(\\sin{\\left(\\theta_{1}{\\left(t \\right)} \\right)} \\sin{\\left(\\theta_{2}{\\left(t \\right)} \\right)} \\sin{\\left(\\theta_{3}{\\left(t \\right)} \\right)} + \\cos{\\left(\\theta_{1}{\\left(t \\right)} \\right)} \\cos{\\left(\\theta_{3}{\\left(t \\right)} \\right)}\\right) \\left(\\left(\\sin{\\left(\\theta_{1}{\\left(t \\right)} \\right)} \\sin{\\left(\\theta_{2}{\\left(t \\right)} \\right)} \\sin{\\left(\\theta_{3}{\\left(t \\right)} \\right)} + \\cos{\\left(\\theta_{1}{\\left(t \\right)} \\right)} \\cos{\\left(\\theta_{3}{\\left(t \\right)} \\right)}\\right) \\frac{d}{d t} \\theta_{2}{\\left(t \\right)} + \\left(\\sin{\\left(\\theta_{1}{\\left(t \\right)} \\right)} \\sin{\\left(\\theta_{2}{\\left(t \\right)} \\right)} \\cos{\\left(\\theta_{3}{\\left(t \\right)} \\right)} - \\sin{\\left(\\theta_{3}{\\left(t \\right)} \\right)} \\cos{\\left(\\theta_{1}{\\left(t \\right)} \\right)}\\right) \\frac{d}{d t} \\theta_{1}{\\left(t \\right)} + \\sin{\\left(\\theta_{1}{\\left(t \\right)} \\right)} \\cos{\\left(\\theta_{2}{\\left(t \\right)} \\right)} \\frac{d}{d t} \\theta_{3}{\\left(t \\right)}\\right) - I_{22} \\frac{d^{2}}{d t^{2}} \\theta_{2}{\\left(t \\right)} - I_{33} \\left(\\sin{\\left(\\theta_{1}{\\left(t \\right)} \\right)} \\cos{\\left(\\theta_{3}{\\left(t \\right)} \\right)} - \\sin{\\left(\\theta_{2}{\\left(t \\right)} \\right)} \\sin{\\left(\\theta_{3}{\\left(t \\right)} \\right)} \\cos{\\left(\\theta_{1}{\\left(t \\right)} \\right)}\\right) \\left(\\left(\\sin{\\left(\\theta_{1}{\\left(t \\right)} \\right)} \\sin{\\left(\\theta_{3}{\\left(t \\right)} \\right)} + \\sin{\\left(\\theta_{2}{\\left(t \\right)} \\right)} \\cos{\\left(\\theta_{1}{\\left(t \\right)} \\right)} \\cos{\\left(\\theta_{3}{\\left(t \\right)} \\right)}\\right) \\frac{d}{d t} \\theta_{1}{\\left(t \\right)} - \\left(\\sin{\\left(\\theta_{1}{\\left(t \\right)} \\right)} \\cos{\\left(\\theta_{3}{\\left(t \\right)} \\right)} - \\sin{\\left(\\theta_{2}{\\left(t \\right)} \\right)} \\sin{\\left(\\theta_{3}{\\left(t \\right)} \\right)} \\cos{\\left(\\theta_{1}{\\left(t \\right)} \\right)}\\right) \\frac{d}{d t} \\theta_{2}{\\left(t \\right)} + \\cos{\\left(\\theta_{1}{\\left(t \\right)} \\right)} \\cos{\\left(\\theta_{2}{\\left(t \\right)} \\right)} \\frac{d}{d t} \\theta_{3}{\\left(t \\right)}\\right) - I_{33} \\left(\\sin{\\left(\\theta_{3}{\\left(t \\right)} \\right)} \\frac{d}{d t} \\theta_{2}{\\left(t \\right)} - \\cos{\\left(\\theta_{2}{\\left(t \\right)} \\right)} \\cos{\\left(\\theta_{3}{\\left(t \\right)} \\right)} \\frac{d}{d t} \\theta_{1}{\\left(t \\right)}\\right) \\frac{d}{d t} \\theta_{3}{\\left(t \\right)}\\\\I_{11} \\left(\\sin{\\left(\\theta_{3}{\\left(t \\right)} \\right)} \\cos{\\left(\\theta_{2}{\\left(t \\right)} \\right)} \\frac{d}{d t} \\theta_{1}{\\left(t \\right)} + \\cos{\\left(\\theta_{3}{\\left(t \\right)} \\right)} \\frac{d}{d t} \\theta_{2}{\\left(t \\right)}\\right) \\frac{d}{d t} \\theta_{1}{\\left(t \\right)} - \\frac{I_{11} \\left(\\sin{\\left(2 \\theta_{2}{\\left(t \\right)} - \\theta_{3}{\\left(t \\right)} \\right)} \\frac{d}{d t} \\theta_{1}{\\left(t \\right)} + \\sin{\\left(2 \\theta_{2}{\\left(t \\right)} + \\theta_{3}{\\left(t \\right)} \\right)} \\frac{d}{d t} \\theta_{1}{\\left(t \\right)} + \\cos{\\left(2 \\theta_{2}{\\left(t \\right)} - \\theta_{3}{\\left(t \\right)} \\right)} \\frac{d}{d t} \\theta_{2}{\\left(t \\right)} - \\cos{\\left(2 \\theta_{2}{\\left(t \\right)} + \\theta_{3}{\\left(t \\right)} \\right)} \\frac{d}{d t} \\theta_{2}{\\left(t \\right)} + 2 \\cos{\\left(2 \\theta_{2}{\\left(t \\right)} \\right)} \\frac{d}{d t} \\theta_{3}{\\left(t \\right)} - 2 \\frac{d}{d t} \\theta_{3}{\\left(t \\right)}\\right)}{4} + I_{22} \\left(\\sin{\\left(\\theta_{3}{\\left(t \\right)} \\right)} \\frac{d}{d t} \\theta_{2}{\\left(t \\right)} - \\cos{\\left(\\theta_{2}{\\left(t \\right)} \\right)} \\cos{\\left(\\theta_{3}{\\left(t \\right)} \\right)} \\frac{d}{d t} \\theta_{1}{\\left(t \\right)}\\right) \\frac{d}{d t} \\theta_{2}{\\left(t \\right)} + I_{22} \\left(\\left(\\sin{\\left(\\theta_{1}{\\left(t \\right)} \\right)} \\sin{\\left(\\theta_{2}{\\left(t \\right)} \\right)} \\sin{\\left(\\theta_{3}{\\left(t \\right)} \\right)} + \\cos{\\left(\\theta_{1}{\\left(t \\right)} \\right)} \\cos{\\left(\\theta_{3}{\\left(t \\right)} \\right)}\\right) \\frac{d}{d t} \\theta_{2}{\\left(t \\right)} + \\left(\\sin{\\left(\\theta_{1}{\\left(t \\right)} \\right)} \\sin{\\left(\\theta_{2}{\\left(t \\right)} \\right)} \\cos{\\left(\\theta_{3}{\\left(t \\right)} \\right)} - \\sin{\\left(\\theta_{3}{\\left(t \\right)} \\right)} \\cos{\\left(\\theta_{1}{\\left(t \\right)} \\right)}\\right) \\frac{d}{d t} \\theta_{1}{\\left(t \\right)} + \\sin{\\left(\\theta_{1}{\\left(t \\right)} \\right)} \\cos{\\left(\\theta_{2}{\\left(t \\right)} \\right)} \\frac{d}{d t} \\theta_{3}{\\left(t \\right)}\\right) \\sin{\\left(\\theta_{1}{\\left(t \\right)} \\right)} \\cos{\\left(\\theta_{2}{\\left(t \\right)} \\right)} + I_{33} \\left(\\left(\\sin{\\left(\\theta_{1}{\\left(t \\right)} \\right)} \\sin{\\left(\\theta_{3}{\\left(t \\right)} \\right)} + \\sin{\\left(\\theta_{2}{\\left(t \\right)} \\right)} \\cos{\\left(\\theta_{1}{\\left(t \\right)} \\right)} \\cos{\\left(\\theta_{3}{\\left(t \\right)} \\right)}\\right) \\frac{d}{d t} \\theta_{1}{\\left(t \\right)} - \\left(\\sin{\\left(\\theta_{1}{\\left(t \\right)} \\right)} \\cos{\\left(\\theta_{3}{\\left(t \\right)} \\right)} - \\sin{\\left(\\theta_{2}{\\left(t \\right)} \\right)} \\sin{\\left(\\theta_{3}{\\left(t \\right)} \\right)} \\cos{\\left(\\theta_{1}{\\left(t \\right)} \\right)}\\right) \\frac{d}{d t} \\theta_{2}{\\left(t \\right)} + \\cos{\\left(\\theta_{1}{\\left(t \\right)} \\right)} \\cos{\\left(\\theta_{2}{\\left(t \\right)} \\right)} \\frac{d}{d t} \\theta_{3}{\\left(t \\right)}\\right) \\cos{\\left(\\theta_{1}{\\left(t \\right)} \\right)} \\cos{\\left(\\theta_{2}{\\left(t \\right)} \\right)} - I_{33} \\frac{d^{2}}{d t^{2}} \\theta_{3}{\\left(t \\right)}\\end{matrix}\\right]$"
      ],
      "text/plain": [
       "Matrix([\n",
       "[                                               I_11*(-sin(theta_2(t))*Derivative(theta_3(t), t) + sin(theta_3(t))*cos(theta_2(t))*Derivative(theta_2(t), t) + cos(theta_2(t))*cos(theta_3(t))*Derivative(theta_1(t), t))*cos(theta_2(t))*cos(theta_3(t)) - I_11*Derivative(theta_1(t), (t, 2)) - I_22*(sin(theta_2(t))*Derivative(theta_1(t), t) - Derivative(theta_3(t), t))*Derivative(theta_2(t), t) + I_22*(sin(theta_1(t))*sin(theta_2(t))*cos(theta_3(t)) - sin(theta_3(t))*cos(theta_1(t)))*((sin(theta_1(t))*sin(theta_2(t))*sin(theta_3(t)) + cos(theta_1(t))*cos(theta_3(t)))*Derivative(theta_2(t), t) + (sin(theta_1(t))*sin(theta_2(t))*cos(theta_3(t)) - sin(theta_3(t))*cos(theta_1(t)))*Derivative(theta_1(t), t) + sin(theta_1(t))*cos(theta_2(t))*Derivative(theta_3(t), t)) + I_33*(sin(theta_1(t))*sin(theta_3(t)) + sin(theta_2(t))*cos(theta_1(t))*cos(theta_3(t)))*((sin(theta_1(t))*sin(theta_3(t)) + sin(theta_2(t))*cos(theta_1(t))*cos(theta_3(t)))*Derivative(theta_1(t), t) - (sin(theta_1(t))*cos(theta_3(t)) - sin(theta_2(t))*sin(theta_3(t))*cos(theta_1(t)))*Derivative(theta_2(t), t) + cos(theta_1(t))*cos(theta_2(t))*Derivative(theta_3(t), t)) - I_33*(sin(theta_3(t))*cos(theta_2(t))*Derivative(theta_1(t), t) + cos(theta_3(t))*Derivative(theta_2(t), t))*Derivative(theta_3(t), t)],\n",
       "[                                               I_11*(sin(theta_2(t))*Derivative(theta_1(t), t) - Derivative(theta_3(t), t))*Derivative(theta_1(t), t) + I_11*(-sin(theta_2(t))*Derivative(theta_3(t), t) + sin(theta_3(t))*cos(theta_2(t))*Derivative(theta_2(t), t) + cos(theta_2(t))*cos(theta_3(t))*Derivative(theta_1(t), t))*sin(theta_3(t))*cos(theta_2(t)) + I_22*(sin(theta_1(t))*sin(theta_2(t))*sin(theta_3(t)) + cos(theta_1(t))*cos(theta_3(t)))*((sin(theta_1(t))*sin(theta_2(t))*sin(theta_3(t)) + cos(theta_1(t))*cos(theta_3(t)))*Derivative(theta_2(t), t) + (sin(theta_1(t))*sin(theta_2(t))*cos(theta_3(t)) - sin(theta_3(t))*cos(theta_1(t)))*Derivative(theta_1(t), t) + sin(theta_1(t))*cos(theta_2(t))*Derivative(theta_3(t), t)) - I_22*Derivative(theta_2(t), (t, 2)) - I_33*(sin(theta_1(t))*cos(theta_3(t)) - sin(theta_2(t))*sin(theta_3(t))*cos(theta_1(t)))*((sin(theta_1(t))*sin(theta_3(t)) + sin(theta_2(t))*cos(theta_1(t))*cos(theta_3(t)))*Derivative(theta_1(t), t) - (sin(theta_1(t))*cos(theta_3(t)) - sin(theta_2(t))*sin(theta_3(t))*cos(theta_1(t)))*Derivative(theta_2(t), t) + cos(theta_1(t))*cos(theta_2(t))*Derivative(theta_3(t), t)) - I_33*(sin(theta_3(t))*Derivative(theta_2(t), t) - cos(theta_2(t))*cos(theta_3(t))*Derivative(theta_1(t), t))*Derivative(theta_3(t), t)],\n",
       "[I_11*(sin(theta_3(t))*cos(theta_2(t))*Derivative(theta_1(t), t) + cos(theta_3(t))*Derivative(theta_2(t), t))*Derivative(theta_1(t), t) - I_11*(sin(2*theta_2(t) - theta_3(t))*Derivative(theta_1(t), t) + sin(2*theta_2(t) + theta_3(t))*Derivative(theta_1(t), t) + cos(2*theta_2(t) - theta_3(t))*Derivative(theta_2(t), t) - cos(2*theta_2(t) + theta_3(t))*Derivative(theta_2(t), t) + 2*cos(2*theta_2(t))*Derivative(theta_3(t), t) - 2*Derivative(theta_3(t), t))/4 + I_22*(sin(theta_3(t))*Derivative(theta_2(t), t) - cos(theta_2(t))*cos(theta_3(t))*Derivative(theta_1(t), t))*Derivative(theta_2(t), t) + I_22*((sin(theta_1(t))*sin(theta_2(t))*sin(theta_3(t)) + cos(theta_1(t))*cos(theta_3(t)))*Derivative(theta_2(t), t) + (sin(theta_1(t))*sin(theta_2(t))*cos(theta_3(t)) - sin(theta_3(t))*cos(theta_1(t)))*Derivative(theta_1(t), t) + sin(theta_1(t))*cos(theta_2(t))*Derivative(theta_3(t), t))*sin(theta_1(t))*cos(theta_2(t)) + I_33*((sin(theta_1(t))*sin(theta_3(t)) + sin(theta_2(t))*cos(theta_1(t))*cos(theta_3(t)))*Derivative(theta_1(t), t) - (sin(theta_1(t))*cos(theta_3(t)) - sin(theta_2(t))*sin(theta_3(t))*cos(theta_1(t)))*Derivative(theta_2(t), t) + cos(theta_1(t))*cos(theta_2(t))*Derivative(theta_3(t), t))*cos(theta_1(t))*cos(theta_2(t)) - I_33*Derivative(theta_3(t), (t, 2))]])"
      ]
     },
     "execution_count": 143,
     "metadata": {},
     "output_type": "execute_result"
    }
   ],
   "source": [
    "simplify(LLomega.T - LLomega2)\n"
   ]
  },
  {
   "cell_type": "code",
   "execution_count": null,
   "metadata": {},
   "outputs": [
    {
     "data": {
      "text/latex": [
       "$\\displaystyle \\left[\\begin{matrix}0 & 0 & 0\\\\0 & 0 & 0\\\\0 & 0 & 0\\end{matrix}\\right]$"
      ],
      "text/plain": [
       "Matrix([\n",
       "[0, 0, 0],\n",
       "[0, 0, 0],\n",
       "[0, 0, 0]])"
      ]
     },
     "execution_count": 141,
     "metadata": {},
     "output_type": "execute_result"
    }
   ],
   "source": [
    "x = Matrix(symbols('x:3'))\n",
    "Om2 = sp_skew(diff(Matrix([0, theta2, 0]), t))\n",
    "Om1 = sp_skew(diff(Matrix([0, 0, theta3]), t))\n",
    "Om3 = sp_skew(diff(Matrix([theta1, 0, 0]), t))\n",
    "Om = Om1 + R1 @ Om2 @ R1.T + R1 @ R2 @ Om3 @ R2.T @ R1.T\n",
    "simplify(diff(R, t) - Om @ R)\n"
   ]
  },
  {
   "cell_type": "code",
   "execution_count": null,
   "metadata": {},
   "outputs": [
    {
     "data": {
      "text/latex": [
       "$\\displaystyle \\left[\\begin{matrix}\\left(\\sin{\\left(\\theta_{3}{\\left(t \\right)} \\right)} \\cos{\\left(\\theta_{2}{\\left(t \\right)} \\right)} \\frac{d}{d t} \\theta_{1}{\\left(t \\right)} + \\cos{\\left(\\theta_{3}{\\left(t \\right)} \\right)} \\frac{d}{d t} \\theta_{2}{\\left(t \\right)}\\right) \\frac{d}{d t} \\theta_{3}{\\left(t \\right)} + \\left(\\sin{\\left(\\theta_{2}{\\left(t \\right)} \\right)} \\sin^{2}{\\left(\\theta_{3}{\\left(t \\right)} \\right)} \\frac{d}{d t} \\theta_{1}{\\left(t \\right)} + \\sin{\\left(\\theta_{2}{\\left(t \\right)} \\right)} \\cos^{2}{\\left(\\theta_{3}{\\left(t \\right)} \\right)} \\frac{d}{d t} \\theta_{1}{\\left(t \\right)} - \\frac{d}{d t} \\theta_{3}{\\left(t \\right)}\\right) \\frac{d}{d t} \\theta_{2}{\\left(t \\right)}\\\\\\left(\\sin{\\left(\\theta_{3}{\\left(t \\right)} \\right)} \\frac{d}{d t} \\theta_{2}{\\left(t \\right)} - \\cos{\\left(\\theta_{2}{\\left(t \\right)} \\right)} \\cos{\\left(\\theta_{3}{\\left(t \\right)} \\right)} \\frac{d}{d t} \\theta_{1}{\\left(t \\right)}\\right) \\frac{d}{d t} \\theta_{3}{\\left(t \\right)} + \\left(- \\sin{\\left(\\theta_{2}{\\left(t \\right)} \\right)} \\sin^{2}{\\left(\\theta_{3}{\\left(t \\right)} \\right)} \\frac{d}{d t} \\theta_{1}{\\left(t \\right)} - \\sin{\\left(\\theta_{2}{\\left(t \\right)} \\right)} \\cos^{2}{\\left(\\theta_{3}{\\left(t \\right)} \\right)} \\frac{d}{d t} \\theta_{1}{\\left(t \\right)} + \\frac{d}{d t} \\theta_{3}{\\left(t \\right)}\\right) \\frac{d}{d t} \\theta_{1}{\\left(t \\right)}\\\\\\left(- \\sin{\\left(\\theta_{3}{\\left(t \\right)} \\right)} \\frac{d}{d t} \\theta_{2}{\\left(t \\right)} + \\cos{\\left(\\theta_{2}{\\left(t \\right)} \\right)} \\cos{\\left(\\theta_{3}{\\left(t \\right)} \\right)} \\frac{d}{d t} \\theta_{1}{\\left(t \\right)}\\right) \\frac{d}{d t} \\theta_{2}{\\left(t \\right)} + \\left(- \\sin{\\left(\\theta_{3}{\\left(t \\right)} \\right)} \\cos{\\left(\\theta_{2}{\\left(t \\right)} \\right)} \\frac{d}{d t} \\theta_{1}{\\left(t \\right)} - \\cos{\\left(\\theta_{3}{\\left(t \\right)} \\right)} \\frac{d}{d t} \\theta_{2}{\\left(t \\right)}\\right) \\frac{d}{d t} \\theta_{1}{\\left(t \\right)}\\end{matrix}\\right]$"
      ],
      "text/plain": [
       "Matrix([\n",
       "[ (sin(theta_3(t))*cos(theta_2(t))*Derivative(theta_1(t), t) + cos(theta_3(t))*Derivative(theta_2(t), t))*Derivative(theta_3(t), t) + (sin(theta_2(t))*sin(theta_3(t))**2*Derivative(theta_1(t), t) + sin(theta_2(t))*cos(theta_3(t))**2*Derivative(theta_1(t), t) - Derivative(theta_3(t), t))*Derivative(theta_2(t), t)],\n",
       "[(sin(theta_3(t))*Derivative(theta_2(t), t) - cos(theta_2(t))*cos(theta_3(t))*Derivative(theta_1(t), t))*Derivative(theta_3(t), t) + (-sin(theta_2(t))*sin(theta_3(t))**2*Derivative(theta_1(t), t) - sin(theta_2(t))*cos(theta_3(t))**2*Derivative(theta_1(t), t) + Derivative(theta_3(t), t))*Derivative(theta_1(t), t)],\n",
       "[                                                 (-sin(theta_3(t))*Derivative(theta_2(t), t) + cos(theta_2(t))*cos(theta_3(t))*Derivative(theta_1(t), t))*Derivative(theta_2(t), t) + (-sin(theta_3(t))*cos(theta_2(t))*Derivative(theta_1(t), t) - cos(theta_3(t))*Derivative(theta_2(t), t))*Derivative(theta_1(t), t)]])"
      ]
     },
     "execution_count": 144,
     "metadata": {},
     "output_type": "execute_result"
    }
   ],
   "source": [
    "Om @ diff(theta, t)\n"
   ]
  },
  {
   "cell_type": "code",
   "execution_count": null,
   "metadata": {},
   "outputs": [
    {
     "data": {
      "text/latex": [
       "$\\displaystyle \\left[\\begin{matrix}0\\\\0\\\\0\\end{matrix}\\right]$"
      ],
      "text/plain": [
       "Matrix([\n",
       "[0],\n",
       "[0],\n",
       "[0]])"
      ]
     },
     "execution_count": 148,
     "metadata": {},
     "output_type": "execute_result"
    }
   ],
   "source": [
    "Om2 @ diff(Matrix([0, theta2, 0]), t)\n"
   ]
  },
  {
   "cell_type": "code",
   "execution_count": null,
   "metadata": {},
   "outputs": [
    {
     "data": {
      "text/latex": [
       "$\\displaystyle \\left[\\begin{matrix}\\left(\\sin{\\left(\\theta_{2}{\\left(t \\right)} \\right)} \\frac{d}{d t} \\theta_{1}{\\left(t \\right)} - \\frac{d}{d t} \\theta_{3}{\\left(t \\right)}\\right) \\frac{d}{d t} \\theta_{2}{\\left(t \\right)} + \\left(\\sin{\\left(\\theta_{3}{\\left(t \\right)} \\right)} \\cos{\\left(\\theta_{2}{\\left(t \\right)} \\right)} \\frac{d}{d t} \\theta_{1}{\\left(t \\right)} + \\cos{\\left(\\theta_{3}{\\left(t \\right)} \\right)} \\frac{d}{d t} \\theta_{2}{\\left(t \\right)}\\right) \\frac{d}{d t} \\theta_{3}{\\left(t \\right)}\\\\- \\left(\\sin{\\left(\\theta_{2}{\\left(t \\right)} \\right)} \\frac{d}{d t} \\theta_{1}{\\left(t \\right)} - \\frac{d}{d t} \\theta_{3}{\\left(t \\right)}\\right) \\frac{d}{d t} \\theta_{1}{\\left(t \\right)} + \\left(\\sin{\\left(\\theta_{3}{\\left(t \\right)} \\right)} \\frac{d}{d t} \\theta_{2}{\\left(t \\right)} - \\cos{\\left(\\theta_{2}{\\left(t \\right)} \\right)} \\cos{\\left(\\theta_{3}{\\left(t \\right)} \\right)} \\frac{d}{d t} \\theta_{1}{\\left(t \\right)}\\right) \\frac{d}{d t} \\theta_{3}{\\left(t \\right)}\\\\- \\left(\\sin{\\left(\\theta_{3}{\\left(t \\right)} \\right)} \\frac{d}{d t} \\theta_{2}{\\left(t \\right)} - \\cos{\\left(\\theta_{2}{\\left(t \\right)} \\right)} \\cos{\\left(\\theta_{3}{\\left(t \\right)} \\right)} \\frac{d}{d t} \\theta_{1}{\\left(t \\right)}\\right) \\frac{d}{d t} \\theta_{2}{\\left(t \\right)} - \\left(\\sin{\\left(\\theta_{3}{\\left(t \\right)} \\right)} \\cos{\\left(\\theta_{2}{\\left(t \\right)} \\right)} \\frac{d}{d t} \\theta_{1}{\\left(t \\right)} + \\cos{\\left(\\theta_{3}{\\left(t \\right)} \\right)} \\frac{d}{d t} \\theta_{2}{\\left(t \\right)}\\right) \\frac{d}{d t} \\theta_{1}{\\left(t \\right)}\\end{matrix}\\right]$"
      ],
      "text/plain": [
       "Matrix([\n",
       "[                                 (sin(theta_2(t))*Derivative(theta_1(t), t) - Derivative(theta_3(t), t))*Derivative(theta_2(t), t) + (sin(theta_3(t))*cos(theta_2(t))*Derivative(theta_1(t), t) + cos(theta_3(t))*Derivative(theta_2(t), t))*Derivative(theta_3(t), t)],\n",
       "[                                -(sin(theta_2(t))*Derivative(theta_1(t), t) - Derivative(theta_3(t), t))*Derivative(theta_1(t), t) + (sin(theta_3(t))*Derivative(theta_2(t), t) - cos(theta_2(t))*cos(theta_3(t))*Derivative(theta_1(t), t))*Derivative(theta_3(t), t)],\n",
       "[-(sin(theta_3(t))*Derivative(theta_2(t), t) - cos(theta_2(t))*cos(theta_3(t))*Derivative(theta_1(t), t))*Derivative(theta_2(t), t) - (sin(theta_3(t))*cos(theta_2(t))*Derivative(theta_1(t), t) + cos(theta_3(t))*Derivative(theta_2(t), t))*Derivative(theta_1(t), t)]])"
      ]
     },
     "execution_count": 152,
     "metadata": {},
     "output_type": "execute_result"
    }
   ],
   "source": [
    "simplify(Om @ diff(Matrix([theta1, theta2, theta3]), t))\n"
   ]
  },
  {
   "cell_type": "code",
   "execution_count": null,
   "metadata": {},
   "outputs": [
    {
     "data": {
      "text/latex": [
       "$\\displaystyle \\left[\\begin{matrix}- \\frac{d}{d t} \\theta_{2}{\\left(t \\right)} \\frac{d}{d t} \\theta_{3}{\\left(t \\right)}\\\\0\\\\0\\end{matrix}\\right]$"
      ],
      "text/plain": [
       "Matrix([\n",
       "[-Derivative(theta_2(t), t)*Derivative(theta_3(t), t)],\n",
       "[                                                   0],\n",
       "[                                                   0]])"
      ]
     },
     "execution_count": 156,
     "metadata": {},
     "output_type": "execute_result"
    }
   ],
   "source": [
    "simplify(Om1 @ diff(Matrix([0, theta2, theta3]), t))\n"
   ]
  },
  {
   "cell_type": "code",
   "execution_count": null,
   "metadata": {},
   "outputs": [
    {
     "data": {
      "text/latex": [
       "$\\displaystyle \\left[\\begin{matrix}1 & 0\\\\0 & 1\\end{matrix}\\right]$"
      ],
      "text/plain": [
       "Matrix([\n",
       "[1, 0],\n",
       "[0, 1]])"
      ]
     },
     "execution_count": 102,
     "metadata": {},
     "output_type": "execute_result"
    }
   ],
   "source": [
    "R2d = Matrix([[cos(psi), -sin(psi)], [sin(psi), cos(psi)]])\n",
    "simplify(R2d @ R2d.T)\n"
   ]
  },
  {
   "cell_type": "code",
   "execution_count": null,
   "metadata": {},
   "outputs": [
    {
     "data": {
      "text/latex": [
       "$\\displaystyle \\left[\\begin{matrix}- \\frac{d}{d t} \\theta_{2}{\\left(t \\right)} \\frac{d}{d t} \\theta_{3}{\\left(t \\right)}\\\\\\frac{d}{d t} \\theta_{1}{\\left(t \\right)} \\frac{d}{d t} \\theta_{3}{\\left(t \\right)}\\\\0\\end{matrix}\\right]$"
      ],
      "text/plain": [
       "Matrix([\n",
       "[-Derivative(theta_2(t), t)*Derivative(theta_3(t), t)],\n",
       "[ Derivative(theta_1(t), t)*Derivative(theta_3(t), t)],\n",
       "[                                                   0]])"
      ]
     },
     "execution_count": 166,
     "metadata": {},
     "output_type": "execute_result"
    }
   ],
   "source": [
    "Om1[:, 0] * dtheta[0] + Om1[:, 1] * dtheta[1] + Om1[:, 2] * dtheta[2]\n"
   ]
  },
  {
   "cell_type": "code",
   "execution_count": null,
   "metadata": {},
   "outputs": [],
   "source": [
    "dtheta = diff(theta, t)\n"
   ]
  },
  {
   "cell_type": "code",
   "execution_count": null,
   "metadata": {},
   "outputs": [
    {
     "data": {
      "text/latex": [
       "$\\displaystyle \\left[\\begin{matrix}- \\frac{d}{d t} \\theta_{2}{\\left(t \\right)} \\frac{d}{d t} \\theta_{3}{\\left(t \\right)}\\\\\\frac{d}{d t} \\theta_{1}{\\left(t \\right)} \\frac{d}{d t} \\theta_{3}{\\left(t \\right)}\\\\0\\end{matrix}\\right]$"
      ],
      "text/plain": [
       "Matrix([\n",
       "[-Derivative(theta_2(t), t)*Derivative(theta_3(t), t)],\n",
       "[ Derivative(theta_1(t), t)*Derivative(theta_3(t), t)],\n",
       "[                                                   0]])"
      ]
     },
     "execution_count": 163,
     "metadata": {},
     "output_type": "execute_result"
    }
   ],
   "source": [
    "Om1 @ dtheta\n"
   ]
  },
  {
   "cell_type": "code",
   "execution_count": null,
   "metadata": {},
   "outputs": [
    {
     "data": {
      "text/latex": [
       "$\\displaystyle \\left[\\begin{matrix}\\frac{d}{d t} \\theta_{1}{\\left(t \\right)}\\\\\\frac{d}{d t} \\theta_{2}{\\left(t \\right)}\\\\\\frac{d}{d t} \\theta_{3}{\\left(t \\right)}\\end{matrix}\\right]$"
      ],
      "text/plain": [
       "Matrix([\n",
       "[Derivative(theta_1(t), t)],\n",
       "[Derivative(theta_2(t), t)],\n",
       "[Derivative(theta_3(t), t)]])"
      ]
     },
     "execution_count": 164,
     "metadata": {},
     "output_type": "execute_result"
    }
   ],
   "source": [
    "dtheta\n"
   ]
  },
  {
   "cell_type": "code",
   "execution_count": null,
   "metadata": {},
   "outputs": [
    {
     "data": {
      "text/latex": [
       "$\\displaystyle \\left[\\begin{matrix}0 & - \\frac{d}{d t} \\theta_{3}{\\left(t \\right)} & 0\\\\\\frac{d}{d t} \\theta_{3}{\\left(t \\right)} & 0 & 0\\\\0 & 0 & 0\\end{matrix}\\right]$"
      ],
      "text/plain": [
       "Matrix([\n",
       "[                        0, -Derivative(theta_3(t), t), 0],\n",
       "[Derivative(theta_3(t), t),                          0, 0],\n",
       "[                        0,                          0, 0]])"
      ]
     },
     "execution_count": 169,
     "metadata": {},
     "output_type": "execute_result"
    }
   ],
   "source": [
    "simplify(diff(R1, t) @ R1.T)\n"
   ]
  },
  {
   "cell_type": "code",
   "execution_count": null,
   "metadata": {},
   "outputs": [
    {
     "data": {
      "text/latex": [
       "$\\displaystyle \\left[\\begin{matrix}0 & 0 & \\cos{\\left(\\theta_{3}{\\left(t \\right)} \\right)} \\frac{d}{d t} \\theta_{2}{\\left(t \\right)}\\\\0 & 0 & \\sin{\\left(\\theta_{3}{\\left(t \\right)} \\right)} \\frac{d}{d t} \\theta_{2}{\\left(t \\right)}\\\\- \\cos{\\left(\\theta_{3}{\\left(t \\right)} \\right)} \\frac{d}{d t} \\theta_{2}{\\left(t \\right)} & - \\sin{\\left(\\theta_{3}{\\left(t \\right)} \\right)} \\frac{d}{d t} \\theta_{2}{\\left(t \\right)} & 0\\end{matrix}\\right]$"
      ],
      "text/plain": [
       "Matrix([\n",
       "[                                         0,                                          0, cos(theta_3(t))*Derivative(theta_2(t), t)],\n",
       "[                                         0,                                          0, sin(theta_3(t))*Derivative(theta_2(t), t)],\n",
       "[-cos(theta_3(t))*Derivative(theta_2(t), t), -sin(theta_3(t))*Derivative(theta_2(t), t),                                         0]])"
      ]
     },
     "execution_count": 170,
     "metadata": {},
     "output_type": "execute_result"
    }
   ],
   "source": [
    "simplify(R1 @ diff(R2, t) @ R2.T @ R1.T)\n"
   ]
  },
  {
   "cell_type": "code",
   "execution_count": null,
   "metadata": {},
   "outputs": [
    {
     "data": {
      "text/latex": [
       "$\\displaystyle \\left[\\begin{matrix}0 & \\sin{\\left(\\theta_{2}{\\left(t \\right)} \\right)} \\frac{d}{d t} \\theta_{1}{\\left(t \\right)} & \\sin{\\left(\\theta_{3}{\\left(t \\right)} \\right)} \\cos{\\left(\\theta_{2}{\\left(t \\right)} \\right)} \\frac{d}{d t} \\theta_{1}{\\left(t \\right)}\\\\- \\sin{\\left(\\theta_{2}{\\left(t \\right)} \\right)} \\frac{d}{d t} \\theta_{1}{\\left(t \\right)} & 0 & - \\cos{\\left(\\theta_{2}{\\left(t \\right)} \\right)} \\cos{\\left(\\theta_{3}{\\left(t \\right)} \\right)} \\frac{d}{d t} \\theta_{1}{\\left(t \\right)}\\\\- \\sin{\\left(\\theta_{3}{\\left(t \\right)} \\right)} \\cos{\\left(\\theta_{2}{\\left(t \\right)} \\right)} \\frac{d}{d t} \\theta_{1}{\\left(t \\right)} & \\cos{\\left(\\theta_{2}{\\left(t \\right)} \\right)} \\cos{\\left(\\theta_{3}{\\left(t \\right)} \\right)} \\frac{d}{d t} \\theta_{1}{\\left(t \\right)} & 0\\end{matrix}\\right]$"
      ],
      "text/plain": [
       "Matrix([\n",
       "[                                                         0,                 sin(theta_2(t))*Derivative(theta_1(t), t),  sin(theta_3(t))*cos(theta_2(t))*Derivative(theta_1(t), t)],\n",
       "[                -sin(theta_2(t))*Derivative(theta_1(t), t),                                                         0, -cos(theta_2(t))*cos(theta_3(t))*Derivative(theta_1(t), t)],\n",
       "[-sin(theta_3(t))*cos(theta_2(t))*Derivative(theta_1(t), t), cos(theta_2(t))*cos(theta_3(t))*Derivative(theta_1(t), t),                                                          0]])"
      ]
     },
     "execution_count": 171,
     "metadata": {},
     "output_type": "execute_result"
    }
   ],
   "source": [
    "simplify(R1 @ R2 @ diff(R3, t) @ R3.T @ R2.T @ R1.T)\n"
   ]
  },
  {
   "cell_type": "code",
   "execution_count": null,
   "metadata": {},
   "outputs": [],
   "source": [
    "W = simplify(diff(R, t) @ R.T)\n"
   ]
  },
  {
   "cell_type": "code",
   "execution_count": null,
   "metadata": {},
   "outputs": [
    {
     "data": {
      "text/latex": [
       "$\\displaystyle - \\sin{\\left(\\theta_{2}{\\left(t \\right)} \\right)} \\frac{d}{d t} \\theta_{1}{\\left(t \\right)} + \\frac{d}{d t} \\theta_{3}{\\left(t \\right)}$"
      ],
      "text/plain": [
       "-sin(theta_2(t))*Derivative(theta_1(t), t) + Derivative(theta_3(t), t)"
      ]
     },
     "execution_count": 174,
     "metadata": {},
     "output_type": "execute_result"
    }
   ],
   "source": [
    "-W[0, 1]\n"
   ]
  },
  {
   "cell_type": "code",
   "execution_count": null,
   "metadata": {},
   "outputs": [
    {
     "data": {
      "text/latex": [
       "$\\displaystyle - \\sin{\\left(\\theta_{3}{\\left(t \\right)} \\right)} \\frac{d}{d t} \\theta_{2}{\\left(t \\right)} + \\cos{\\left(\\theta_{2}{\\left(t \\right)} \\right)} \\cos{\\left(\\theta_{3}{\\left(t \\right)} \\right)} \\frac{d}{d t} \\theta_{1}{\\left(t \\right)}$"
      ],
      "text/plain": [
       "-sin(theta_3(t))*Derivative(theta_2(t), t) + cos(theta_2(t))*cos(theta_3(t))*Derivative(theta_1(t), t)"
      ]
     },
     "execution_count": 178,
     "metadata": {},
     "output_type": "execute_result"
    }
   ],
   "source": [
    "-W[1, 2]\n"
   ]
  },
  {
   "cell_type": "code",
   "execution_count": 195,
   "metadata": {},
   "outputs": [],
   "source": [
    "J = Matrix([[cos(theta[1])*cos(theta[2]), -sin(theta[2]), 0],\n",
    "            [sin(theta[2]) * cos(theta[1]), cos(theta[2]), 0],\n",
    "            [-sin(theta[1]), 0, 1]])\n",
    "J_inv = simplify((J).inv())\n"
   ]
  },
  {
   "cell_type": "code",
   "execution_count": 211,
   "metadata": {},
   "outputs": [
    {
     "name": "stdout",
     "output_type": "stream",
     "text": [
      "Matrix([[2.37894995145132, -0.339111091726107, 0], [-0.141120008059867, -0.989992496600445, 0], [2.16317306940177, -0.308352843114597, 1.00000000000000]])\n"
     ]
    }
   ],
   "source": [
    "print((J_inv.subs([(theta[0], 1), (theta[1], 2), (theta[2], 3)])).evalf())\n"
   ]
  },
  {
   "cell_type": "code",
   "execution_count": 210,
   "metadata": {},
   "outputs": [
    {
     "data": {
      "text/latex": [
       "$\\displaystyle \\left[\\begin{matrix}\\frac{\\cos{\\left(\\theta_{2}{\\left(t \\right)} \\right)}}{\\cos{\\left(\\theta_{1}{\\left(t \\right)} \\right)}} & \\frac{\\sin{\\left(\\theta_{2}{\\left(t \\right)} \\right)}}{\\cos{\\left(\\theta_{1}{\\left(t \\right)} \\right)}} & 0\\\\- \\sin{\\left(\\theta_{2}{\\left(t \\right)} \\right)} & \\cos{\\left(\\theta_{2}{\\left(t \\right)} \\right)} & 0\\\\\\cos{\\left(\\theta_{2}{\\left(t \\right)} \\right)} \\tan{\\left(\\theta_{1}{\\left(t \\right)} \\right)} & \\sin{\\left(\\theta_{2}{\\left(t \\right)} \\right)} \\tan{\\left(\\theta_{1}{\\left(t \\right)} \\right)} & 1\\end{matrix}\\right]$"
      ],
      "text/plain": [
       "Matrix([\n",
       "[cos(theta_2(t))/cos(theta_1(t)), sin(theta_2(t))/cos(theta_1(t)), 0],\n",
       "[               -sin(theta_2(t)),                 cos(theta_2(t)), 0],\n",
       "[cos(theta_2(t))*tan(theta_1(t)), sin(theta_2(t))*tan(theta_1(t)), 1]])"
      ]
     },
     "execution_count": 210,
     "metadata": {},
     "output_type": "execute_result"
    }
   ],
   "source": [
    "J_inv\n"
   ]
  },
  {
   "cell_type": "code",
   "execution_count": 214,
   "metadata": {},
   "outputs": [
    {
     "data": {
      "text/latex": [
       "$\\displaystyle \\left[\\begin{matrix}1.0 & 0 & 0\\\\0 & 1.0 & 0\\\\0 & 0 & 1.0\\end{matrix}\\right]$"
      ],
      "text/plain": [
       "Matrix([\n",
       "[1.0,   0,   0],\n",
       "[  0, 1.0,   0],\n",
       "[  0,   0, 1.0]])"
      ]
     },
     "execution_count": 214,
     "metadata": {},
     "output_type": "execute_result"
    }
   ],
   "source": [
    "theta2real = [(theta[0], 0), (theta[1], 0), (theta[2], 0)]\n",
    "R.subs(theta2real).evalf()\n"
   ]
  },
  {
   "cell_type": "code",
   "execution_count": 234,
   "metadata": {},
   "outputs": [
    {
     "data": {
      "text/latex": [
       "$\\displaystyle \\left[\\begin{matrix}-2.5447365578\\\\-4.300384248\\\\-0.13468568\\end{matrix}\\right]$"
      ],
      "text/plain": [
       "Matrix([\n",
       "[-2.5447365578],\n",
       "[ -4.300384248],\n",
       "[  -0.13468568]])"
      ]
     },
     "execution_count": 234,
     "metadata": {},
     "output_type": "execute_result"
    }
   ],
   "source": [
    "grf_positions = np.array([3.181e-01,  1.338e-01,  1.073e-02,  1.598e-02,  1.494e-01,\n",
    "                          -1.082e-04,  3.801e-01, -1.102e-01, -8.320e-05, -4.214e-02,\n",
    "                          -1.310e-01,  1.073e-02])\n",
    "grf_plan = np.array([-0., -0.,  0., -5.872, -3.439, 91.98, -5.268, -2.807,\n",
    "                     66.99, -0., -0.,  0.])\n",
    "p = np.array([0.178,  0.01364,  0.2635, -0.01815, -0.03463,  0.01799,\n",
    "              0.4337,  0.04433, -0.07759,  0.1602,  0.04981, -0.009264])\n",
    "p = Matrix(p[:3])\n",
    "\n",
    "\n",
    "total_mom_forces = Matrix([0, 0, 0])\n",
    "for i in range(4):\n",
    "    grf = Matrix(grf_plan[i*3:(i+1)*3])\n",
    "    foot_plan = p - Matrix(grf_positions[i*3:(i+1)*3])\n",
    "    total_mom_forces += foot_plan.cross(grf)\n",
    "\n",
    "\n",
    "total_mom_forces\n"
   ]
  },
  {
   "cell_type": "code",
   "execution_count": 230,
   "metadata": {},
   "outputs": [
    {
     "data": {
      "text/plain": [
       "[0.178000000000000,\n",
       " 0.0136400000000000,\n",
       " 0.263500000000000,\n",
       " -0.0181500000000000,\n",
       " -0.0346300000000000,\n",
       " 0.0179900000000000,\n",
       " 0.433700000000000,\n",
       " 0.0443300000000000,\n",
       " -0.0775900000000000,\n",
       " 0.160200000000000,\n",
       " 0.0498100000000000,\n",
       " -0.00926400000000000]"
      ]
     },
     "execution_count": 230,
     "metadata": {},
     "output_type": "execute_result"
    }
   ],
   "source": [
    "p[:]\n"
   ]
  },
  {
   "cell_type": "code",
   "execution_count": null,
   "metadata": {},
   "outputs": [],
   "source": []
  }
 ],
 "metadata": {
  "kernelspec": {
   "display_name": "venv",
   "language": "python",
   "name": "python3"
  },
  "language_info": {
   "codemirror_mode": {
    "name": "ipython",
    "version": 3
   },
   "file_extension": ".py",
   "mimetype": "text/x-python",
   "name": "python",
   "nbconvert_exporter": "python",
   "pygments_lexer": "ipython3",
   "version": "3.9.16"
  },
  "orig_nbformat": 4
 },
 "nbformat": 4,
 "nbformat_minor": 2
}

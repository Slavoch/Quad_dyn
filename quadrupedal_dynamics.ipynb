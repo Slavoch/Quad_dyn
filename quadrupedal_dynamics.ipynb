{
 "cells": [
  {
   "cell_type": "code",
   "execution_count": 1,
   "metadata": {},
   "outputs": [],
   "source": [
    "from sympy import *\n",
    "import numpy as np\n",
    "import casadi as ca\n",
    "import pickle\n"
   ]
  },
  {
   "attachments": {},
   "cell_type": "markdown",
   "metadata": {},
   "source": [
    "# This is a painfull work about qudrupedal robot dynamics investigation.\n",
    "Kovalev V.V\n",
    "\n",
    "## Task description\n",
    "Two koordinate frames: world and body.\n",
    "All quantities without $ B $ subscription are in world frame. With $B$ are in body frame.\n",
    "\n",
    "State: $[p,\\theta,\\dot{p},\\omega_B]$\n",
    "\n",
    "Parameters: $[u_i,p^u_i]; i = 1,2,3,4$\n",
    "\n",
    "$p \\in \\R^3$ - position of Center if mass (CoM); \n",
    "$\\dot{p} \\in \\R^3$ - velocity of CoM; \n",
    "$\\theta \\in \\R^3$ is rpy angels;\n",
    "$\\omega \\in \\R^3$ is the angular velocity;\n",
    "$ I \\in \\R^{3 \\times 3}$ is Inertia matrix;\n",
    "$ u_i$ ground reaction force in position $p^u_i$ \n",
    "\n",
    "To come from body frame to world frame the rotation matrix is applyed: $R(pry) = R_zR_yR_x$\n",
    "\n",
    "## Energies\n",
    "Kinetic energy $T = (\\dot{p}^T M\\dot{p} +\\omega^T I \\omega)/2$\n",
    "\n",
    "Potential energy $V = g^TMp$\n",
    "\n",
    "$L = T - V; q = [p,\\theta]$\n",
    "\n",
    "after taking $\\frac{d}{dt} \\frac{\\partial L}{\\partial \\dot{q}} - \\frac{\\partial L}{\\partial q}$ considering $\\frac{d}{dt} I\\omega = I\\dot{\\omega} + \\omega \\times I\\omega$\n",
    "\n",
    "obtain \n",
    "\n",
    "$\\ddot{p} = \\sum{f}/m - g$\n",
    "\n",
    "$I\\dot{\\omega} = \\sum{r_i \\times f_i} - \\hat{\\omega} I \\omega$\n",
    "\n",
    "where $ r_i = p_i^u - p $ are levers\n",
    "\n",
    "Also it imoprtant to know the equality $\\dot{R}R^T=\\hat{\\omega}$ where $\\hat{\\omega}$ is a skew matrix of $\\omega$\n",
    "\n",
    "$r(t) = R(t) r_B(0);  I = RI_BR^T$\n",
    "\n",
    "$r(t) = R(t) r_B(0) => \\dot{r}(t) = \\dot{R(t)} r_B(0) => \\dot{r}(t) = \\dot{R(t)} R^T(t)r(t) =>\\dot{r}(t) = \\omega \\times r(t)$\n",
    "\n",
    "$\\dot{R(t)} R^T(t) = \\hat{\\omega}$\n",
    "\n",
    "$\\dot{r}(t) = \\hat \\omega r(t) => R^T\\dot{r}(t) = R^T\\hat \\omega r(t) =>\\dot{r_B}(t) = R^T\\hat \\omega R(t) r_B(0) => \\dot{r_B}(t) = \\hat\\omega_B r_B(0)$\n",
    "\n",
    "$\\hat\\omega_B = R^T\\hat \\omega R$ and $\\hat\\omega = R\\hat \\omega_B R^T$\n",
    "\n",
    "But according to sources $\\omega = R \\omega_B$ and $\\omega_B = R^T \\omega$\n",
    "\n",
    "summing up:\n",
    "\n",
    "$I\\dot{\\omega} = RI_BR^T \\dot{R \\omega_B} = RI_BR^T (\\dot{R}\\omega_B + R\\dot{\\omega_B}) = RI_BR^T (\\dot{R} R_T \\omega + R\\dot{\\omega_B})=RI_BR^T (\\hat\\omega \\omega + R\\dot{\\omega_B}) = RI_BR^T R\\dot{\\omega_B} = RI_B\\dot{\\omega_B} $\n",
    "\n",
    "$\\hat{\\omega} I \\omega = \\hat{\\omega} I \\omega = R\\hat \\omega_B R^T RI_BR^T R \\omega_B =  R\\hat \\omega_B I_B\\omega_B$\n",
    "\n",
    "$I\\dot{\\omega} = \\sum{r_i \\times f_i} - \\hat{\\omega} I \\omega$ could be expressed as follows:\n",
    "\n",
    "$RI_B\\dot{\\omega_B} = \\sum{r_i \\times f_i} - R\\hat \\omega_B I_B\\omega_B$\n",
    "\n",
    "$\\dot{\\omega_B} = I_B^{-1}(R^T\\sum{r_i \\times f_i} - \\hat \\omega_B I_B\\omega_B)$\n",
    "\n",
    "Also it is important to know $\\theta$ <- $ \\omega_B$ transformation rule\n",
    "\n",
    "$\\hat\\omega = \\dot{R} R^T => \\hat\\omega[i,:] = \\frac{\\partial R}{\\partial \\theta_i} \\dot\\theta_i R^T => \\hat\\omega[i,:] = \\frac{\\partial R}{\\partial \\theta_i} R^T \\dot\\theta_i $\n",
    "\n",
    "$\\hat\\omega = R\\hat \\omega_B R^T = \\frac{\\partial R}{\\partial \\theta_i} R^T \\dot\\theta_i => \\hat \\omega_B = R^T\\frac{\\partial R}{\\partial \\theta_i} \\dot\\theta_i$\n",
    "\n",
    "$\\dot\\theta_i = [R^T\\frac{\\partial R}{\\partial \\theta_i}]^{-1}\\hat \\omega_B$\n",
    "\n",
    "Let say there is $J \\in \\R^{3 \\times 3}$ such that $J[:,i] = R^T\\frac{\\partial R}{\\partial \\theta_i}$\n",
    "\n",
    "$\\dot\\theta = J^{-1} \\hat\\omega_B$"
   ]
  },
  {
   "attachments": {},
   "cell_type": "markdown",
   "metadata": {},
   "source": [
    "## Final equstions:\n",
    "\n",
    "$\\dot p = \\dot p$\n",
    "\n",
    "$\\dot\\theta = J^{-1} \\hat\\omega_B$\n",
    "\n",
    "$\\ddot{p} = \\sum{f}/m - g$\n",
    "\n",
    "$\\dot{\\omega_B} = I_B^{-1}(R^T\\sum{r_i \\times f_i} - \\hat \\omega_B I_B\\omega_B)$\n",
    "\n",
    "sources:\n",
    "\n",
    "### quad dynamics : \n",
    "\n",
    "https://ieeexplore.ieee.org/abstract/document/8793669\n",
    "\n",
    "https://arxiv.org/pdf/2209.14138.pdf\n",
    "\n",
    "be aware that $\\omega$ in another frame:\n",
    "https://dspace.mit.edu/bitstream/handle/1721.1/138000/convex_mpc_2fix.pdf?sequence=2&isAllowed=y\n",
    "\n",
    "### used linkes, books\n",
    "\n",
    "https://www.brown.edu/Departments/Engineering/Courses/En4/Notes/Rigid_Bodies_1/Rigid_Bodies.pdf\n",
    "\n",
    "https://physics.stackexchange.com/questions/672712/angular-velocity-via-extrinsic-euler-angles#mjx-eqn-B-08\n",
    "\n",
    "https://physics.stackexchange.com/questions/73961/angular-velocity-expressed-via-euler-angles\n",
    "\n",
    "https://physics.stackexchange.com/questions/410823/euler-lagrange-equations-for-free-rigid-body\n",
    "\n",
    "https://physics.stackexchange.com/questions/672712/angular-velocity-via-extrinsic-euler-angles#mjx-eqn-B-08"
   ]
  },
  {
   "cell_type": "code",
   "execution_count": 2,
   "metadata": {},
   "outputs": [],
   "source": [
    "# extract vector from skew matrix\n",
    "def anti_skew(x):\n",
    "    return Matrix([-x[1, 2], x[0, 2], -x[0, 1]])\n",
    "\n",
    "\n",
    "# do skew matrix from vector\n",
    "\n",
    "\n",
    "def skew(w):\n",
    "    return Matrix([[0, -w[2], w[1]], [w[2], 0, -w[0]], [-w[1], w[0], 0]])\n"
   ]
  },
  {
   "cell_type": "code",
   "execution_count": 3,
   "metadata": {},
   "outputs": [],
   "source": [
    "t = symbols(\"t\")\n",
    "mass = 13.7400\n",
    "# theta = symbols(\"theta_:3\")\n",
    "theta1 = Function(\"theta_1\")(t)\n",
    "theta2 = Function(\"theta_2\")(t)\n",
    "theta3 = Function(\"theta_3\")(t)\n",
    "theta = Matrix([theta1, theta2, theta3])\n",
    "\n",
    "p1 = Function(\"p_1\")(t)\n",
    "p2 = Function(\"p_2\")(t)\n",
    "p3 = Function(\"p_3\")(t)\n",
    "p = Matrix([p1, p2, p3])\n",
    "\n",
    "g = Matrix([0, 0, 9.81])\n",
    "\n",
    "omega1 = Function(\"omega_1\")(t)\n",
    "omega2 = Function(\"omega_2\")(t)\n",
    "omega3 = Function(\"omega_3\")(t)\n",
    "omega = Matrix([omega1, omega2, omega3])\n",
    "\n",
    "# I11, I22, I33 = symbols(\"I_11 I_22 I_33\")\n",
    "# I = diag(*[I11, I22, I33])\n",
    "\n",
    "m = diag(mass, mass, mass)\n",
    "\n",
    "# I = Matrix(\n",
    "#     [\n",
    "#         [0.0329509600000000, -3.66000000000000e-05, -6.11000000000000e-05],\n",
    "#         [-3.66000000000000e-05, 0.289971035000000, -2.75000000000000e-05],\n",
    "#         [-6.11000000000000e-05, -2.75000000000000e-05, 0.314922995000000],\n",
    "#     ]\n",
    "# )\n",
    "\n",
    "I = Matrix([\n",
    "    [0.0329509600000000, 0, 0],\n",
    "    [0, 0.289971035000000, 0],\n",
    "    [0, 0, 0.314922995000000],\n",
    "])\n",
    "\n",
    "R1 = Matrix([[cos(theta[2]), -sin(theta[2]), 0],\n",
    "             [sin(theta[2]), cos(theta[2]), 0], [0, 0, 1]])\n",
    "R2 = Matrix([[cos(theta[1]), 0, sin(theta[1])], [0, 1, 0],\n",
    "             [-sin(theta[1]), 0, cos(theta[1])]])\n",
    "R3 = Matrix([[1, 0, 0], [0, cos(theta[0]), -sin(theta[0])],\n",
    "             [0, sin(theta[0]), cos(theta[0])]])\n",
    "R = simplify(R1 @ R2 @ R3)\n",
    "\n",
    "# omega = R.T @ diff(theta, t)\n",
    "\n",
    "u_feet1 = symbols(\"f_1\")\n",
    "u_feet2 = symbols(\"f_2\")\n",
    "u_feet3 = symbols(\"f_3\")\n",
    "u_feet4 = symbols(\"f_4\")\n",
    "u_feet5 = symbols(\"f_5\")\n",
    "u_feet6 = symbols(\"f_6\")\n",
    "u_feet7 = symbols(\"f_7\")\n",
    "u_feet8 = symbols(\"f_8\")\n",
    "u_feet9 = symbols(\"f_9\")\n",
    "u_feet10 = symbols(\"f_10\")\n",
    "u_feet11 = symbols(\"f_11\")\n",
    "u_feet12 = symbols(\"f_12\")\n",
    "\n",
    "feet_location1 = symbols(\"fp_1\")\n",
    "feet_location2 = symbols(\"fp_2\")\n",
    "feet_location3 = symbols(\"fp_3\")\n",
    "feet_location4 = symbols(\"fp_4\")\n",
    "feet_location5 = symbols(\"fp_5\")\n",
    "feet_location6 = symbols(\"fp_6\")\n",
    "feet_location7 = symbols(\"fp_7\")\n",
    "feet_location8 = symbols(\"fp_8\")\n",
    "feet_location9 = symbols(\"fp_9\")\n",
    "feet_location10 = symbols(\"fp_10\")\n",
    "feet_location11 = symbols(\"fp_11\")\n",
    "feet_location12 = symbols(\"fp_12\")\n",
    "\n",
    "fs = Matrix([\n",
    "    u_feet1,\n",
    "    u_feet2,\n",
    "    u_feet3,\n",
    "    u_feet4,\n",
    "    u_feet5,\n",
    "    u_feet6,\n",
    "    u_feet7,\n",
    "    u_feet8,\n",
    "    u_feet9,\n",
    "    u_feet10,\n",
    "    u_feet11,\n",
    "    u_feet12,\n",
    "])\n",
    "fs = fs.reshape(4, 3).T\n",
    "\n",
    "fps = Matrix([\n",
    "    feet_location1,\n",
    "    feet_location2,\n",
    "    feet_location3,\n",
    "    feet_location4,\n",
    "    feet_location5,\n",
    "    feet_location6,\n",
    "    feet_location7,\n",
    "    feet_location8,\n",
    "    feet_location9,\n",
    "    feet_location10,\n",
    "    feet_location11,\n",
    "    feet_location12,\n",
    "])\n",
    "fps = fps.reshape(4, 3).T\n"
   ]
  },
  {
   "cell_type": "code",
   "execution_count": 4,
   "metadata": {},
   "outputs": [
    {
     "data": {
      "text/latex": [
       "$\\displaystyle \\left[\\begin{matrix}1 & \\sin{\\left(\\theta_{1}{\\left(t \\right)} \\right)} \\tan{\\left(\\theta_{2}{\\left(t \\right)} \\right)} & \\cos{\\left(\\theta_{1}{\\left(t \\right)} \\right)} \\tan{\\left(\\theta_{2}{\\left(t \\right)} \\right)}\\\\0 & \\cos{\\left(\\theta_{1}{\\left(t \\right)} \\right)} & - \\sin{\\left(\\theta_{1}{\\left(t \\right)} \\right)}\\\\0 & \\frac{\\sin{\\left(\\theta_{1}{\\left(t \\right)} \\right)}}{\\cos{\\left(\\theta_{2}{\\left(t \\right)} \\right)}} & \\frac{\\cos{\\left(\\theta_{1}{\\left(t \\right)} \\right)}}{\\cos{\\left(\\theta_{2}{\\left(t \\right)} \\right)}}\\end{matrix}\\right]$"
      ],
      "text/plain": [
       "Matrix([\n",
       "[1, sin(theta_1(t))*tan(theta_2(t)), cos(theta_1(t))*tan(theta_2(t))],\n",
       "[0,                 cos(theta_1(t)),                -sin(theta_1(t))],\n",
       "[0, sin(theta_1(t))/cos(theta_2(t)), cos(theta_1(t))/cos(theta_2(t))]])"
      ]
     },
     "execution_count": 4,
     "metadata": {},
     "output_type": "execute_result"
    }
   ],
   "source": [
    "J = zeros(3, 3)\n",
    "for i in range(3):\n",
    "    J[:, i] = anti_skew(R.T @ diff(R, theta[i]))\n",
    "J = simplify(J)\n",
    "simplify(J.inv())\n"
   ]
  },
  {
   "attachments": {},
   "cell_type": "markdown",
   "metadata": {},
   "source": [
    "checkin if $\\hat\\omega_B = R^T \\dot{R}$ the same as $ \\omega_B = J \\dot\\theta$"
   ]
  },
  {
   "cell_type": "code",
   "execution_count": 5,
   "metadata": {},
   "outputs": [
    {
     "data": {
      "text/latex": [
       "$\\displaystyle \\left[\\begin{matrix}0\\\\0\\\\0\\end{matrix}\\right]$"
      ],
      "text/plain": [
       "Matrix([\n",
       "[0],\n",
       "[0],\n",
       "[0]])"
      ]
     },
     "execution_count": 5,
     "metadata": {},
     "output_type": "execute_result"
    }
   ],
   "source": [
    "simplify(anti_skew(R.T @ diff(R, t))) - simplify(J @ diff(theta, t))\n"
   ]
  },
  {
   "attachments": {},
   "cell_type": "markdown",
   "metadata": {},
   "source": [
    "the right hand side of the dynamics equation"
   ]
  },
  {
   "cell_type": "code",
   "execution_count": 6,
   "metadata": {},
   "outputs": [],
   "source": [
    "rhs = zeros(4, 3)\n"
   ]
  },
  {
   "attachments": {},
   "cell_type": "markdown",
   "metadata": {},
   "source": [
    "$\\dot p = \\dot p$\n"
   ]
  },
  {
   "cell_type": "code",
   "execution_count": 7,
   "metadata": {},
   "outputs": [],
   "source": [
    "rhs[0, :] = diff(p, t).T\n"
   ]
  },
  {
   "attachments": {},
   "cell_type": "markdown",
   "metadata": {},
   "source": [
    "$\\dot\\theta = J^{-1} \\hat\\omega_B$"
   ]
  },
  {
   "cell_type": "code",
   "execution_count": 8,
   "metadata": {},
   "outputs": [],
   "source": [
    "rhs[1, :] = simplify(J.inv() @ omega).T\n"
   ]
  },
  {
   "attachments": {},
   "cell_type": "markdown",
   "metadata": {},
   "source": [
    "$\\ddot{p} = \\sum{f}/m - g$"
   ]
  },
  {
   "cell_type": "code",
   "execution_count": 9,
   "metadata": {},
   "outputs": [],
   "source": [
    "sum_f = zeros(3, 1)\n",
    "for i in range(4):\n",
    "    sum_f += fs[:, i]\n",
    "\n",
    "rhs[2, :] = simplify((sum_f / mass - g).T)\n"
   ]
  },
  {
   "attachments": {},
   "cell_type": "markdown",
   "metadata": {},
   "source": [
    "$\\dot{\\omega_B} = I_B^{-1}(R^T\\sum{r_i \\times f_i} - \\hat \\omega_B I_B\\omega_B)$\n"
   ]
  },
  {
   "cell_type": "code",
   "execution_count": 10,
   "metadata": {},
   "outputs": [],
   "source": [
    "sum_f_m = zeros(3, 1)\n",
    "for i in range(4):\n",
    "    r_i = fps[:, i] - p  # foot positions_i\n",
    "    sum_f_m += r_i.cross(fs[:, i])\n",
    "\n",
    "rhs[3, :] = simplify(I.inv() @ (R.T @ sum_f_m - skew(omega) @ I @ omega)).T\n"
   ]
  },
  {
   "cell_type": "code",
   "execution_count": 11,
   "metadata": {},
   "outputs": [
    {
     "data": {
      "text/latex": [
       "$\\displaystyle \\left[\\begin{matrix}p_{dot 1}\\\\p_{dot 2}\\\\p_{dot 3}\\\\\\omega_{1}{\\left(t \\right)} + \\omega_{2}{\\left(t \\right)} \\sin{\\left(\\theta_{1}{\\left(t \\right)} \\right)} \\tan{\\left(\\theta_{2}{\\left(t \\right)} \\right)} + \\omega_{3}{\\left(t \\right)} \\cos{\\left(\\theta_{1}{\\left(t \\right)} \\right)} \\tan{\\left(\\theta_{2}{\\left(t \\right)} \\right)}\\\\\\omega_{2}{\\left(t \\right)} \\cos{\\left(\\theta_{1}{\\left(t \\right)} \\right)} - \\omega_{3}{\\left(t \\right)} \\sin{\\left(\\theta_{1}{\\left(t \\right)} \\right)}\\\\\\frac{\\omega_{2}{\\left(t \\right)} \\sin{\\left(\\theta_{1}{\\left(t \\right)} \\right)} + \\omega_{3}{\\left(t \\right)} \\cos{\\left(\\theta_{1}{\\left(t \\right)} \\right)}}{\\cos{\\left(\\theta_{2}{\\left(t \\right)} \\right)}}\\\\0.0727802037845706 f_{1} + 0.0727802037845706 f_{10} + 0.0727802037845706 f_{4} + 0.0727802037845706 f_{7}\\\\0.0727802037845706 f_{11} + 0.0727802037845706 f_{2} + 0.0727802037845706 f_{5} + 0.0727802037845706 f_{8}\\\\0.0727802037845706 f_{12} + 0.0727802037845706 f_{3} + 0.0727802037845706 f_{6} + 0.0727802037845706 f_{9} - 9.81\\\\30.3481294626924 \\left(f_{1} \\left(fp_{2} - p_{2}{\\left(t \\right)}\\right) + f_{10} \\left(fp_{11} - p_{2}{\\left(t \\right)}\\right) - f_{11} \\left(fp_{10} - p_{1}{\\left(t \\right)}\\right) - f_{2} \\left(fp_{1} - p_{1}{\\left(t \\right)}\\right) + f_{4} \\left(fp_{5} - p_{2}{\\left(t \\right)}\\right) - f_{5} \\left(fp_{4} - p_{1}{\\left(t \\right)}\\right) + f_{7} \\left(fp_{8} - p_{2}{\\left(t \\right)}\\right) - f_{8} \\left(fp_{7} - p_{1}{\\left(t \\right)}\\right)\\right) \\sin{\\left(\\theta_{2}{\\left(t \\right)} \\right)} + 30.3481294626924 \\left(f_{1} \\left(fp_{3} - p_{3}{\\left(t \\right)}\\right) + f_{10} \\left(fp_{12} - p_{3}{\\left(t \\right)}\\right) - f_{12} \\left(fp_{10} - p_{1}{\\left(t \\right)}\\right) - f_{3} \\left(fp_{1} - p_{1}{\\left(t \\right)}\\right) + f_{4} \\left(fp_{6} - p_{3}{\\left(t \\right)}\\right) - f_{6} \\left(fp_{4} - p_{1}{\\left(t \\right)}\\right) + f_{7} \\left(fp_{9} - p_{3}{\\left(t \\right)}\\right) - f_{9} \\left(fp_{7} - p_{1}{\\left(t \\right)}\\right)\\right) \\sin{\\left(\\theta_{3}{\\left(t \\right)} \\right)} \\cos{\\left(\\theta_{2}{\\left(t \\right)} \\right)} + 30.3481294626924 \\left(- f_{11} \\left(fp_{12} - p_{3}{\\left(t \\right)}\\right) + f_{12} \\left(fp_{11} - p_{2}{\\left(t \\right)}\\right) - f_{2} \\left(fp_{3} - p_{3}{\\left(t \\right)}\\right) + f_{3} \\left(fp_{2} - p_{2}{\\left(t \\right)}\\right) - f_{5} \\left(fp_{6} - p_{3}{\\left(t \\right)}\\right) + f_{6} \\left(fp_{5} - p_{2}{\\left(t \\right)}\\right) - f_{8} \\left(fp_{9} - p_{3}{\\left(t \\right)}\\right) + f_{9} \\left(fp_{8} - p_{2}{\\left(t \\right)}\\right)\\right) \\cos{\\left(\\theta_{2}{\\left(t \\right)} \\right)} \\cos{\\left(\\theta_{3}{\\left(t \\right)} \\right)} - 0.757245312427923 \\omega_{2}{\\left(t \\right)} \\omega_{3}{\\left(t \\right)}\\\\3.44862030788696 \\left(\\sin{\\left(\\theta_{1}{\\left(t \\right)} \\right)} \\sin{\\left(\\theta_{2}{\\left(t \\right)} \\right)} \\sin{\\left(\\theta_{3}{\\left(t \\right)} \\right)} + \\cos{\\left(\\theta_{1}{\\left(t \\right)} \\right)} \\cos{\\left(\\theta_{3}{\\left(t \\right)} \\right)}\\right) \\left(f_{1} \\left(fp_{3} - p_{3}{\\left(t \\right)}\\right) + f_{10} \\left(fp_{12} - p_{3}{\\left(t \\right)}\\right) - f_{12} \\left(fp_{10} - p_{1}{\\left(t \\right)}\\right) - f_{3} \\left(fp_{1} - p_{1}{\\left(t \\right)}\\right) + f_{4} \\left(fp_{6} - p_{3}{\\left(t \\right)}\\right) - f_{6} \\left(fp_{4} - p_{1}{\\left(t \\right)}\\right) + f_{7} \\left(fp_{9} - p_{3}{\\left(t \\right)}\\right) - f_{9} \\left(fp_{7} - p_{1}{\\left(t \\right)}\\right)\\right) + 3.44862030788696 \\left(\\sin{\\left(\\theta_{1}{\\left(t \\right)} \\right)} \\sin{\\left(\\theta_{2}{\\left(t \\right)} \\right)} \\cos{\\left(\\theta_{3}{\\left(t \\right)} \\right)} - \\sin{\\left(\\theta_{3}{\\left(t \\right)} \\right)} \\cos{\\left(\\theta_{1}{\\left(t \\right)} \\right)}\\right) \\left(- f_{11} \\left(fp_{12} - p_{3}{\\left(t \\right)}\\right) + f_{12} \\left(fp_{11} - p_{2}{\\left(t \\right)}\\right) - f_{2} \\left(fp_{3} - p_{3}{\\left(t \\right)}\\right) + f_{3} \\left(fp_{2} - p_{2}{\\left(t \\right)}\\right) - f_{5} \\left(fp_{6} - p_{3}{\\left(t \\right)}\\right) + f_{6} \\left(fp_{5} - p_{2}{\\left(t \\right)}\\right) - f_{8} \\left(fp_{9} - p_{3}{\\left(t \\right)}\\right) + f_{9} \\left(fp_{8} - p_{2}{\\left(t \\right)}\\right)\\right) + 3.44862030788696 \\left(- f_{1} \\left(fp_{2} - p_{2}{\\left(t \\right)}\\right) - f_{10} \\left(fp_{11} - p_{2}{\\left(t \\right)}\\right) + f_{11} \\left(fp_{10} - p_{1}{\\left(t \\right)}\\right) + f_{2} \\left(fp_{1} - p_{1}{\\left(t \\right)}\\right) - f_{4} \\left(fp_{5} - p_{2}{\\left(t \\right)}\\right) + f_{5} \\left(fp_{4} - p_{1}{\\left(t \\right)}\\right) - f_{7} \\left(fp_{8} - p_{2}{\\left(t \\right)}\\right) + f_{8} \\left(fp_{7} - p_{1}{\\left(t \\right)}\\right)\\right) \\sin{\\left(\\theta_{1}{\\left(t \\right)} \\right)} \\cos{\\left(\\theta_{2}{\\left(t \\right)} \\right)} + 0.972414486157212 \\omega_{1}{\\left(t \\right)} \\omega_{3}{\\left(t \\right)}\\\\3.17537942886641 \\left(\\sin{\\left(\\theta_{1}{\\left(t \\right)} \\right)} \\sin{\\left(\\theta_{3}{\\left(t \\right)} \\right)} + \\sin{\\left(\\theta_{2}{\\left(t \\right)} \\right)} \\cos{\\left(\\theta_{1}{\\left(t \\right)} \\right)} \\cos{\\left(\\theta_{3}{\\left(t \\right)} \\right)}\\right) \\left(- f_{11} \\left(fp_{12} - p_{3}{\\left(t \\right)}\\right) + f_{12} \\left(fp_{11} - p_{2}{\\left(t \\right)}\\right) - f_{2} \\left(fp_{3} - p_{3}{\\left(t \\right)}\\right) + f_{3} \\left(fp_{2} - p_{2}{\\left(t \\right)}\\right) - f_{5} \\left(fp_{6} - p_{3}{\\left(t \\right)}\\right) + f_{6} \\left(fp_{5} - p_{2}{\\left(t \\right)}\\right) - f_{8} \\left(fp_{9} - p_{3}{\\left(t \\right)}\\right) + f_{9} \\left(fp_{8} - p_{2}{\\left(t \\right)}\\right)\\right) + 3.17537942886641 \\left(\\sin{\\left(\\theta_{1}{\\left(t \\right)} \\right)} \\cos{\\left(\\theta_{3}{\\left(t \\right)} \\right)} - \\sin{\\left(\\theta_{2}{\\left(t \\right)} \\right)} \\sin{\\left(\\theta_{3}{\\left(t \\right)} \\right)} \\cos{\\left(\\theta_{1}{\\left(t \\right)} \\right)}\\right) \\left(- f_{1} \\left(fp_{3} - p_{3}{\\left(t \\right)}\\right) - f_{10} \\left(fp_{12} - p_{3}{\\left(t \\right)}\\right) + f_{12} \\left(fp_{10} - p_{1}{\\left(t \\right)}\\right) + f_{3} \\left(fp_{1} - p_{1}{\\left(t \\right)}\\right) - f_{4} \\left(fp_{6} - p_{3}{\\left(t \\right)}\\right) + f_{6} \\left(fp_{4} - p_{1}{\\left(t \\right)}\\right) - f_{7} \\left(fp_{9} - p_{3}{\\left(t \\right)}\\right) + f_{9} \\left(fp_{7} - p_{1}{\\left(t \\right)}\\right)\\right) + 3.17537942886641 \\left(- f_{1} \\left(fp_{2} - p_{2}{\\left(t \\right)}\\right) - f_{10} \\left(fp_{11} - p_{2}{\\left(t \\right)}\\right) + f_{11} \\left(fp_{10} - p_{1}{\\left(t \\right)}\\right) + f_{2} \\left(fp_{1} - p_{1}{\\left(t \\right)}\\right) - f_{4} \\left(fp_{5} - p_{2}{\\left(t \\right)}\\right) + f_{5} \\left(fp_{4} - p_{1}{\\left(t \\right)}\\right) - f_{7} \\left(fp_{8} - p_{2}{\\left(t \\right)}\\right) + f_{8} \\left(fp_{7} - p_{1}{\\left(t \\right)}\\right)\\right) \\cos{\\left(\\theta_{1}{\\left(t \\right)} \\right)} \\cos{\\left(\\theta_{2}{\\left(t \\right)} \\right)} - 0.816136258960703 \\omega_{1}{\\left(t \\right)} \\omega_{2}{\\left(t \\right)}\\end{matrix}\\right]$"
      ],
      "text/plain": [
       "Matrix([\n",
       "[                                                                                                                                                                                                                                                                                                                                                                                                                                                                                                                                                                                                                                                                                                                                                                                                                                                                p_dot_1],\n",
       "[                                                                                                                                                                                                                                                                                                                                                                                                                                                                                                                                                                                                                                                                                                                                                                                                                                                                p_dot_2],\n",
       "[                                                                                                                                                                                                                                                                                                                                                                                                                                                                                                                                                                                                                                                                                                                                                                                                                                                                p_dot_3],\n",
       "[                                                                                                                                                                                                                                                                                                                                                                                                                                                                                                                                                                                                                                                                                                                                                                   omega_1(t) + omega_2(t)*sin(theta_1(t))*tan(theta_2(t)) + omega_3(t)*cos(theta_1(t))*tan(theta_2(t))],\n",
       "[                                                                                                                                                                                                                                                                                                                                                                                                                                                                                                                                                                                                                                                                                                                                                                                                                omega_2(t)*cos(theta_1(t)) - omega_3(t)*sin(theta_1(t))],\n",
       "[                                                                                                                                                                                                                                                                                                                                                                                                                                                                                                                                                                                                                                                                                                                                                                                              (omega_2(t)*sin(theta_1(t)) + omega_3(t)*cos(theta_1(t)))/cos(theta_2(t))],\n",
       "[                                                                                                                                                                                                                                                                                                                                                                                                                                                                                                                                                                                                                                                                                                                                                                     0.0727802037845706*f_1 + 0.0727802037845706*f_10 + 0.0727802037845706*f_4 + 0.0727802037845706*f_7],\n",
       "[                                                                                                                                                                                                                                                                                                                                                                                                                                                                                                                                                                                                                                                                                                                                                                     0.0727802037845706*f_11 + 0.0727802037845706*f_2 + 0.0727802037845706*f_5 + 0.0727802037845706*f_8],\n",
       "[                                                                                                                                                                                                                                                                                                                                                                                                                                                                                                                                                                                                                                                                                                                                                              0.0727802037845706*f_12 + 0.0727802037845706*f_3 + 0.0727802037845706*f_6 + 0.0727802037845706*f_9 - 9.81],\n",
       "[                                                                                                                          30.3481294626924*(f_1*(fp_2 - p_2(t)) + f_10*(fp_11 - p_2(t)) - f_11*(fp_10 - p_1(t)) - f_2*(fp_1 - p_1(t)) + f_4*(fp_5 - p_2(t)) - f_5*(fp_4 - p_1(t)) + f_7*(fp_8 - p_2(t)) - f_8*(fp_7 - p_1(t)))*sin(theta_2(t)) + 30.3481294626924*(f_1*(fp_3 - p_3(t)) + f_10*(fp_12 - p_3(t)) - f_12*(fp_10 - p_1(t)) - f_3*(fp_1 - p_1(t)) + f_4*(fp_6 - p_3(t)) - f_6*(fp_4 - p_1(t)) + f_7*(fp_9 - p_3(t)) - f_9*(fp_7 - p_1(t)))*sin(theta_3(t))*cos(theta_2(t)) + 30.3481294626924*(-f_11*(fp_12 - p_3(t)) + f_12*(fp_11 - p_2(t)) - f_2*(fp_3 - p_3(t)) + f_3*(fp_2 - p_2(t)) - f_5*(fp_6 - p_3(t)) + f_6*(fp_5 - p_2(t)) - f_8*(fp_9 - p_3(t)) + f_9*(fp_8 - p_2(t)))*cos(theta_2(t))*cos(theta_3(t)) - 0.757245312427923*omega_2(t)*omega_3(t)],\n",
       "[ 3.44862030788696*(sin(theta_1(t))*sin(theta_2(t))*sin(theta_3(t)) + cos(theta_1(t))*cos(theta_3(t)))*(f_1*(fp_3 - p_3(t)) + f_10*(fp_12 - p_3(t)) - f_12*(fp_10 - p_1(t)) - f_3*(fp_1 - p_1(t)) + f_4*(fp_6 - p_3(t)) - f_6*(fp_4 - p_1(t)) + f_7*(fp_9 - p_3(t)) - f_9*(fp_7 - p_1(t))) + 3.44862030788696*(sin(theta_1(t))*sin(theta_2(t))*cos(theta_3(t)) - sin(theta_3(t))*cos(theta_1(t)))*(-f_11*(fp_12 - p_3(t)) + f_12*(fp_11 - p_2(t)) - f_2*(fp_3 - p_3(t)) + f_3*(fp_2 - p_2(t)) - f_5*(fp_6 - p_3(t)) + f_6*(fp_5 - p_2(t)) - f_8*(fp_9 - p_3(t)) + f_9*(fp_8 - p_2(t))) + 3.44862030788696*(-f_1*(fp_2 - p_2(t)) - f_10*(fp_11 - p_2(t)) + f_11*(fp_10 - p_1(t)) + f_2*(fp_1 - p_1(t)) - f_4*(fp_5 - p_2(t)) + f_5*(fp_4 - p_1(t)) - f_7*(fp_8 - p_2(t)) + f_8*(fp_7 - p_1(t)))*sin(theta_1(t))*cos(theta_2(t)) + 0.972414486157212*omega_1(t)*omega_3(t)],\n",
       "[3.17537942886641*(sin(theta_1(t))*sin(theta_3(t)) + sin(theta_2(t))*cos(theta_1(t))*cos(theta_3(t)))*(-f_11*(fp_12 - p_3(t)) + f_12*(fp_11 - p_2(t)) - f_2*(fp_3 - p_3(t)) + f_3*(fp_2 - p_2(t)) - f_5*(fp_6 - p_3(t)) + f_6*(fp_5 - p_2(t)) - f_8*(fp_9 - p_3(t)) + f_9*(fp_8 - p_2(t))) + 3.17537942886641*(sin(theta_1(t))*cos(theta_3(t)) - sin(theta_2(t))*sin(theta_3(t))*cos(theta_1(t)))*(-f_1*(fp_3 - p_3(t)) - f_10*(fp_12 - p_3(t)) + f_12*(fp_10 - p_1(t)) + f_3*(fp_1 - p_1(t)) - f_4*(fp_6 - p_3(t)) + f_6*(fp_4 - p_1(t)) - f_7*(fp_9 - p_3(t)) + f_9*(fp_7 - p_1(t))) + 3.17537942886641*(-f_1*(fp_2 - p_2(t)) - f_10*(fp_11 - p_2(t)) + f_11*(fp_10 - p_1(t)) + f_2*(fp_1 - p_1(t)) - f_4*(fp_5 - p_2(t)) + f_5*(fp_4 - p_1(t)) - f_7*(fp_8 - p_2(t)) + f_8*(fp_7 - p_1(t)))*cos(theta_1(t))*cos(theta_2(t)) - 0.816136258960703*omega_1(t)*omega_2(t)]])"
      ]
     },
     "execution_count": 11,
     "metadata": {},
     "output_type": "execute_result"
    }
   ],
   "source": [
    "p_dot = Matrix(symbols(\"p_dot_1:4\"))\n",
    "rhs_vec = rhs.reshape(12, 1)\n",
    "for i in range(3):\n",
    "    rhs_vec = rhs_vec.subs(diff(p[i], t), p_dot[i])\n",
    "rhs_vec\n"
   ]
  },
  {
   "cell_type": "code",
   "execution_count": 12,
   "metadata": {},
   "outputs": [
    {
     "name": "stdout",
     "output_type": "stream",
     "text": [
      "sympy function\n",
      "[[  5.90909091]\n",
      " [  6.72727273]\n",
      " [  7.54545455]\n",
      " [-17.87348989]\n",
      " [ -5.65715127]\n",
      " [ 28.9946412 ]\n",
      " [  0.86829947]\n",
      " [  0.91386621]\n",
      " [ -8.85056705]\n",
      " [-80.01278184]\n",
      " [ 96.99788936]\n",
      " [ -2.48111842]]\n",
      "31.5 µs ± 134 ns per loop (mean ± std. dev. of 7 runs, 10,000 loops each)\n"
     ]
    }
   ],
   "source": [
    "state_sym = p.col_join(theta).col_join(p_dot).col_join(omega)\n",
    "parameters_sym = fps.T.reshape(12, 1).col_join(fs.T.reshape(12, 1))\n",
    "\n",
    "state_real = np.linspace(1, 10, 12)\n",
    "parameters_real = np.linspace(0.4, 4, 24)\n",
    "\n",
    "sp_rhs_function = lambdify([state_sym, parameters_sym], rhs_vec)\n",
    "print(\"sympy function\")\n",
    "print(sp_rhs_function(state_real, parameters_real))\n",
    "%timeit sp_rhs_function(state_real, parameters_real)\n",
    "# with open(\"y.txt\", \"w\") as outf:\n",
    "#     pickle.dump(m, outf)"
   ]
  },
  {
   "cell_type": "code",
   "execution_count": 13,
   "metadata": {},
   "outputs": [
    {
     "name": "stdout",
     "output_type": "stream",
     "text": [
      "[[  5.90909091]\n",
      " [  6.72727273]\n",
      " [  7.54545455]\n",
      " [-17.87348989]\n",
      " [ -5.65715127]\n",
      " [ 28.9946412 ]\n",
      " [  0.86829947]\n",
      " [  0.91386621]\n",
      " [ -8.85056705]\n",
      " [-80.01278184]\n",
      " [ 96.99788936]\n",
      " [ -2.48111842]]\n"
     ]
    }
   ],
   "source": [
    "x = ca.SX.sym(\"x\", 12)\n",
    "u = ca.SX.sym(\"u\", 24)\n",
    "ca_rhs = ca.simplify(sp_rhs_function(ca.vertsplit(x), ca.vertsplit(u)))\n",
    "ca_rhs_fun = ca.Function(\"rhs\", [x, u], [ca_rhs])\n",
    "\n",
    "print(ca_rhs_fun(state_real, parameters_real).full())\n",
    "\n",
    "# %timeit -r 20 ca_rhs_fun(state_real, parameters_real)\n",
    "with open(\"casadi_rhs.txt\", \"wb\") as outf:\n",
    "    pickle.dump(ca_rhs_fun, outf)"
   ]
  },
  {
   "cell_type": "code",
   "execution_count": 14,
   "metadata": {},
   "outputs": [
    {
     "name": "stdout",
     "output_type": "stream",
     "text": [
      "[5.90909, 6.72727, 7.54545, -17.8735, -5.65715, 28.9946, 0.868299, 0.913866, -8.85057, -80.0128, 96.9979, -2.48112]\n"
     ]
    }
   ],
   "source": [
    "ca_rhs_fun.generate(\"quad_casadi_dynamics.c\")\n",
    "C = ca.Importer('quad_casadi_dynamics.c', 'shell')\n",
    "f = ca.external('rhs', C)\n",
    "print(f(state_real, parameters_real))\n",
    "# %timeit -r 20 f(state_real, parameters_real)\n"
   ]
  },
  {
   "cell_type": "code",
   "execution_count": 15,
   "metadata": {},
   "outputs": [
    {
     "data": {
      "text/plain": [
       "array([[  5.90909091],\n",
       "       [  6.72727273],\n",
       "       [  7.54545455],\n",
       "       [-17.87348989],\n",
       "       [ -5.65715127],\n",
       "       [ 28.9946412 ],\n",
       "       [  0.86829947],\n",
       "       [  0.91386621],\n",
       "       [ -8.85056705],\n",
       "       [-80.01278184],\n",
       "       [ 96.99788936],\n",
       "       [ -2.48111842]])"
      ]
     },
     "execution_count": 15,
     "metadata": {},
     "output_type": "execute_result"
    }
   ],
   "source": [
    "with open(\"casadi_rhs.txt\", \"rb\") as outf:\n",
    "    ca_rhs = pickle.load(outf)\n",
    "# %timeit -r 20 ca_rhs(state_real, parameters_real)\n",
    "ca_rhs(state_real, parameters_real).full()"
   ]
  },
  {
   "cell_type": "code",
   "execution_count": 16,
   "metadata": {},
   "outputs": [
    {
     "data": {
      "text/plain": [
       "Function(rhs:(i0[12],i1[24])->(o0[12]) SXFunction)"
      ]
     },
     "execution_count": 16,
     "metadata": {},
     "output_type": "execute_result"
    }
   ],
   "source": [
    "ca_rhs_fun()"
   ]
  },
  {
   "cell_type": "code",
   "execution_count": null,
   "metadata": {},
   "outputs": [],
   "source": []
  },
  {
   "cell_type": "code",
   "execution_count": 59,
   "metadata": {},
   "outputs": [
    {
     "data": {
      "text/plain": [
       "MX(rhs(x[0, 0, 0, 0, 0, 0, 0, 0, 0, 0, 0, 0], u[0, 0, 0, 0, 0, 0, 0, 0, 0, 0, 0, 0, 0, 0, 0, 0, 0, 0, 0, 0, 0, 0, 0, 0]){0})"
      ]
     },
     "execution_count": 59,
     "metadata": {},
     "output_type": "execute_result"
    }
   ],
   "source": [
    "dae = ca.DaeBuilder('vdp')\n",
    "\n",
    "x_dae = dae.add_x(\"x\")\n",
    "u_dae = dae.add_u(\"u\")\n",
    "# x_dae = []\n",
    "# u_dae = []\n",
    "# for i in range(12):\n",
    "#     x_dae.append(dae.add_x(\"x{}\".format(i)))\n",
    "# for i in range(24):\n",
    "#     u_dae.append(dae.add_u(\"u{}\".format(i)))\n",
    "\n",
    "dae.set_ode(\"x\", ca_rhs_fun(x_dae, u_dae))\n",
    "ca_rhs_fun(x_dae, u_dae)\n"
   ]
  },
  {
   "cell_type": "code",
   "execution_count": 60,
   "metadata": {},
   "outputs": [
    {
     "name": "stdout",
     "output_type": "stream",
     "text": [
      "Generated files: ['vdp.c', 'vdp.h', 'vdp_wrap.c', 'buildDescription.xml', 'modelDescription.xml']\n"
     ]
    },
    {
     "name": "stderr",
     "output_type": "stream",
     "text": [
      "CasADi - 2023-06-23 18:14:28 WARNING(\"FMU generation is experimental and incomplete\") [.../casadi/core/dae_builder_internal.cpp:684]\n"
     ]
    }
   ],
   "source": [
    "funcs = dae.export_fmu()\n",
    "print('Generated files: {}'.format(funcs))"
   ]
  },
  {
   "cell_type": "code",
   "execution_count": 61,
   "metadata": {},
   "outputs": [
    {
     "name": "stdout",
     "output_type": "stream",
     "text": [
      "Compiled vdp.so\n",
      "Created FMU: vdp_generated.fmu\n"
     ]
    }
   ],
   "source": [
    "import os\n",
    "\n",
    "os.system(\n",
    "    'gcc --shared -fPIC -I/home/slava/Desktop/Docker/casadi/external_packages/FMI-Standard-3.0/headers/ vdp.c vdp_wrap.c -o vdp.so'\n",
    ")\n",
    "print('Compiled vdp.so')\n",
    "import zipfile\n",
    "with zipfile.ZipFile('vdp_generated.fmu', 'w') as fmufile:\n",
    "    # Add generated files to the archive\n",
    "    for f in funcs:\n",
    "        arcname = f if f == 'modelDescription.xml' else 'sources/' + f\n",
    "        fmufile.write(f, arcname=arcname)\n",
    "        # os.remove(f)\n",
    "    # Add compile DLL to the archive (assume Linux 64 but)\n",
    "    fmufile.write('vdp.so', arcname='binaries/x86-linux/vdp.so')\n",
    "    # os.remove('vdp.so')\n",
    "print('Created FMU: vdp_generated.fmu')\n"
   ]
  },
  {
   "cell_type": "code",
   "execution_count": null,
   "metadata": {},
   "outputs": [],
   "source": []
  },
  {
   "cell_type": "code",
   "execution_count": 63,
   "metadata": {},
   "outputs": [],
   "source": [
    "import zipfile\n",
    "with zipfile.ZipFile('vdp_generated.fmu', 'r') as zip_ref:\n",
    "    zip_ref.extractall('vdp_generated')\n"
   ]
  },
  {
   "cell_type": "code",
   "execution_count": null,
   "metadata": {},
   "outputs": [],
   "source": []
  }
 ],
 "metadata": {
  "kernelspec": {
   "display_name": "Python 3",
   "language": "python",
   "name": "python3"
  },
  "language_info": {
   "codemirror_mode": {
    "name": "ipython",
    "version": 3
   },
   "file_extension": ".py",
   "mimetype": "text/x-python",
   "name": "python",
   "nbconvert_exporter": "python",
   "pygments_lexer": "ipython3",
   "version": "3.9.16"
  },
  "orig_nbformat": 4
 },
 "nbformat": 4,
 "nbformat_minor": 2
}
